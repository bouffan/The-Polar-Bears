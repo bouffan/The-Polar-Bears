{
 "cells": [
  {
   "cell_type": "code",
   "execution_count": null,
   "metadata": {},
   "outputs": [],
   "source": [
    "import pandas as pd\n",
    "import numpy as np\n",
    "import matplotlib.pyplot as plt"
   ]
  },
  {
   "cell_type": "markdown",
   "metadata": {},
   "source": [
    "# Load Data"
   ]
  },
  {
   "cell_type": "code",
   "execution_count": null,
   "metadata": {},
   "outputs": [],
   "source": [
    "# Removes highly correlated feature based on a threshold\n",
    "def correlation(dataset, threshold):\n",
    "    col_corr = set() # Set of all the names of deleted columns\n",
    "    corr_matrix = dataset.corr()\n",
    "    for i in range(len(corr_matrix.columns)):\n",
    "        for j in range(i):\n",
    "            if (corr_matrix.iloc[i, j] >= threshold) and (corr_matrix.columns[j] not in col_corr):\n",
    "                colname = corr_matrix.columns[i] # getting the name of column\n",
    "                col_corr.add(colname)\n",
    "                if colname in dataset.columns:\n",
    "                    del dataset[colname] # deleting the column from the dataset\n",
    "\n",
    "    return dataset.columns"
   ]
  },
  {
   "cell_type": "code",
   "execution_count": null,
   "metadata": {},
   "outputs": [],
   "source": [
    "# Load data and process\n",
    "from sklearn.model_selection import train_test_split\n",
    "from sklearn.preprocessing import StandardScaler\n",
    "train_df = pd.read_csv(\"DRIFT_DATA_TRAIN.csv\")\n",
    "test_df = pd.read_csv(\"DRIFT_DATA_TEST.csv\")\n",
    "\n",
    "train_df = train_df.drop(['h_cs2smos', 'id_buoy'], axis=1)\n",
    "test_df = test_df.drop(['h_cs2smos', 'id_buoy'], axis=1)\n",
    "\n",
    "train_y = np.array(train_df[[\"u_buoy\", \"v_buoy\"]])\n",
    "train_df = train_df.drop(['u_buoy', 'v_buoy'], axis=1)\n",
    "\n",
    "corr_col = correlation(train_df, 0.5)\n",
    "train_df = train_df[corr_col]\n",
    "\n",
    "train_x = StandardScaler().fit_transform(np.array(train_df))\n",
    "\n",
    "train_x, val_x, train_y, val_y = train_test_split(train_x, train_y, test_size=0.30, random_state=42)"
   ]
  },
  {
   "cell_type": "code",
   "execution_count": null,
   "metadata": {},
   "outputs": [],
   "source": [
    "# Print columns to check what is getting fed\n",
    "train_df.columns"
   ]
  },
  {
   "cell_type": "markdown",
   "metadata": {},
   "source": [
    "# XGBoost"
   ]
  },
  {
   "cell_type": "code",
   "execution_count": null,
   "metadata": {},
   "outputs": [],
   "source": [
    "# Run XGBoost\n",
    "from xgboost import XGBRegressor\n",
    "from sklearn.multioutput import MultiOutputRegressor\n",
    "xgb = MultiOutputRegressor(XGBRegressor(n_estimators=1000, booster=\"gbtree\", learning_rate=0.01, verbosity=3))\n",
    "xgb.fit(train_x, train_y)"
   ]
  },
  {
   "cell_type": "code",
   "execution_count": null,
   "metadata": {},
   "outputs": [],
   "source": [
    "import pickle\n",
    "with open(\"xgb.pkl\", \"wb\") as w:\n",
    "    pickle.dump(xgb, w)"
   ]
  },
  {
   "cell_type": "code",
   "execution_count": null,
   "metadata": {},
   "outputs": [],
   "source": [
    "# Validation set prediction and plots\n",
    "with open(\"xgb.pkl\", \"rb\") as r:\n",
    "    xgb = pickle.load(r)\n",
    "predictions = xgb.predict(val_x)\n",
    "from sklearn.metrics import mean_squared_error as mse\n",
    "print(mse(predictions, val_y))\n",
    "\n",
    "axis = range(len(val_y[:100]))\n",
    "\n",
    "fig, axs = plt.subplots(2)\n",
    "fig.tight_layout()\n",
    "\n",
    "pred_u = [item[0] for item in predictions[:100]]\n",
    "act_u = [item[0] for item in val_y[:100]]\n",
    "\n",
    "pred_v = [item[1] for item in predictions[:100]]\n",
    "act_v = [item[1] for item in val_y[:100]]\n",
    "\n",
    "axs[0].plot(axis, pred_u, label=\"predicted\")\n",
    "axs[0].plot(axis, act_u, label=\"actual\")\n",
    "axs[0].title.set_text(\"U Velocity, Pred vs. Actual\")\n",
    "axs[0].set_ylabel(\"Velocity\")\n",
    "axs[0].legend(loc=\"best\")\n",
    "\n",
    "axs[1].plot(axis, pred_v, label=\"predicted\")\n",
    "axs[1].plot(axis, act_v, label=\"actual\")\n",
    "axs[1].title.set_text(\"V Velocity, Pred vs. Actual\")\n",
    "axs[1].set_ylabel(\"Velocity\")\n",
    "axs[1].legend(loc=\"best\")\n",
    "plt.show()"
   ]
  },
  {
   "cell_type": "code",
   "execution_count": null,
   "metadata": {},
   "outputs": [],
   "source": [
    "# Load test data\n",
    "test_df_final = pd.read_csv(\"DRIFT_DATA_TEST.csv\")\n",
    "test_df_features = test_df_final[corr_col]\n",
    "test_data = StandardScaler().fit_transform(np.array(test_df_features))"
   ]
  },
  {
   "cell_type": "code",
   "execution_count": null,
   "metadata": {},
   "outputs": [],
   "source": [
    "# Create results\n",
    "results = xgb.predict(test_data)\n",
    "u = [item[0] for item in results]\n",
    "v = [item[1] for item in results]"
   ]
  },
  {
   "cell_type": "code",
   "execution_count": null,
   "metadata": {},
   "outputs": [],
   "source": [
    "# Setup the csv\n",
    "test_df_final = pd.read_csv(\"DRIFT_DATA_TEST.csv\")\n",
    "test_df_final[\"u_buoy\"] = u\n",
    "test_df_final[\"v_buoy\"] = v\n",
    "test_df_final.to_csv(\"results.csv\", index=False)"
   ]
  },
  {
   "cell_type": "markdown",
   "metadata": {},
   "source": [
    "# SVM"
   ]
  },
  {
   "cell_type": "code",
   "execution_count": null,
   "metadata": {},
   "outputs": [],
   "source": [
    "from sklearn.svm import SVR\n",
    "clf = MultiOutputRegressor(SVR(kernel=\"rbf\"))\n",
    "clf.fit(train_x, train_y)\n",
    "pred_svm = clf.predict(val_x)\n",
    "mse(pred_svm, val_y)"
   ]
  },
  {
   "cell_type": "code",
   "execution_count": null,
   "metadata": {},
   "outputs": [],
   "source": []
  }
 ],
 "metadata": {
  "kernelspec": {
   "display_name": "Python 3",
   "language": "python",
   "name": "python3"
  },
  "language_info": {
   "codemirror_mode": {
    "name": "ipython",
    "version": 3
   },
   "file_extension": ".py",
   "mimetype": "text/x-python",
   "name": "python",
   "nbconvert_exporter": "python",
   "pygments_lexer": "ipython3",
   "version": "3.8.5"
  }
 },
 "nbformat": 4,
 "nbformat_minor": 4
}
