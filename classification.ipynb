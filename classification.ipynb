{
 "cells": [
  {
   "cell_type": "code",
   "execution_count": 1,
   "metadata": {},
   "outputs": [
    {
     "name": "stderr",
     "output_type": "stream",
     "text": [
      "[MLENS] backend: threading\n"
     ]
    }
   ],
   "source": [
    "import numpy as np\n",
    "import pandas as pd\n",
    "from sklearn.model_selection import train_test_split\n",
    "from sklearn.preprocessing import StandardScaler\n",
    "from sklearn.ensemble import RandomForestClassifier\n",
    "from sklearn.metrics import confusion_matrix\n",
    "import joblib\n",
    "from sklearn import preprocessing\n",
    "from imblearn.datasets import make_imbalance\n",
    "from collections import Counter\n",
    "import seaborn as sns \n",
    "import matplotlib.pyplot as plt \n",
    "from sklearn.tree import DecisionTreeClassifier\n",
    "from sklearn import metrics\n",
    "from sklearn.metrics import classification_report\n",
    "#from six import StringIO \n",
    "#from sklearn.tree import export_graphviz\n",
    "#import pydot \n",
    "# from IPython.display import Image \n",
    "from sklearn import inspection\n",
    "# import mlxtend\n",
    "# from mlxtend.evaluate import feature_importance_permutation\n",
    "#from pprint import pprint\n",
    "from sklearn.model_selection import GridSearchCV\n",
    "from sklearn.model_selection import cross_val_score\n",
    "# A host of Scikit-learn models\n",
    "#from sklearn.svm import SVC, LinearSVC\n",
    "#from sklearn.naive_bayes import GaussianNB\n",
    "from sklearn.ensemble import RandomForestClassifier, GradientBoostingClassifier\n",
    "# from sklearn.linear_model import LogisticRegression\n",
    "# from sklearn.neighbors import KNeighborsClassifier\n",
    "# from sklearn.neural_network import MLPClassifier\n",
    "# from sklearn.kernel_approximation import Nystroem\n",
    "# from sklearn.kernel_approximation import RBFSampler\n",
    "#from sklearn.pipeline import make_pipeline\n",
    "\n",
    "from sklearn.metrics import roc_auc_score\n",
    "from mlens.visualization import corrmat\n",
    "from joblib import dump, load"
   ]
  },
  {
   "cell_type": "code",
   "execution_count": null,
   "metadata": {},
   "outputs": [],
   "source": []
  },
  {
   "cell_type": "code",
   "execution_count": 2,
   "metadata": {},
   "outputs": [
    {
     "name": "stdout",
     "output_type": "stream",
     "text": [
      "Index(['day_no', 'year', 'month', 'doy', 'x_EASE', 'y_EASE', 'u_buoy',\n",
      "       'v_buoy', 'val_mag', 'vel_dir', 'ice_quadrant', 'u_ERA5', 'v_ERA5',\n",
      "       'wind_val_mag', 'wind_quadrant', 'wind_dir', 'sic_CDR', 'h_piomas',\n",
      "       'd2c'],\n",
      "      dtype='object')\n"
     ]
    }
   ],
   "source": [
    "df = pd.read_excel(r'D:\\0_sea_ice_challenge\\processing\\modified_trainset.xlsx')\n",
    "print(df.columns)\n"
   ]
  },
  {
   "cell_type": "code",
   "execution_count": 30,
   "metadata": {},
   "outputs": [
    {
     "data": {
      "text/html": [
       "<div>\n",
       "<style scoped>\n",
       "    .dataframe tbody tr th:only-of-type {\n",
       "        vertical-align: middle;\n",
       "    }\n",
       "\n",
       "    .dataframe tbody tr th {\n",
       "        vertical-align: top;\n",
       "    }\n",
       "\n",
       "    .dataframe thead th {\n",
       "        text-align: right;\n",
       "    }\n",
       "</style>\n",
       "<table border=\"1\" class=\"dataframe\">\n",
       "  <thead>\n",
       "    <tr style=\"text-align: right;\">\n",
       "      <th></th>\n",
       "      <th>day_no</th>\n",
       "      <th>year</th>\n",
       "      <th>month</th>\n",
       "      <th>doy</th>\n",
       "      <th>x_EASE</th>\n",
       "      <th>y_EASE</th>\n",
       "      <th>u_buoy</th>\n",
       "      <th>v_buoy</th>\n",
       "      <th>val_mag</th>\n",
       "      <th>vel_dir</th>\n",
       "      <th>ice_quadrant</th>\n",
       "      <th>u_ERA5</th>\n",
       "      <th>v_ERA5</th>\n",
       "      <th>wind_val_mag</th>\n",
       "      <th>wind_quadrant</th>\n",
       "      <th>wind_dir</th>\n",
       "      <th>sic_CDR</th>\n",
       "      <th>h_piomas</th>\n",
       "      <th>d2c</th>\n",
       "    </tr>\n",
       "  </thead>\n",
       "  <tbody>\n",
       "    <tr>\n",
       "      <th>0</th>\n",
       "      <td>0</td>\n",
       "      <td>1979</td>\n",
       "      <td>2</td>\n",
       "      <td>49</td>\n",
       "      <td>147.506958</td>\n",
       "      <td>138.582672</td>\n",
       "      <td>-0.797554</td>\n",
       "      <td>1.114740</td>\n",
       "      <td>1.370671</td>\n",
       "      <td>125.582277</td>\n",
       "      <td>2</td>\n",
       "      <td>-6.704156</td>\n",
       "      <td>-0.321260</td>\n",
       "      <td>6.711849</td>\n",
       "      <td>3</td>\n",
       "      <td>182.743485</td>\n",
       "      <td>0.990195</td>\n",
       "      <td>3.189743</td>\n",
       "      <td>522.523298</td>\n",
       "    </tr>\n",
       "    <tr>\n",
       "      <th>1</th>\n",
       "      <td>0</td>\n",
       "      <td>1979</td>\n",
       "      <td>2</td>\n",
       "      <td>49</td>\n",
       "      <td>146.834778</td>\n",
       "      <td>120.509880</td>\n",
       "      <td>0.643200</td>\n",
       "      <td>0.368754</td>\n",
       "      <td>0.741408</td>\n",
       "      <td>29.826147</td>\n",
       "      <td>1</td>\n",
       "      <td>-6.818630</td>\n",
       "      <td>-0.674205</td>\n",
       "      <td>6.851881</td>\n",
       "      <td>3</td>\n",
       "      <td>185.646875</td>\n",
       "      <td>0.966372</td>\n",
       "      <td>2.484009</td>\n",
       "      <td>412.767669</td>\n",
       "    </tr>\n",
       "    <tr>\n",
       "      <th>2</th>\n",
       "      <td>0</td>\n",
       "      <td>1979</td>\n",
       "      <td>2</td>\n",
       "      <td>49</td>\n",
       "      <td>130.993561</td>\n",
       "      <td>129.623672</td>\n",
       "      <td>-1.162420</td>\n",
       "      <td>0.243717</td>\n",
       "      <td>1.187695</td>\n",
       "      <td>168.158690</td>\n",
       "      <td>2</td>\n",
       "      <td>-8.825469</td>\n",
       "      <td>1.123955</td>\n",
       "      <td>8.896751</td>\n",
       "      <td>2</td>\n",
       "      <td>172.742248</td>\n",
       "      <td>0.996022</td>\n",
       "      <td>2.474106</td>\n",
       "      <td>362.547379</td>\n",
       "    </tr>\n",
       "    <tr>\n",
       "      <th>3</th>\n",
       "      <td>0</td>\n",
       "      <td>1979</td>\n",
       "      <td>2</td>\n",
       "      <td>49</td>\n",
       "      <td>147.524719</td>\n",
       "      <td>157.382492</td>\n",
       "      <td>0.919766</td>\n",
       "      <td>0.025784</td>\n",
       "      <td>0.920127</td>\n",
       "      <td>1.605796</td>\n",
       "      <td>1</td>\n",
       "      <td>-1.079951</td>\n",
       "      <td>-1.035410</td>\n",
       "      <td>1.496117</td>\n",
       "      <td>3</td>\n",
       "      <td>223.793757</td>\n",
       "      <td>0.982681</td>\n",
       "      <td>3.740522</td>\n",
       "      <td>381.025629</td>\n",
       "    </tr>\n",
       "    <tr>\n",
       "      <th>4</th>\n",
       "      <td>1</td>\n",
       "      <td>1979</td>\n",
       "      <td>2</td>\n",
       "      <td>50</td>\n",
       "      <td>147.470963</td>\n",
       "      <td>138.599823</td>\n",
       "      <td>0.380940</td>\n",
       "      <td>1.243485</td>\n",
       "      <td>1.300527</td>\n",
       "      <td>72.967623</td>\n",
       "      <td>1</td>\n",
       "      <td>-2.169171</td>\n",
       "      <td>2.537787</td>\n",
       "      <td>3.338513</td>\n",
       "      <td>2</td>\n",
       "      <td>130.522141</td>\n",
       "      <td>0.990302</td>\n",
       "      <td>3.188522</td>\n",
       "      <td>521.535334</td>\n",
       "    </tr>\n",
       "  </tbody>\n",
       "</table>\n",
       "</div>"
      ],
      "text/plain": [
       "   day_no  year  month  doy      x_EASE      y_EASE    u_buoy    v_buoy  \\\n",
       "0       0  1979      2   49  147.506958  138.582672 -0.797554  1.114740   \n",
       "1       0  1979      2   49  146.834778  120.509880  0.643200  0.368754   \n",
       "2       0  1979      2   49  130.993561  129.623672 -1.162420  0.243717   \n",
       "3       0  1979      2   49  147.524719  157.382492  0.919766  0.025784   \n",
       "4       1  1979      2   50  147.470963  138.599823  0.380940  1.243485   \n",
       "\n",
       "    val_mag     vel_dir  ice_quadrant    u_ERA5    v_ERA5  wind_val_mag  \\\n",
       "0  1.370671  125.582277             2 -6.704156 -0.321260      6.711849   \n",
       "1  0.741408   29.826147             1 -6.818630 -0.674205      6.851881   \n",
       "2  1.187695  168.158690             2 -8.825469  1.123955      8.896751   \n",
       "3  0.920127    1.605796             1 -1.079951 -1.035410      1.496117   \n",
       "4  1.300527   72.967623             1 -2.169171  2.537787      3.338513   \n",
       "\n",
       "   wind_quadrant    wind_dir   sic_CDR  h_piomas         d2c  \n",
       "0              3  182.743485  0.990195  3.189743  522.523298  \n",
       "1              3  185.646875  0.966372  2.484009  412.767669  \n",
       "2              2  172.742248  0.996022  2.474106  362.547379  \n",
       "3              3  223.793757  0.982681  3.740522  381.025629  \n",
       "4              2  130.522141  0.990302  3.188522  521.535334  "
      ]
     },
     "execution_count": 30,
     "metadata": {},
     "output_type": "execute_result"
    }
   ],
   "source": [
    "var=df.copy()\n",
    "var.head()"
   ]
  },
  {
   "cell_type": "code",
   "execution_count": 31,
   "metadata": {},
   "outputs": [
    {
     "data": {
      "text/html": [
       "<div>\n",
       "<style scoped>\n",
       "    .dataframe tbody tr th:only-of-type {\n",
       "        vertical-align: middle;\n",
       "    }\n",
       "\n",
       "    .dataframe tbody tr th {\n",
       "        vertical-align: top;\n",
       "    }\n",
       "\n",
       "    .dataframe thead th {\n",
       "        text-align: right;\n",
       "    }\n",
       "</style>\n",
       "<table border=\"1\" class=\"dataframe\">\n",
       "  <thead>\n",
       "    <tr style=\"text-align: right;\">\n",
       "      <th></th>\n",
       "      <th>day_no</th>\n",
       "      <th>year</th>\n",
       "      <th>month</th>\n",
       "      <th>doy</th>\n",
       "      <th>x_EASE</th>\n",
       "      <th>y_EASE</th>\n",
       "      <th>u_buoy</th>\n",
       "      <th>v_buoy</th>\n",
       "      <th>val_mag</th>\n",
       "      <th>vel_dir</th>\n",
       "      <th>ice_quadrant</th>\n",
       "      <th>u_ERA5</th>\n",
       "      <th>v_ERA5</th>\n",
       "      <th>wind_val_mag</th>\n",
       "      <th>wind_quadrant</th>\n",
       "      <th>wind_dir</th>\n",
       "      <th>sic_CDR</th>\n",
       "      <th>h_piomas</th>\n",
       "      <th>d2c</th>\n",
       "    </tr>\n",
       "  </thead>\n",
       "  <tbody>\n",
       "    <tr>\n",
       "      <th>0</th>\n",
       "      <td>0</td>\n",
       "      <td>1979</td>\n",
       "      <td>2</td>\n",
       "      <td>49</td>\n",
       "      <td>147.506958</td>\n",
       "      <td>138.582672</td>\n",
       "      <td>-0.797554</td>\n",
       "      <td>1.114740</td>\n",
       "      <td>1.370671</td>\n",
       "      <td>125.582277</td>\n",
       "      <td>2</td>\n",
       "      <td>-6.704156</td>\n",
       "      <td>-0.321260</td>\n",
       "      <td>6.711849</td>\n",
       "      <td>3</td>\n",
       "      <td>182.743485</td>\n",
       "      <td>0.990195</td>\n",
       "      <td>3.189743</td>\n",
       "      <td>522.523298</td>\n",
       "    </tr>\n",
       "    <tr>\n",
       "      <th>1</th>\n",
       "      <td>0</td>\n",
       "      <td>1979</td>\n",
       "      <td>2</td>\n",
       "      <td>49</td>\n",
       "      <td>146.834778</td>\n",
       "      <td>120.509880</td>\n",
       "      <td>0.643200</td>\n",
       "      <td>0.368754</td>\n",
       "      <td>0.741408</td>\n",
       "      <td>29.826147</td>\n",
       "      <td>1</td>\n",
       "      <td>-6.818630</td>\n",
       "      <td>-0.674205</td>\n",
       "      <td>6.851881</td>\n",
       "      <td>3</td>\n",
       "      <td>185.646875</td>\n",
       "      <td>0.966372</td>\n",
       "      <td>2.484009</td>\n",
       "      <td>412.767669</td>\n",
       "    </tr>\n",
       "    <tr>\n",
       "      <th>2</th>\n",
       "      <td>0</td>\n",
       "      <td>1979</td>\n",
       "      <td>2</td>\n",
       "      <td>49</td>\n",
       "      <td>130.993561</td>\n",
       "      <td>129.623672</td>\n",
       "      <td>-1.162420</td>\n",
       "      <td>0.243717</td>\n",
       "      <td>1.187695</td>\n",
       "      <td>168.158690</td>\n",
       "      <td>2</td>\n",
       "      <td>-8.825469</td>\n",
       "      <td>1.123955</td>\n",
       "      <td>8.896751</td>\n",
       "      <td>2</td>\n",
       "      <td>172.742248</td>\n",
       "      <td>0.996022</td>\n",
       "      <td>2.474106</td>\n",
       "      <td>362.547379</td>\n",
       "    </tr>\n",
       "    <tr>\n",
       "      <th>3</th>\n",
       "      <td>0</td>\n",
       "      <td>1979</td>\n",
       "      <td>2</td>\n",
       "      <td>49</td>\n",
       "      <td>147.524719</td>\n",
       "      <td>157.382492</td>\n",
       "      <td>0.919766</td>\n",
       "      <td>0.025784</td>\n",
       "      <td>0.920127</td>\n",
       "      <td>1.605796</td>\n",
       "      <td>1</td>\n",
       "      <td>-1.079951</td>\n",
       "      <td>-1.035410</td>\n",
       "      <td>1.496117</td>\n",
       "      <td>3</td>\n",
       "      <td>223.793757</td>\n",
       "      <td>0.982681</td>\n",
       "      <td>3.740522</td>\n",
       "      <td>381.025629</td>\n",
       "    </tr>\n",
       "    <tr>\n",
       "      <th>4</th>\n",
       "      <td>1</td>\n",
       "      <td>1979</td>\n",
       "      <td>2</td>\n",
       "      <td>50</td>\n",
       "      <td>147.470963</td>\n",
       "      <td>138.599823</td>\n",
       "      <td>0.380940</td>\n",
       "      <td>1.243485</td>\n",
       "      <td>1.300527</td>\n",
       "      <td>72.967623</td>\n",
       "      <td>1</td>\n",
       "      <td>-2.169171</td>\n",
       "      <td>2.537787</td>\n",
       "      <td>3.338513</td>\n",
       "      <td>2</td>\n",
       "      <td>130.522141</td>\n",
       "      <td>0.990302</td>\n",
       "      <td>3.188522</td>\n",
       "      <td>521.535334</td>\n",
       "    </tr>\n",
       "  </tbody>\n",
       "</table>\n",
       "</div>"
      ],
      "text/plain": [
       "   day_no  year  month  doy      x_EASE      y_EASE    u_buoy    v_buoy  \\\n",
       "0       0  1979      2   49  147.506958  138.582672 -0.797554  1.114740   \n",
       "1       0  1979      2   49  146.834778  120.509880  0.643200  0.368754   \n",
       "2       0  1979      2   49  130.993561  129.623672 -1.162420  0.243717   \n",
       "3       0  1979      2   49  147.524719  157.382492  0.919766  0.025784   \n",
       "4       1  1979      2   50  147.470963  138.599823  0.380940  1.243485   \n",
       "\n",
       "    val_mag     vel_dir  ice_quadrant    u_ERA5    v_ERA5  wind_val_mag  \\\n",
       "0  1.370671  125.582277             2 -6.704156 -0.321260      6.711849   \n",
       "1  0.741408   29.826147             1 -6.818630 -0.674205      6.851881   \n",
       "2  1.187695  168.158690             2 -8.825469  1.123955      8.896751   \n",
       "3  0.920127    1.605796             1 -1.079951 -1.035410      1.496117   \n",
       "4  1.300527   72.967623             1 -2.169171  2.537787      3.338513   \n",
       "\n",
       "   wind_quadrant    wind_dir   sic_CDR  h_piomas         d2c  \n",
       "0              3  182.743485  0.990195  3.189743  522.523298  \n",
       "1              3  185.646875  0.966372  2.484009  412.767669  \n",
       "2              2  172.742248  0.996022  2.474106  362.547379  \n",
       "3              3  223.793757  0.982681  3.740522  381.025629  \n",
       "4              2  130.522141  0.990302  3.188522  521.535334  "
      ]
     },
     "execution_count": 31,
     "metadata": {},
     "output_type": "execute_result"
    }
   ],
   "source": [
    "var.head()"
   ]
  },
  {
   "cell_type": "code",
   "execution_count": 32,
   "metadata": {},
   "outputs": [],
   "source": [
    "var = var[['day_no', 'year', 'month', 'doy', 'x_EASE', 'y_EASE', 'u_buoy',\n",
    "       'v_buoy', 'val_mag', 'u_ERA5', 'v_ERA5','sic_CDR', 'h_piomas','d2c']]"
   ]
  },
  {
   "cell_type": "code",
   "execution_count": 33,
   "metadata": {},
   "outputs": [
    {
     "data": {
      "text/plain": [
       "(339203, 14)"
      ]
     },
     "execution_count": 33,
     "metadata": {},
     "output_type": "execute_result"
    }
   ],
   "source": [
    "var.shape"
   ]
  },
  {
   "cell_type": "code",
   "execution_count": 34,
   "metadata": {},
   "outputs": [
    {
     "data": {
      "text/plain": [
       "Index(['day_no', 'year', 'month', 'doy', 'x_EASE', 'y_EASE', 'u_buoy',\n",
       "       'v_buoy', 'val_mag', 'u_ERA5', 'v_ERA5', 'sic_CDR', 'h_piomas', 'd2c'],\n",
       "      dtype='object')"
      ]
     },
     "execution_count": 34,
     "metadata": {},
     "output_type": "execute_result"
    }
   ],
   "source": [
    "var.columns"
   ]
  },
  {
   "cell_type": "code",
   "execution_count": 35,
   "metadata": {},
   "outputs": [
    {
     "data": {
      "text/plain": [
       "day_no        int64\n",
       "year          int64\n",
       "month         int64\n",
       "doy           int64\n",
       "x_EASE      float64\n",
       "y_EASE      float64\n",
       "u_buoy      float64\n",
       "v_buoy      float64\n",
       "val_mag     float64\n",
       "u_ERA5      float64\n",
       "v_ERA5      float64\n",
       "sic_CDR     float64\n",
       "h_piomas    float64\n",
       "d2c         float64\n",
       "dtype: object"
      ]
     },
     "execution_count": 35,
     "metadata": {},
     "output_type": "execute_result"
    }
   ],
   "source": [
    "var.dtypes"
   ]
  },
  {
   "cell_type": "code",
   "execution_count": 36,
   "metadata": {},
   "outputs": [
    {
     "data": {
      "text/html": [
       "<div>\n",
       "<style scoped>\n",
       "    .dataframe tbody tr th:only-of-type {\n",
       "        vertical-align: middle;\n",
       "    }\n",
       "\n",
       "    .dataframe tbody tr th {\n",
       "        vertical-align: top;\n",
       "    }\n",
       "\n",
       "    .dataframe thead th {\n",
       "        text-align: right;\n",
       "    }\n",
       "</style>\n",
       "<table border=\"1\" class=\"dataframe\">\n",
       "  <thead>\n",
       "    <tr style=\"text-align: right;\">\n",
       "      <th></th>\n",
       "      <th>day_no</th>\n",
       "      <th>year</th>\n",
       "      <th>month</th>\n",
       "      <th>doy</th>\n",
       "      <th>x_EASE</th>\n",
       "      <th>y_EASE</th>\n",
       "      <th>u_buoy</th>\n",
       "      <th>v_buoy</th>\n",
       "      <th>val_mag</th>\n",
       "      <th>u_ERA5</th>\n",
       "      <th>v_ERA5</th>\n",
       "      <th>sic_CDR</th>\n",
       "      <th>h_piomas</th>\n",
       "      <th>d2c</th>\n",
       "    </tr>\n",
       "  </thead>\n",
       "  <tbody>\n",
       "    <tr>\n",
       "      <th>count</th>\n",
       "      <td>339203.000000</td>\n",
       "      <td>339203.000000</td>\n",
       "      <td>339203.000000</td>\n",
       "      <td>339203.000000</td>\n",
       "      <td>339203.000000</td>\n",
       "      <td>339203.000000</td>\n",
       "      <td>339203.000000</td>\n",
       "      <td>339203.000000</td>\n",
       "      <td>339203.000000</td>\n",
       "      <td>339203.000000</td>\n",
       "      <td>339203.000000</td>\n",
       "      <td>339203.000000</td>\n",
       "      <td>339203.000000</td>\n",
       "      <td>339203.000000</td>\n",
       "    </tr>\n",
       "    <tr>\n",
       "      <th>mean</th>\n",
       "      <td>10374.519264</td>\n",
       "      <td>2007.017715</td>\n",
       "      <td>6.746862</td>\n",
       "      <td>189.943291</td>\n",
       "      <td>163.580333</td>\n",
       "      <td>156.494980</td>\n",
       "      <td>-0.333268</td>\n",
       "      <td>1.360217</td>\n",
       "      <td>8.354355</td>\n",
       "      <td>-0.096073</td>\n",
       "      <td>0.335635</td>\n",
       "      <td>0.955251</td>\n",
       "      <td>2.069756</td>\n",
       "      <td>418.241205</td>\n",
       "    </tr>\n",
       "    <tr>\n",
       "      <th>std</th>\n",
       "      <td>3587.901557</td>\n",
       "      <td>9.817846</td>\n",
       "      <td>3.453604</td>\n",
       "      <td>105.545448</td>\n",
       "      <td>24.443882</td>\n",
       "      <td>34.704966</td>\n",
       "      <td>8.075045</td>\n",
       "      <td>7.860813</td>\n",
       "      <td>7.691850</td>\n",
       "      <td>4.320043</td>\n",
       "      <td>4.123823</td>\n",
       "      <td>0.124664</td>\n",
       "      <td>0.922228</td>\n",
       "      <td>259.875226</td>\n",
       "    </tr>\n",
       "    <tr>\n",
       "      <th>min</th>\n",
       "      <td>0.000000</td>\n",
       "      <td>1979.000000</td>\n",
       "      <td>1.000000</td>\n",
       "      <td>1.000000</td>\n",
       "      <td>39.168983</td>\n",
       "      <td>36.870293</td>\n",
       "      <td>-74.682899</td>\n",
       "      <td>-66.781601</td>\n",
       "      <td>0.000000</td>\n",
       "      <td>-23.084634</td>\n",
       "      <td>-20.146717</td>\n",
       "      <td>0.000027</td>\n",
       "      <td>0.000000</td>\n",
       "      <td>0.359009</td>\n",
       "    </tr>\n",
       "    <tr>\n",
       "      <th>25%</th>\n",
       "      <td>7860.500000</td>\n",
       "      <td>2000.000000</td>\n",
       "      <td>4.000000</td>\n",
       "      <td>101.000000</td>\n",
       "      <td>146.797035</td>\n",
       "      <td>129.199318</td>\n",
       "      <td>-3.725245</td>\n",
       "      <td>-2.324845</td>\n",
       "      <td>2.888850</td>\n",
       "      <td>-3.149338</td>\n",
       "      <td>-2.617492</td>\n",
       "      <td>0.976678</td>\n",
       "      <td>1.478115</td>\n",
       "      <td>210.261503</td>\n",
       "    </tr>\n",
       "    <tr>\n",
       "      <th>50%</th>\n",
       "      <td>11106.000000</td>\n",
       "      <td>2009.000000</td>\n",
       "      <td>7.000000</td>\n",
       "      <td>190.000000</td>\n",
       "      <td>161.220627</td>\n",
       "      <td>152.304901</td>\n",
       "      <td>-0.024725</td>\n",
       "      <td>0.321954</td>\n",
       "      <td>6.665244</td>\n",
       "      <td>-0.165271</td>\n",
       "      <td>0.289756</td>\n",
       "      <td>1.000000</td>\n",
       "      <td>2.041318</td>\n",
       "      <td>389.715241</td>\n",
       "    </tr>\n",
       "    <tr>\n",
       "      <th>75%</th>\n",
       "      <td>13293.000000</td>\n",
       "      <td>2015.000000</td>\n",
       "      <td>10.000000</td>\n",
       "      <td>285.000000</td>\n",
       "      <td>181.103218</td>\n",
       "      <td>179.585617</td>\n",
       "      <td>2.943056</td>\n",
       "      <td>4.967892</td>\n",
       "      <td>11.675371</td>\n",
       "      <td>2.933966</td>\n",
       "      <td>3.203830</td>\n",
       "      <td>1.000000</td>\n",
       "      <td>2.619862</td>\n",
       "      <td>599.311791</td>\n",
       "    </tr>\n",
       "    <tr>\n",
       "      <th>max</th>\n",
       "      <td>14925.000000</td>\n",
       "      <td>2019.000000</td>\n",
       "      <td>12.000000</td>\n",
       "      <td>364.000000</td>\n",
       "      <td>279.391541</td>\n",
       "      <td>279.562073</td>\n",
       "      <td>68.396103</td>\n",
       "      <td>68.639801</td>\n",
       "      <td>75.609704</td>\n",
       "      <td>17.911558</td>\n",
       "      <td>22.862028</td>\n",
       "      <td>1.000000</td>\n",
       "      <td>6.284669</td>\n",
       "      <td>1120.364872</td>\n",
       "    </tr>\n",
       "  </tbody>\n",
       "</table>\n",
       "</div>"
      ],
      "text/plain": [
       "              day_no           year          month            doy  \\\n",
       "count  339203.000000  339203.000000  339203.000000  339203.000000   \n",
       "mean    10374.519264    2007.017715       6.746862     189.943291   \n",
       "std      3587.901557       9.817846       3.453604     105.545448   \n",
       "min         0.000000    1979.000000       1.000000       1.000000   \n",
       "25%      7860.500000    2000.000000       4.000000     101.000000   \n",
       "50%     11106.000000    2009.000000       7.000000     190.000000   \n",
       "75%     13293.000000    2015.000000      10.000000     285.000000   \n",
       "max     14925.000000    2019.000000      12.000000     364.000000   \n",
       "\n",
       "              x_EASE         y_EASE         u_buoy         v_buoy  \\\n",
       "count  339203.000000  339203.000000  339203.000000  339203.000000   \n",
       "mean      163.580333     156.494980      -0.333268       1.360217   \n",
       "std        24.443882      34.704966       8.075045       7.860813   \n",
       "min        39.168983      36.870293     -74.682899     -66.781601   \n",
       "25%       146.797035     129.199318      -3.725245      -2.324845   \n",
       "50%       161.220627     152.304901      -0.024725       0.321954   \n",
       "75%       181.103218     179.585617       2.943056       4.967892   \n",
       "max       279.391541     279.562073      68.396103      68.639801   \n",
       "\n",
       "             val_mag         u_ERA5         v_ERA5        sic_CDR  \\\n",
       "count  339203.000000  339203.000000  339203.000000  339203.000000   \n",
       "mean        8.354355      -0.096073       0.335635       0.955251   \n",
       "std         7.691850       4.320043       4.123823       0.124664   \n",
       "min         0.000000     -23.084634     -20.146717       0.000027   \n",
       "25%         2.888850      -3.149338      -2.617492       0.976678   \n",
       "50%         6.665244      -0.165271       0.289756       1.000000   \n",
       "75%        11.675371       2.933966       3.203830       1.000000   \n",
       "max        75.609704      17.911558      22.862028       1.000000   \n",
       "\n",
       "            h_piomas            d2c  \n",
       "count  339203.000000  339203.000000  \n",
       "mean        2.069756     418.241205  \n",
       "std         0.922228     259.875226  \n",
       "min         0.000000       0.359009  \n",
       "25%         1.478115     210.261503  \n",
       "50%         2.041318     389.715241  \n",
       "75%         2.619862     599.311791  \n",
       "max         6.284669    1120.364872  "
      ]
     },
     "execution_count": 36,
     "metadata": {},
     "output_type": "execute_result"
    }
   ],
   "source": [
    "var.describe()"
   ]
  },
  {
   "cell_type": "code",
   "execution_count": 37,
   "metadata": {},
   "outputs": [],
   "source": [
    "range1 = list(np.arange(0,1,.1)) + list(np.arange(.91,.99,.01)) + list(np.arange(.99,1.0001,.001))\n",
    "p = var.val_mag.quantile(range1)"
   ]
  },
  {
   "cell_type": "code",
   "execution_count": 38,
   "metadata": {},
   "outputs": [
    {
     "data": {
      "text/html": [
       "<div>\n",
       "<style scoped>\n",
       "    .dataframe tbody tr th:only-of-type {\n",
       "        vertical-align: middle;\n",
       "    }\n",
       "\n",
       "    .dataframe tbody tr th {\n",
       "        vertical-align: top;\n",
       "    }\n",
       "\n",
       "    .dataframe thead th {\n",
       "        text-align: right;\n",
       "    }\n",
       "</style>\n",
       "<table border=\"1\" class=\"dataframe\">\n",
       "  <thead>\n",
       "    <tr style=\"text-align: right;\">\n",
       "      <th></th>\n",
       "      <th>val_mag</th>\n",
       "    </tr>\n",
       "  </thead>\n",
       "  <tbody>\n",
       "    <tr>\n",
       "      <th>0.0</th>\n",
       "      <td>0.000000</td>\n",
       "    </tr>\n",
       "    <tr>\n",
       "      <th>0.1</th>\n",
       "      <td>0.502237</td>\n",
       "    </tr>\n",
       "    <tr>\n",
       "      <th>0.2</th>\n",
       "      <td>2.107865</td>\n",
       "    </tr>\n",
       "    <tr>\n",
       "      <th>0.3</th>\n",
       "      <td>3.636044</td>\n",
       "    </tr>\n",
       "    <tr>\n",
       "      <th>0.4</th>\n",
       "      <td>5.110915</td>\n",
       "    </tr>\n",
       "  </tbody>\n",
       "</table>\n",
       "</div>"
      ],
      "text/plain": [
       "      val_mag\n",
       "0.0  0.000000\n",
       "0.1  0.502237\n",
       "0.2  2.107865\n",
       "0.3  3.636044\n",
       "0.4  5.110915"
      ]
     },
     "execution_count": 38,
     "metadata": {},
     "output_type": "execute_result"
    }
   ],
   "source": [
    "df1 = pd.DataFrame(p)\n",
    "df1.head()"
   ]
  },
  {
   "cell_type": "code",
   "execution_count": 39,
   "metadata": {},
   "outputs": [],
   "source": [
    "a=[]\n",
    "for i in df1.iterrows():\n",
    "    percentile_value = i[1]['val_mag']\n",
    "    size = var[var['val_mag']<=percentile_value].shape[0]\n",
    "    a.append(size)"
   ]
  },
  {
   "cell_type": "code",
   "execution_count": 40,
   "metadata": {},
   "outputs": [],
   "source": [
    "b=[0]+a\n",
    "del b[-1]"
   ]
  },
  {
   "cell_type": "code",
   "execution_count": 41,
   "metadata": {},
   "outputs": [
    {
     "name": "stdout",
     "output_type": "stream",
     "text": [
      "29\n",
      "[0, 9104, 33921, 67841, 101761, 135681, 169602, 203522, 237442, 271362, 305282, 308674, 312066, 315458, 318850, 322242, 325634, 329026, 332418, 335810, 336150, 336489, 336828, 337167, 337506, 337846, 338185, 338524, 338863]\n"
     ]
    }
   ],
   "source": [
    "print(len(b))\n",
    "print(b)"
   ]
  },
  {
   "cell_type": "code",
   "execution_count": 42,
   "metadata": {},
   "outputs": [
    {
     "name": "stdout",
     "output_type": "stream",
     "text": [
      "29\n",
      "[9104, 33921, 67841, 101761, 135681, 169602, 203522, 237442, 271362, 305282, 308674, 312066, 315458, 318850, 322242, 325634, 329026, 332418, 335810, 336150, 336489, 336828, 337167, 337506, 337846, 338185, 338524, 338863, 339203]\n"
     ]
    }
   ],
   "source": [
    "print(len(a))\n",
    "print(a)"
   ]
  },
  {
   "cell_type": "code",
   "execution_count": 43,
   "metadata": {},
   "outputs": [
    {
     "name": "stdout",
     "output_type": "stream",
     "text": [
      "[ 9104 24817 33920 33920 33920 33921 33920 33920 33920 33920  3392  3392\n",
      "  3392  3392  3392  3392  3392  3392  3392   340   339   339   339   339\n",
      "   340   339   339   339   340]\n"
     ]
    }
   ],
   "source": [
    "c = np.array(a) - np.array(b)\n",
    "print(c)"
   ]
  },
  {
   "cell_type": "code",
   "execution_count": 44,
   "metadata": {},
   "outputs": [],
   "source": [
    "df1['count'] = c"
   ]
  },
  {
   "cell_type": "code",
   "execution_count": 45,
   "metadata": {},
   "outputs": [
    {
     "data": {
      "text/html": [
       "<div>\n",
       "<style scoped>\n",
       "    .dataframe tbody tr th:only-of-type {\n",
       "        vertical-align: middle;\n",
       "    }\n",
       "\n",
       "    .dataframe tbody tr th {\n",
       "        vertical-align: top;\n",
       "    }\n",
       "\n",
       "    .dataframe thead th {\n",
       "        text-align: right;\n",
       "    }\n",
       "</style>\n",
       "<table border=\"1\" class=\"dataframe\">\n",
       "  <thead>\n",
       "    <tr style=\"text-align: right;\">\n",
       "      <th></th>\n",
       "      <th>val_mag</th>\n",
       "      <th>count</th>\n",
       "    </tr>\n",
       "  </thead>\n",
       "  <tbody>\n",
       "    <tr>\n",
       "      <th>0.000</th>\n",
       "      <td>0.000000</td>\n",
       "      <td>9104</td>\n",
       "    </tr>\n",
       "    <tr>\n",
       "      <th>0.100</th>\n",
       "      <td>0.502237</td>\n",
       "      <td>24817</td>\n",
       "    </tr>\n",
       "    <tr>\n",
       "      <th>0.200</th>\n",
       "      <td>2.107865</td>\n",
       "      <td>33920</td>\n",
       "    </tr>\n",
       "    <tr>\n",
       "      <th>0.300</th>\n",
       "      <td>3.636044</td>\n",
       "      <td>33920</td>\n",
       "    </tr>\n",
       "    <tr>\n",
       "      <th>0.400</th>\n",
       "      <td>5.110915</td>\n",
       "      <td>33920</td>\n",
       "    </tr>\n",
       "    <tr>\n",
       "      <th>0.500</th>\n",
       "      <td>6.665244</td>\n",
       "      <td>33921</td>\n",
       "    </tr>\n",
       "    <tr>\n",
       "      <th>0.600</th>\n",
       "      <td>8.390036</td>\n",
       "      <td>33920</td>\n",
       "    </tr>\n",
       "    <tr>\n",
       "      <th>0.700</th>\n",
       "      <td>10.439153</td>\n",
       "      <td>33920</td>\n",
       "    </tr>\n",
       "    <tr>\n",
       "      <th>0.800</th>\n",
       "      <td>13.151437</td>\n",
       "      <td>33920</td>\n",
       "    </tr>\n",
       "    <tr>\n",
       "      <th>0.900</th>\n",
       "      <td>17.649177</td>\n",
       "      <td>33920</td>\n",
       "    </tr>\n",
       "    <tr>\n",
       "      <th>0.910</th>\n",
       "      <td>18.319683</td>\n",
       "      <td>3392</td>\n",
       "    </tr>\n",
       "    <tr>\n",
       "      <th>0.920</th>\n",
       "      <td>19.099461</td>\n",
       "      <td>3392</td>\n",
       "    </tr>\n",
       "    <tr>\n",
       "      <th>0.930</th>\n",
       "      <td>19.994742</td>\n",
       "      <td>3392</td>\n",
       "    </tr>\n",
       "    <tr>\n",
       "      <th>0.940</th>\n",
       "      <td>21.061995</td>\n",
       "      <td>3392</td>\n",
       "    </tr>\n",
       "    <tr>\n",
       "      <th>0.950</th>\n",
       "      <td>22.279127</td>\n",
       "      <td>3392</td>\n",
       "    </tr>\n",
       "    <tr>\n",
       "      <th>0.960</th>\n",
       "      <td>23.907943</td>\n",
       "      <td>3392</td>\n",
       "    </tr>\n",
       "    <tr>\n",
       "      <th>0.970</th>\n",
       "      <td>26.067315</td>\n",
       "      <td>3392</td>\n",
       "    </tr>\n",
       "    <tr>\n",
       "      <th>0.980</th>\n",
       "      <td>29.404999</td>\n",
       "      <td>3392</td>\n",
       "    </tr>\n",
       "    <tr>\n",
       "      <th>0.990</th>\n",
       "      <td>36.205260</td>\n",
       "      <td>3392</td>\n",
       "    </tr>\n",
       "    <tr>\n",
       "      <th>0.991</th>\n",
       "      <td>37.435597</td>\n",
       "      <td>340</td>\n",
       "    </tr>\n",
       "    <tr>\n",
       "      <th>0.992</th>\n",
       "      <td>38.734981</td>\n",
       "      <td>339</td>\n",
       "    </tr>\n",
       "    <tr>\n",
       "      <th>0.993</th>\n",
       "      <td>40.196313</td>\n",
       "      <td>339</td>\n",
       "    </tr>\n",
       "    <tr>\n",
       "      <th>0.994</th>\n",
       "      <td>41.903515</td>\n",
       "      <td>339</td>\n",
       "    </tr>\n",
       "    <tr>\n",
       "      <th>0.995</th>\n",
       "      <td>43.787915</td>\n",
       "      <td>339</td>\n",
       "    </tr>\n",
       "    <tr>\n",
       "      <th>0.996</th>\n",
       "      <td>46.335222</td>\n",
       "      <td>340</td>\n",
       "    </tr>\n",
       "    <tr>\n",
       "      <th>0.997</th>\n",
       "      <td>49.519703</td>\n",
       "      <td>339</td>\n",
       "    </tr>\n",
       "    <tr>\n",
       "      <th>0.998</th>\n",
       "      <td>53.777639</td>\n",
       "      <td>339</td>\n",
       "    </tr>\n",
       "    <tr>\n",
       "      <th>0.999</th>\n",
       "      <td>59.310440</td>\n",
       "      <td>339</td>\n",
       "    </tr>\n",
       "    <tr>\n",
       "      <th>1.000</th>\n",
       "      <td>75.609704</td>\n",
       "      <td>340</td>\n",
       "    </tr>\n",
       "  </tbody>\n",
       "</table>\n",
       "</div>"
      ],
      "text/plain": [
       "         val_mag  count\n",
       "0.000   0.000000   9104\n",
       "0.100   0.502237  24817\n",
       "0.200   2.107865  33920\n",
       "0.300   3.636044  33920\n",
       "0.400   5.110915  33920\n",
       "0.500   6.665244  33921\n",
       "0.600   8.390036  33920\n",
       "0.700  10.439153  33920\n",
       "0.800  13.151437  33920\n",
       "0.900  17.649177  33920\n",
       "0.910  18.319683   3392\n",
       "0.920  19.099461   3392\n",
       "0.930  19.994742   3392\n",
       "0.940  21.061995   3392\n",
       "0.950  22.279127   3392\n",
       "0.960  23.907943   3392\n",
       "0.970  26.067315   3392\n",
       "0.980  29.404999   3392\n",
       "0.990  36.205260   3392\n",
       "0.991  37.435597    340\n",
       "0.992  38.734981    339\n",
       "0.993  40.196313    339\n",
       "0.994  41.903515    339\n",
       "0.995  43.787915    339\n",
       "0.996  46.335222    340\n",
       "0.997  49.519703    339\n",
       "0.998  53.777639    339\n",
       "0.999  59.310440    339\n",
       "1.000  75.609704    340"
      ]
     },
     "execution_count": 45,
     "metadata": {},
     "output_type": "execute_result"
    }
   ],
   "source": [
    "df1\n"
   ]
  },
  {
   "cell_type": "code",
   "execution_count": 46,
   "metadata": {},
   "outputs": [],
   "source": [
    "var['type'] = var.val_mag.map(lambda x: 0 if x == 0 else 2 if x > 30 else 1)"
   ]
  },
  {
   "cell_type": "code",
   "execution_count": 47,
   "metadata": {},
   "outputs": [
    {
     "name": "stdout",
     "output_type": "stream",
     "text": [
      "1    323755\n",
      "0      9104\n",
      "2      6344\n",
      "Name: type, dtype: int64\n"
     ]
    }
   ],
   "source": [
    "print(var['type'].value_counts())"
   ]
  },
  {
   "cell_type": "code",
   "execution_count": 48,
   "metadata": {},
   "outputs": [],
   "source": [
    "var = var.sample(frac=1).reset_index(drop=True)"
   ]
  },
  {
   "cell_type": "code",
   "execution_count": 49,
   "metadata": {},
   "outputs": [
    {
     "data": {
      "text/plain": [
       "(339203, 15)"
      ]
     },
     "execution_count": 49,
     "metadata": {},
     "output_type": "execute_result"
    }
   ],
   "source": [
    "var.shape"
   ]
  },
  {
   "cell_type": "code",
   "execution_count": 50,
   "metadata": {},
   "outputs": [],
   "source": [
    "train1 = var.iloc[0:270000,:]\n",
    "test1 = var.iloc[270000:,:]"
   ]
  },
  {
   "cell_type": "code",
   "execution_count": 51,
   "metadata": {},
   "outputs": [
    {
     "data": {
      "text/html": [
       "<div>\n",
       "<style scoped>\n",
       "    .dataframe tbody tr th:only-of-type {\n",
       "        vertical-align: middle;\n",
       "    }\n",
       "\n",
       "    .dataframe tbody tr th {\n",
       "        vertical-align: top;\n",
       "    }\n",
       "\n",
       "    .dataframe thead th {\n",
       "        text-align: right;\n",
       "    }\n",
       "</style>\n",
       "<table border=\"1\" class=\"dataframe\">\n",
       "  <thead>\n",
       "    <tr style=\"text-align: right;\">\n",
       "      <th></th>\n",
       "      <th>day_no</th>\n",
       "      <th>year</th>\n",
       "      <th>month</th>\n",
       "      <th>doy</th>\n",
       "      <th>x_EASE</th>\n",
       "      <th>y_EASE</th>\n",
       "      <th>u_buoy</th>\n",
       "      <th>v_buoy</th>\n",
       "      <th>val_mag</th>\n",
       "      <th>u_ERA5</th>\n",
       "      <th>v_ERA5</th>\n",
       "      <th>sic_CDR</th>\n",
       "      <th>h_piomas</th>\n",
       "      <th>d2c</th>\n",
       "      <th>type</th>\n",
       "    </tr>\n",
       "  </thead>\n",
       "  <tbody>\n",
       "    <tr>\n",
       "      <th>270000</th>\n",
       "      <td>14877</td>\n",
       "      <td>2019</td>\n",
       "      <td>11</td>\n",
       "      <td>316</td>\n",
       "      <td>195.208130</td>\n",
       "      <td>172.710083</td>\n",
       "      <td>-13.061250</td>\n",
       "      <td>1.129220</td>\n",
       "      <td>13.109973</td>\n",
       "      <td>-7.773542</td>\n",
       "      <td>1.414408</td>\n",
       "      <td>1.000000</td>\n",
       "      <td>1.325901</td>\n",
       "      <td>653.655085</td>\n",
       "      <td>1</td>\n",
       "    </tr>\n",
       "    <tr>\n",
       "      <th>270001</th>\n",
       "      <td>3259</td>\n",
       "      <td>1988</td>\n",
       "      <td>1</td>\n",
       "      <td>21</td>\n",
       "      <td>154.409119</td>\n",
       "      <td>185.183395</td>\n",
       "      <td>0.128216</td>\n",
       "      <td>0.335552</td>\n",
       "      <td>0.359214</td>\n",
       "      <td>0.571944</td>\n",
       "      <td>8.576569</td>\n",
       "      <td>1.000000</td>\n",
       "      <td>4.293468</td>\n",
       "      <td>92.659033</td>\n",
       "      <td>1</td>\n",
       "    </tr>\n",
       "    <tr>\n",
       "      <th>270002</th>\n",
       "      <td>9436</td>\n",
       "      <td>2004</td>\n",
       "      <td>12</td>\n",
       "      <td>354</td>\n",
       "      <td>160.428070</td>\n",
       "      <td>149.718887</td>\n",
       "      <td>-5.830130</td>\n",
       "      <td>0.675873</td>\n",
       "      <td>5.869176</td>\n",
       "      <td>-6.708067</td>\n",
       "      <td>1.083158</td>\n",
       "      <td>1.000000</td>\n",
       "      <td>2.377894</td>\n",
       "      <td>740.260515</td>\n",
       "      <td>1</td>\n",
       "    </tr>\n",
       "    <tr>\n",
       "      <th>270003</th>\n",
       "      <td>14528</td>\n",
       "      <td>2018</td>\n",
       "      <td>11</td>\n",
       "      <td>332</td>\n",
       "      <td>179.969086</td>\n",
       "      <td>218.650604</td>\n",
       "      <td>-16.087950</td>\n",
       "      <td>34.308949</td>\n",
       "      <td>37.893615</td>\n",
       "      <td>-1.176965</td>\n",
       "      <td>15.276292</td>\n",
       "      <td>0.933989</td>\n",
       "      <td>1.538990</td>\n",
       "      <td>174.984716</td>\n",
       "      <td>2</td>\n",
       "    </tr>\n",
       "    <tr>\n",
       "      <th>270004</th>\n",
       "      <td>9093</td>\n",
       "      <td>2004</td>\n",
       "      <td>1</td>\n",
       "      <td>11</td>\n",
       "      <td>144.637817</td>\n",
       "      <td>136.970627</td>\n",
       "      <td>0.213517</td>\n",
       "      <td>-5.702970</td>\n",
       "      <td>5.706966</td>\n",
       "      <td>-2.004222</td>\n",
       "      <td>-3.643552</td>\n",
       "      <td>0.999414</td>\n",
       "      <td>2.465387</td>\n",
       "      <td>489.917253</td>\n",
       "      <td>1</td>\n",
       "    </tr>\n",
       "  </tbody>\n",
       "</table>\n",
       "</div>"
      ],
      "text/plain": [
       "        day_no  year  month  doy      x_EASE      y_EASE     u_buoy  \\\n",
       "270000   14877  2019     11  316  195.208130  172.710083 -13.061250   \n",
       "270001    3259  1988      1   21  154.409119  185.183395   0.128216   \n",
       "270002    9436  2004     12  354  160.428070  149.718887  -5.830130   \n",
       "270003   14528  2018     11  332  179.969086  218.650604 -16.087950   \n",
       "270004    9093  2004      1   11  144.637817  136.970627   0.213517   \n",
       "\n",
       "           v_buoy    val_mag    u_ERA5     v_ERA5   sic_CDR  h_piomas  \\\n",
       "270000   1.129220  13.109973 -7.773542   1.414408  1.000000  1.325901   \n",
       "270001   0.335552   0.359214  0.571944   8.576569  1.000000  4.293468   \n",
       "270002   0.675873   5.869176 -6.708067   1.083158  1.000000  2.377894   \n",
       "270003  34.308949  37.893615 -1.176965  15.276292  0.933989  1.538990   \n",
       "270004  -5.702970   5.706966 -2.004222  -3.643552  0.999414  2.465387   \n",
       "\n",
       "               d2c  type  \n",
       "270000  653.655085     1  \n",
       "270001   92.659033     1  \n",
       "270002  740.260515     1  \n",
       "270003  174.984716     2  \n",
       "270004  489.917253     1  "
      ]
     },
     "execution_count": 51,
     "metadata": {},
     "output_type": "execute_result"
    }
   ],
   "source": [
    "test1.head()"
   ]
  },
  {
   "cell_type": "code",
   "execution_count": 52,
   "metadata": {},
   "outputs": [
    {
     "name": "stdout",
     "output_type": "stream",
     "text": [
      "1    257714\n",
      "0      7228\n",
      "2      5058\n",
      "Name: type, dtype: int64\n"
     ]
    }
   ],
   "source": [
    "print(train1['type'].value_counts())"
   ]
  },
  {
   "cell_type": "code",
   "execution_count": null,
   "metadata": {},
   "outputs": [],
   "source": []
  },
  {
   "cell_type": "code",
   "execution_count": 53,
   "metadata": {},
   "outputs": [
    {
     "data": {
      "text/plain": [
       "(270000, 3)"
      ]
     },
     "execution_count": 53,
     "metadata": {},
     "output_type": "execute_result"
    }
   ],
   "source": [
    "#create dummy variables for multiclass predictor\n",
    "cov_dummy = pd.get_dummies(train1['type'])\n",
    "cov_dummy.head()\n",
    "cov_dummy.shape"
   ]
  },
  {
   "cell_type": "code",
   "execution_count": 54,
   "metadata": {},
   "outputs": [
    {
     "name": "stdout",
     "output_type": "stream",
     "text": [
      "(270000, 18)\n"
     ]
    },
    {
     "data": {
      "text/html": [
       "<div>\n",
       "<style scoped>\n",
       "    .dataframe tbody tr th:only-of-type {\n",
       "        vertical-align: middle;\n",
       "    }\n",
       "\n",
       "    .dataframe tbody tr th {\n",
       "        vertical-align: top;\n",
       "    }\n",
       "\n",
       "    .dataframe thead th {\n",
       "        text-align: right;\n",
       "    }\n",
       "</style>\n",
       "<table border=\"1\" class=\"dataframe\">\n",
       "  <thead>\n",
       "    <tr style=\"text-align: right;\">\n",
       "      <th></th>\n",
       "      <th>0</th>\n",
       "      <th>1</th>\n",
       "      <th>2</th>\n",
       "      <th>day_no</th>\n",
       "      <th>year</th>\n",
       "      <th>month</th>\n",
       "      <th>doy</th>\n",
       "      <th>x_EASE</th>\n",
       "      <th>y_EASE</th>\n",
       "      <th>u_buoy</th>\n",
       "      <th>v_buoy</th>\n",
       "      <th>val_mag</th>\n",
       "      <th>u_ERA5</th>\n",
       "      <th>v_ERA5</th>\n",
       "      <th>sic_CDR</th>\n",
       "      <th>h_piomas</th>\n",
       "      <th>d2c</th>\n",
       "      <th>type</th>\n",
       "    </tr>\n",
       "  </thead>\n",
       "  <tbody>\n",
       "    <tr>\n",
       "      <th>0</th>\n",
       "      <td>0</td>\n",
       "      <td>1</td>\n",
       "      <td>0</td>\n",
       "      <td>8602</td>\n",
       "      <td>2002</td>\n",
       "      <td>9</td>\n",
       "      <td>250</td>\n",
       "      <td>163.550034</td>\n",
       "      <td>134.654678</td>\n",
       "      <td>10.517245</td>\n",
       "      <td>-3.546081</td>\n",
       "      <td>11.098970</td>\n",
       "      <td>4.061550</td>\n",
       "      <td>-4.109134</td>\n",
       "      <td>0.990236</td>\n",
       "      <td>1.807619</td>\n",
       "      <td>859.328535</td>\n",
       "      <td>1</td>\n",
       "    </tr>\n",
       "    <tr>\n",
       "      <th>1</th>\n",
       "      <td>0</td>\n",
       "      <td>1</td>\n",
       "      <td>0</td>\n",
       "      <td>5984</td>\n",
       "      <td>1995</td>\n",
       "      <td>7</td>\n",
       "      <td>189</td>\n",
       "      <td>151.014496</td>\n",
       "      <td>130.369644</td>\n",
       "      <td>8.933105</td>\n",
       "      <td>6.593245</td>\n",
       "      <td>11.102759</td>\n",
       "      <td>6.531604</td>\n",
       "      <td>0.538758</td>\n",
       "      <td>0.956297</td>\n",
       "      <td>2.221513</td>\n",
       "      <td>663.534720</td>\n",
       "      <td>1</td>\n",
       "    </tr>\n",
       "    <tr>\n",
       "      <th>2</th>\n",
       "      <td>0</td>\n",
       "      <td>1</td>\n",
       "      <td>0</td>\n",
       "      <td>10374</td>\n",
       "      <td>2007</td>\n",
       "      <td>7</td>\n",
       "      <td>196</td>\n",
       "      <td>156.283752</td>\n",
       "      <td>120.978416</td>\n",
       "      <td>6.209480</td>\n",
       "      <td>3.674120</td>\n",
       "      <td>7.215040</td>\n",
       "      <td>4.169741</td>\n",
       "      <td>-1.148364</td>\n",
       "      <td>0.747352</td>\n",
       "      <td>1.380677</td>\n",
       "      <td>472.286446</td>\n",
       "      <td>1</td>\n",
       "    </tr>\n",
       "    <tr>\n",
       "      <th>3</th>\n",
       "      <td>0</td>\n",
       "      <td>1</td>\n",
       "      <td>0</td>\n",
       "      <td>14567</td>\n",
       "      <td>2019</td>\n",
       "      <td>1</td>\n",
       "      <td>6</td>\n",
       "      <td>153.210556</td>\n",
       "      <td>135.907501</td>\n",
       "      <td>-2.084133</td>\n",
       "      <td>4.404915</td>\n",
       "      <td>4.873078</td>\n",
       "      <td>2.023560</td>\n",
       "      <td>3.753285</td>\n",
       "      <td>1.000000</td>\n",
       "      <td>1.566163</td>\n",
       "      <td>678.844806</td>\n",
       "      <td>1</td>\n",
       "    </tr>\n",
       "    <tr>\n",
       "      <th>4</th>\n",
       "      <td>0</td>\n",
       "      <td>1</td>\n",
       "      <td>0</td>\n",
       "      <td>14495</td>\n",
       "      <td>2018</td>\n",
       "      <td>10</td>\n",
       "      <td>299</td>\n",
       "      <td>136.102661</td>\n",
       "      <td>152.708817</td>\n",
       "      <td>18.783150</td>\n",
       "      <td>2.615185</td>\n",
       "      <td>18.964332</td>\n",
       "      <td>12.295628</td>\n",
       "      <td>-6.458427</td>\n",
       "      <td>1.000000</td>\n",
       "      <td>2.343891</td>\n",
       "      <td>127.774064</td>\n",
       "      <td>1</td>\n",
       "    </tr>\n",
       "  </tbody>\n",
       "</table>\n",
       "</div>"
      ],
      "text/plain": [
       "   0  1  2  day_no  year  month  doy      x_EASE      y_EASE     u_buoy  \\\n",
       "0  0  1  0    8602  2002      9  250  163.550034  134.654678  10.517245   \n",
       "1  0  1  0    5984  1995      7  189  151.014496  130.369644   8.933105   \n",
       "2  0  1  0   10374  2007      7  196  156.283752  120.978416   6.209480   \n",
       "3  0  1  0   14567  2019      1    6  153.210556  135.907501  -2.084133   \n",
       "4  0  1  0   14495  2018     10  299  136.102661  152.708817  18.783150   \n",
       "\n",
       "     v_buoy    val_mag     u_ERA5    v_ERA5   sic_CDR  h_piomas         d2c  \\\n",
       "0 -3.546081  11.098970   4.061550 -4.109134  0.990236  1.807619  859.328535   \n",
       "1  6.593245  11.102759   6.531604  0.538758  0.956297  2.221513  663.534720   \n",
       "2  3.674120   7.215040   4.169741 -1.148364  0.747352  1.380677  472.286446   \n",
       "3  4.404915   4.873078   2.023560  3.753285  1.000000  1.566163  678.844806   \n",
       "4  2.615185  18.964332  12.295628 -6.458427  1.000000  2.343891  127.774064   \n",
       "\n",
       "   type  \n",
       "0     1  \n",
       "1     1  \n",
       "2     1  \n",
       "3     1  \n",
       "4     1  "
      ]
     },
     "execution_count": 54,
     "metadata": {},
     "output_type": "execute_result"
    }
   ],
   "source": [
    "df2 = pd.concat([cov_dummy, train1], axis = 1)\n",
    "print(df2.shape)\n",
    "df2.head()"
   ]
  },
  {
   "cell_type": "code",
   "execution_count": 55,
   "metadata": {},
   "outputs": [
    {
     "data": {
      "text/plain": [
       "[0,\n",
       " 1,\n",
       " 2,\n",
       " 'day_no',\n",
       " 'year',\n",
       " 'month',\n",
       " 'doy',\n",
       " 'x_EASE',\n",
       " 'y_EASE',\n",
       " 'u_buoy',\n",
       " 'v_buoy',\n",
       " 'val_mag',\n",
       " 'u_ERA5',\n",
       " 'v_ERA5',\n",
       " 'sic_CDR',\n",
       " 'h_piomas',\n",
       " 'd2c']"
      ]
     },
     "execution_count": 55,
     "metadata": {},
     "output_type": "execute_result"
    }
   ],
   "source": [
    "df2_column_names = list(df2.columns)\n",
    "df2_column_names.remove('type')\n",
    "df2_column_names"
   ]
  },
  {
   "cell_type": "code",
   "execution_count": 56,
   "metadata": {},
   "outputs": [],
   "source": [
    "# Normalize all columns\n",
    "\n",
    "x = df2.loc[:, df2.columns != 'type'].values #returns a numpy array\n",
    "min_max_scaler = preprocessing.MinMaxScaler()\n",
    "x_scaled = min_max_scaler.fit_transform(x)\n",
    "df_normalized = pd.DataFrame(data=x_scaled, columns=df2_column_names)\n"
   ]
  },
  {
   "cell_type": "code",
   "execution_count": 57,
   "metadata": {},
   "outputs": [
    {
     "name": "stdout",
     "output_type": "stream",
     "text": [
      "(270000, 17)\n",
      "(270000, 18)\n"
     ]
    }
   ],
   "source": [
    "print(df_normalized.shape)\n",
    "print(df2.shape)"
   ]
  },
  {
   "cell_type": "code",
   "execution_count": 58,
   "metadata": {},
   "outputs": [
    {
     "data": {
      "text/html": [
       "<div>\n",
       "<style scoped>\n",
       "    .dataframe tbody tr th:only-of-type {\n",
       "        vertical-align: middle;\n",
       "    }\n",
       "\n",
       "    .dataframe tbody tr th {\n",
       "        vertical-align: top;\n",
       "    }\n",
       "\n",
       "    .dataframe thead th {\n",
       "        text-align: right;\n",
       "    }\n",
       "</style>\n",
       "<table border=\"1\" class=\"dataframe\">\n",
       "  <thead>\n",
       "    <tr style=\"text-align: right;\">\n",
       "      <th></th>\n",
       "      <th>0</th>\n",
       "      <th>1</th>\n",
       "      <th>2</th>\n",
       "      <th>day_no</th>\n",
       "      <th>year</th>\n",
       "      <th>month</th>\n",
       "      <th>doy</th>\n",
       "      <th>x_EASE</th>\n",
       "      <th>y_EASE</th>\n",
       "      <th>u_buoy</th>\n",
       "      <th>v_buoy</th>\n",
       "      <th>val_mag</th>\n",
       "      <th>u_ERA5</th>\n",
       "      <th>v_ERA5</th>\n",
       "      <th>sic_CDR</th>\n",
       "      <th>h_piomas</th>\n",
       "      <th>d2c</th>\n",
       "    </tr>\n",
       "  </thead>\n",
       "  <tbody>\n",
       "    <tr>\n",
       "      <th>0</th>\n",
       "      <td>0.0</td>\n",
       "      <td>1.0</td>\n",
       "      <td>0.0</td>\n",
       "      <td>0.576348</td>\n",
       "      <td>0.575</td>\n",
       "      <td>0.727273</td>\n",
       "      <td>0.685950</td>\n",
       "      <td>0.517774</td>\n",
       "      <td>0.402916</td>\n",
       "      <td>0.595476</td>\n",
       "      <td>0.466954</td>\n",
       "      <td>0.146793</td>\n",
       "      <td>0.672343</td>\n",
       "      <td>0.352805</td>\n",
       "      <td>0.990234</td>\n",
       "      <td>0.287624</td>\n",
       "      <td>0.767159</td>\n",
       "    </tr>\n",
       "    <tr>\n",
       "      <th>1</th>\n",
       "      <td>0.0</td>\n",
       "      <td>1.0</td>\n",
       "      <td>0.0</td>\n",
       "      <td>0.400938</td>\n",
       "      <td>0.400</td>\n",
       "      <td>0.545455</td>\n",
       "      <td>0.517906</td>\n",
       "      <td>0.465591</td>\n",
       "      <td>0.385260</td>\n",
       "      <td>0.584404</td>\n",
       "      <td>0.541826</td>\n",
       "      <td>0.146843</td>\n",
       "      <td>0.733520</td>\n",
       "      <td>0.464335</td>\n",
       "      <td>0.956286</td>\n",
       "      <td>0.353481</td>\n",
       "      <td>0.592293</td>\n",
       "    </tr>\n",
       "    <tr>\n",
       "      <th>2</th>\n",
       "      <td>0.0</td>\n",
       "      <td>1.0</td>\n",
       "      <td>0.0</td>\n",
       "      <td>0.695075</td>\n",
       "      <td>0.700</td>\n",
       "      <td>0.545455</td>\n",
       "      <td>0.537190</td>\n",
       "      <td>0.487526</td>\n",
       "      <td>0.346564</td>\n",
       "      <td>0.565369</td>\n",
       "      <td>0.520270</td>\n",
       "      <td>0.095425</td>\n",
       "      <td>0.675022</td>\n",
       "      <td>0.423851</td>\n",
       "      <td>0.747288</td>\n",
       "      <td>0.219690</td>\n",
       "      <td>0.421486</td>\n",
       "    </tr>\n",
       "    <tr>\n",
       "      <th>3</th>\n",
       "      <td>0.0</td>\n",
       "      <td>1.0</td>\n",
       "      <td>0.0</td>\n",
       "      <td>0.976013</td>\n",
       "      <td>1.000</td>\n",
       "      <td>0.000000</td>\n",
       "      <td>0.013774</td>\n",
       "      <td>0.474733</td>\n",
       "      <td>0.408078</td>\n",
       "      <td>0.507403</td>\n",
       "      <td>0.525667</td>\n",
       "      <td>0.064450</td>\n",
       "      <td>0.621867</td>\n",
       "      <td>0.541470</td>\n",
       "      <td>1.000000</td>\n",
       "      <td>0.249204</td>\n",
       "      <td>0.605966</td>\n",
       "    </tr>\n",
       "    <tr>\n",
       "      <th>4</th>\n",
       "      <td>0.0</td>\n",
       "      <td>1.0</td>\n",
       "      <td>0.0</td>\n",
       "      <td>0.971189</td>\n",
       "      <td>0.975</td>\n",
       "      <td>0.818182</td>\n",
       "      <td>0.820937</td>\n",
       "      <td>0.403516</td>\n",
       "      <td>0.477307</td>\n",
       "      <td>0.653248</td>\n",
       "      <td>0.512451</td>\n",
       "      <td>0.250819</td>\n",
       "      <td>0.876280</td>\n",
       "      <td>0.296431</td>\n",
       "      <td>1.000000</td>\n",
       "      <td>0.372954</td>\n",
       "      <td>0.113796</td>\n",
       "    </tr>\n",
       "    <tr>\n",
       "      <th>...</th>\n",
       "      <td>...</td>\n",
       "      <td>...</td>\n",
       "      <td>...</td>\n",
       "      <td>...</td>\n",
       "      <td>...</td>\n",
       "      <td>...</td>\n",
       "      <td>...</td>\n",
       "      <td>...</td>\n",
       "      <td>...</td>\n",
       "      <td>...</td>\n",
       "      <td>...</td>\n",
       "      <td>...</td>\n",
       "      <td>...</td>\n",
       "      <td>...</td>\n",
       "      <td>...</td>\n",
       "      <td>...</td>\n",
       "      <td>...</td>\n",
       "    </tr>\n",
       "    <tr>\n",
       "      <th>269995</th>\n",
       "      <td>0.0</td>\n",
       "      <td>1.0</td>\n",
       "      <td>0.0</td>\n",
       "      <td>0.322546</td>\n",
       "      <td>0.325</td>\n",
       "      <td>0.272727</td>\n",
       "      <td>0.314050</td>\n",
       "      <td>0.562580</td>\n",
       "      <td>0.723276</td>\n",
       "      <td>0.526870</td>\n",
       "      <td>0.509490</td>\n",
       "      <td>0.030719</td>\n",
       "      <td>0.544748</td>\n",
       "      <td>0.458192</td>\n",
       "      <td>0.988978</td>\n",
       "      <td>0.675741</td>\n",
       "      <td>0.095160</td>\n",
       "    </tr>\n",
       "    <tr>\n",
       "      <th>269996</th>\n",
       "      <td>0.0</td>\n",
       "      <td>1.0</td>\n",
       "      <td>0.0</td>\n",
       "      <td>0.897889</td>\n",
       "      <td>0.900</td>\n",
       "      <td>0.818182</td>\n",
       "      <td>0.826446</td>\n",
       "      <td>0.591917</td>\n",
       "      <td>0.554415</td>\n",
       "      <td>0.527009</td>\n",
       "      <td>0.533600</td>\n",
       "      <td>0.073092</td>\n",
       "      <td>0.601567</td>\n",
       "      <td>0.537665</td>\n",
       "      <td>0.998338</td>\n",
       "      <td>0.245307</td>\n",
       "      <td>0.752521</td>\n",
       "    </tr>\n",
       "    <tr>\n",
       "      <th>269997</th>\n",
       "      <td>0.0</td>\n",
       "      <td>1.0</td>\n",
       "      <td>0.0</td>\n",
       "      <td>0.977889</td>\n",
       "      <td>1.000</td>\n",
       "      <td>0.090909</td>\n",
       "      <td>0.090909</td>\n",
       "      <td>0.503678</td>\n",
       "      <td>0.565966</td>\n",
       "      <td>0.495613</td>\n",
       "      <td>0.549994</td>\n",
       "      <td>0.113388</td>\n",
       "      <td>0.450029</td>\n",
       "      <td>0.554165</td>\n",
       "      <td>1.000000</td>\n",
       "      <td>0.405699</td>\n",
       "      <td>0.357190</td>\n",
       "    </tr>\n",
       "    <tr>\n",
       "      <th>269998</th>\n",
       "      <td>0.0</td>\n",
       "      <td>1.0</td>\n",
       "      <td>0.0</td>\n",
       "      <td>0.869883</td>\n",
       "      <td>0.875</td>\n",
       "      <td>0.727273</td>\n",
       "      <td>0.680441</td>\n",
       "      <td>0.414810</td>\n",
       "      <td>0.371909</td>\n",
       "      <td>0.433432</td>\n",
       "      <td>0.388721</td>\n",
       "      <td>0.251092</td>\n",
       "      <td>0.359921</td>\n",
       "      <td>0.357478</td>\n",
       "      <td>0.342899</td>\n",
       "      <td>0.047024</td>\n",
       "      <td>0.440491</td>\n",
       "    </tr>\n",
       "    <tr>\n",
       "      <th>269999</th>\n",
       "      <td>1.0</td>\n",
       "      <td>0.0</td>\n",
       "      <td>0.0</td>\n",
       "      <td>0.827337</td>\n",
       "      <td>0.825</td>\n",
       "      <td>1.000000</td>\n",
       "      <td>0.944904</td>\n",
       "      <td>0.443070</td>\n",
       "      <td>0.473681</td>\n",
       "      <td>0.521970</td>\n",
       "      <td>0.493139</td>\n",
       "      <td>0.000000</td>\n",
       "      <td>0.552694</td>\n",
       "      <td>0.475307</td>\n",
       "      <td>1.000000</td>\n",
       "      <td>0.307591</td>\n",
       "      <td>0.326810</td>\n",
       "    </tr>\n",
       "  </tbody>\n",
       "</table>\n",
       "<p>270000 rows × 17 columns</p>\n",
       "</div>"
      ],
      "text/plain": [
       "          0    1    2    day_no   year     month       doy    x_EASE  \\\n",
       "0       0.0  1.0  0.0  0.576348  0.575  0.727273  0.685950  0.517774   \n",
       "1       0.0  1.0  0.0  0.400938  0.400  0.545455  0.517906  0.465591   \n",
       "2       0.0  1.0  0.0  0.695075  0.700  0.545455  0.537190  0.487526   \n",
       "3       0.0  1.0  0.0  0.976013  1.000  0.000000  0.013774  0.474733   \n",
       "4       0.0  1.0  0.0  0.971189  0.975  0.818182  0.820937  0.403516   \n",
       "...     ...  ...  ...       ...    ...       ...       ...       ...   \n",
       "269995  0.0  1.0  0.0  0.322546  0.325  0.272727  0.314050  0.562580   \n",
       "269996  0.0  1.0  0.0  0.897889  0.900  0.818182  0.826446  0.591917   \n",
       "269997  0.0  1.0  0.0  0.977889  1.000  0.090909  0.090909  0.503678   \n",
       "269998  0.0  1.0  0.0  0.869883  0.875  0.727273  0.680441  0.414810   \n",
       "269999  1.0  0.0  0.0  0.827337  0.825  1.000000  0.944904  0.443070   \n",
       "\n",
       "          y_EASE    u_buoy    v_buoy   val_mag    u_ERA5    v_ERA5   sic_CDR  \\\n",
       "0       0.402916  0.595476  0.466954  0.146793  0.672343  0.352805  0.990234   \n",
       "1       0.385260  0.584404  0.541826  0.146843  0.733520  0.464335  0.956286   \n",
       "2       0.346564  0.565369  0.520270  0.095425  0.675022  0.423851  0.747288   \n",
       "3       0.408078  0.507403  0.525667  0.064450  0.621867  0.541470  1.000000   \n",
       "4       0.477307  0.653248  0.512451  0.250819  0.876280  0.296431  1.000000   \n",
       "...          ...       ...       ...       ...       ...       ...       ...   \n",
       "269995  0.723276  0.526870  0.509490  0.030719  0.544748  0.458192  0.988978   \n",
       "269996  0.554415  0.527009  0.533600  0.073092  0.601567  0.537665  0.998338   \n",
       "269997  0.565966  0.495613  0.549994  0.113388  0.450029  0.554165  1.000000   \n",
       "269998  0.371909  0.433432  0.388721  0.251092  0.359921  0.357478  0.342899   \n",
       "269999  0.473681  0.521970  0.493139  0.000000  0.552694  0.475307  1.000000   \n",
       "\n",
       "        h_piomas       d2c  \n",
       "0       0.287624  0.767159  \n",
       "1       0.353481  0.592293  \n",
       "2       0.219690  0.421486  \n",
       "3       0.249204  0.605966  \n",
       "4       0.372954  0.113796  \n",
       "...          ...       ...  \n",
       "269995  0.675741  0.095160  \n",
       "269996  0.245307  0.752521  \n",
       "269997  0.405699  0.357190  \n",
       "269998  0.047024  0.440491  \n",
       "269999  0.307591  0.326810  \n",
       "\n",
       "[270000 rows x 17 columns]"
      ]
     },
     "execution_count": 58,
     "metadata": {},
     "output_type": "execute_result"
    }
   ],
   "source": [
    "df_normalized"
   ]
  },
  {
   "cell_type": "code",
   "execution_count": 59,
   "metadata": {},
   "outputs": [],
   "source": [
    "RANDOM_STATE = 7"
   ]
  },
  {
   "cell_type": "code",
   "execution_count": 60,
   "metadata": {},
   "outputs": [
    {
     "data": {
      "text/html": [
       "<div>\n",
       "<style scoped>\n",
       "    .dataframe tbody tr th:only-of-type {\n",
       "        vertical-align: middle;\n",
       "    }\n",
       "\n",
       "    .dataframe tbody tr th {\n",
       "        vertical-align: top;\n",
       "    }\n",
       "\n",
       "    .dataframe thead th {\n",
       "        text-align: right;\n",
       "    }\n",
       "</style>\n",
       "<table border=\"1\" class=\"dataframe\">\n",
       "  <thead>\n",
       "    <tr style=\"text-align: right;\">\n",
       "      <th></th>\n",
       "      <th>0</th>\n",
       "      <th>1</th>\n",
       "      <th>2</th>\n",
       "      <th>day_no</th>\n",
       "      <th>year</th>\n",
       "      <th>month</th>\n",
       "      <th>doy</th>\n",
       "      <th>x_EASE</th>\n",
       "      <th>y_EASE</th>\n",
       "      <th>u_buoy</th>\n",
       "      <th>v_buoy</th>\n",
       "      <th>val_mag</th>\n",
       "      <th>u_ERA5</th>\n",
       "      <th>v_ERA5</th>\n",
       "      <th>sic_CDR</th>\n",
       "      <th>h_piomas</th>\n",
       "      <th>d2c</th>\n",
       "      <th>type</th>\n",
       "    </tr>\n",
       "  </thead>\n",
       "  <tbody>\n",
       "    <tr>\n",
       "      <th>269995</th>\n",
       "      <td>0.0</td>\n",
       "      <td>1.0</td>\n",
       "      <td>0.0</td>\n",
       "      <td>0.322546</td>\n",
       "      <td>0.325</td>\n",
       "      <td>0.272727</td>\n",
       "      <td>0.314050</td>\n",
       "      <td>0.562580</td>\n",
       "      <td>0.723276</td>\n",
       "      <td>0.526870</td>\n",
       "      <td>0.509490</td>\n",
       "      <td>0.030719</td>\n",
       "      <td>0.544748</td>\n",
       "      <td>0.458192</td>\n",
       "      <td>0.988978</td>\n",
       "      <td>0.675741</td>\n",
       "      <td>0.095160</td>\n",
       "      <td>1</td>\n",
       "    </tr>\n",
       "    <tr>\n",
       "      <th>269996</th>\n",
       "      <td>0.0</td>\n",
       "      <td>1.0</td>\n",
       "      <td>0.0</td>\n",
       "      <td>0.897889</td>\n",
       "      <td>0.900</td>\n",
       "      <td>0.818182</td>\n",
       "      <td>0.826446</td>\n",
       "      <td>0.591917</td>\n",
       "      <td>0.554415</td>\n",
       "      <td>0.527009</td>\n",
       "      <td>0.533600</td>\n",
       "      <td>0.073092</td>\n",
       "      <td>0.601567</td>\n",
       "      <td>0.537665</td>\n",
       "      <td>0.998338</td>\n",
       "      <td>0.245307</td>\n",
       "      <td>0.752521</td>\n",
       "      <td>1</td>\n",
       "    </tr>\n",
       "    <tr>\n",
       "      <th>269997</th>\n",
       "      <td>0.0</td>\n",
       "      <td>1.0</td>\n",
       "      <td>0.0</td>\n",
       "      <td>0.977889</td>\n",
       "      <td>1.000</td>\n",
       "      <td>0.090909</td>\n",
       "      <td>0.090909</td>\n",
       "      <td>0.503678</td>\n",
       "      <td>0.565966</td>\n",
       "      <td>0.495613</td>\n",
       "      <td>0.549994</td>\n",
       "      <td>0.113388</td>\n",
       "      <td>0.450029</td>\n",
       "      <td>0.554165</td>\n",
       "      <td>1.000000</td>\n",
       "      <td>0.405699</td>\n",
       "      <td>0.357190</td>\n",
       "      <td>1</td>\n",
       "    </tr>\n",
       "    <tr>\n",
       "      <th>269998</th>\n",
       "      <td>0.0</td>\n",
       "      <td>1.0</td>\n",
       "      <td>0.0</td>\n",
       "      <td>0.869883</td>\n",
       "      <td>0.875</td>\n",
       "      <td>0.727273</td>\n",
       "      <td>0.680441</td>\n",
       "      <td>0.414810</td>\n",
       "      <td>0.371909</td>\n",
       "      <td>0.433432</td>\n",
       "      <td>0.388721</td>\n",
       "      <td>0.251092</td>\n",
       "      <td>0.359921</td>\n",
       "      <td>0.357478</td>\n",
       "      <td>0.342899</td>\n",
       "      <td>0.047024</td>\n",
       "      <td>0.440491</td>\n",
       "      <td>1</td>\n",
       "    </tr>\n",
       "    <tr>\n",
       "      <th>269999</th>\n",
       "      <td>1.0</td>\n",
       "      <td>0.0</td>\n",
       "      <td>0.0</td>\n",
       "      <td>0.827337</td>\n",
       "      <td>0.825</td>\n",
       "      <td>1.000000</td>\n",
       "      <td>0.944904</td>\n",
       "      <td>0.443070</td>\n",
       "      <td>0.473681</td>\n",
       "      <td>0.521970</td>\n",
       "      <td>0.493139</td>\n",
       "      <td>0.000000</td>\n",
       "      <td>0.552694</td>\n",
       "      <td>0.475307</td>\n",
       "      <td>1.000000</td>\n",
       "      <td>0.307591</td>\n",
       "      <td>0.326810</td>\n",
       "      <td>0</td>\n",
       "    </tr>\n",
       "  </tbody>\n",
       "</table>\n",
       "</div>"
      ],
      "text/plain": [
       "          0    1    2    day_no   year     month       doy    x_EASE  \\\n",
       "269995  0.0  1.0  0.0  0.322546  0.325  0.272727  0.314050  0.562580   \n",
       "269996  0.0  1.0  0.0  0.897889  0.900  0.818182  0.826446  0.591917   \n",
       "269997  0.0  1.0  0.0  0.977889  1.000  0.090909  0.090909  0.503678   \n",
       "269998  0.0  1.0  0.0  0.869883  0.875  0.727273  0.680441  0.414810   \n",
       "269999  1.0  0.0  0.0  0.827337  0.825  1.000000  0.944904  0.443070   \n",
       "\n",
       "          y_EASE    u_buoy    v_buoy   val_mag    u_ERA5    v_ERA5   sic_CDR  \\\n",
       "269995  0.723276  0.526870  0.509490  0.030719  0.544748  0.458192  0.988978   \n",
       "269996  0.554415  0.527009  0.533600  0.073092  0.601567  0.537665  0.998338   \n",
       "269997  0.565966  0.495613  0.549994  0.113388  0.450029  0.554165  1.000000   \n",
       "269998  0.371909  0.433432  0.388721  0.251092  0.359921  0.357478  0.342899   \n",
       "269999  0.473681  0.521970  0.493139  0.000000  0.552694  0.475307  1.000000   \n",
       "\n",
       "        h_piomas       d2c  type  \n",
       "269995  0.675741  0.095160     1  \n",
       "269996  0.245307  0.752521     1  \n",
       "269997  0.405699  0.357190     1  \n",
       "269998  0.047024  0.440491     1  \n",
       "269999  0.307591  0.326810     0  "
      ]
     },
     "execution_count": 60,
     "metadata": {},
     "output_type": "execute_result"
    }
   ],
   "source": [
    "#append Y axis back to this \n",
    "df_normalized_w_target = pd.concat([df_normalized, df2['type']], axis=1)\n",
    "df_normalized_w_target.tail()"
   ]
  },
  {
   "cell_type": "code",
   "execution_count": 61,
   "metadata": {},
   "outputs": [
    {
     "name": "stdout",
     "output_type": "stream",
     "text": [
      "(270000, 14)\n"
     ]
    },
    {
     "data": {
      "text/html": [
       "<div>\n",
       "<style scoped>\n",
       "    .dataframe tbody tr th:only-of-type {\n",
       "        vertical-align: middle;\n",
       "    }\n",
       "\n",
       "    .dataframe tbody tr th {\n",
       "        vertical-align: top;\n",
       "    }\n",
       "\n",
       "    .dataframe thead th {\n",
       "        text-align: right;\n",
       "    }\n",
       "</style>\n",
       "<table border=\"1\" class=\"dataframe\">\n",
       "  <thead>\n",
       "    <tr style=\"text-align: right;\">\n",
       "      <th></th>\n",
       "      <th>day_no</th>\n",
       "      <th>year</th>\n",
       "      <th>month</th>\n",
       "      <th>doy</th>\n",
       "      <th>x_EASE</th>\n",
       "      <th>y_EASE</th>\n",
       "      <th>u_buoy</th>\n",
       "      <th>v_buoy</th>\n",
       "      <th>val_mag</th>\n",
       "      <th>u_ERA5</th>\n",
       "      <th>v_ERA5</th>\n",
       "      <th>sic_CDR</th>\n",
       "      <th>h_piomas</th>\n",
       "      <th>d2c</th>\n",
       "    </tr>\n",
       "  </thead>\n",
       "  <tbody>\n",
       "    <tr>\n",
       "      <th>0</th>\n",
       "      <td>0.576348</td>\n",
       "      <td>0.575</td>\n",
       "      <td>0.727273</td>\n",
       "      <td>0.685950</td>\n",
       "      <td>0.517774</td>\n",
       "      <td>0.402916</td>\n",
       "      <td>0.595476</td>\n",
       "      <td>0.466954</td>\n",
       "      <td>0.146793</td>\n",
       "      <td>0.672343</td>\n",
       "      <td>0.352805</td>\n",
       "      <td>0.990234</td>\n",
       "      <td>0.287624</td>\n",
       "      <td>0.767159</td>\n",
       "    </tr>\n",
       "    <tr>\n",
       "      <th>1</th>\n",
       "      <td>0.400938</td>\n",
       "      <td>0.400</td>\n",
       "      <td>0.545455</td>\n",
       "      <td>0.517906</td>\n",
       "      <td>0.465591</td>\n",
       "      <td>0.385260</td>\n",
       "      <td>0.584404</td>\n",
       "      <td>0.541826</td>\n",
       "      <td>0.146843</td>\n",
       "      <td>0.733520</td>\n",
       "      <td>0.464335</td>\n",
       "      <td>0.956286</td>\n",
       "      <td>0.353481</td>\n",
       "      <td>0.592293</td>\n",
       "    </tr>\n",
       "    <tr>\n",
       "      <th>2</th>\n",
       "      <td>0.695075</td>\n",
       "      <td>0.700</td>\n",
       "      <td>0.545455</td>\n",
       "      <td>0.537190</td>\n",
       "      <td>0.487526</td>\n",
       "      <td>0.346564</td>\n",
       "      <td>0.565369</td>\n",
       "      <td>0.520270</td>\n",
       "      <td>0.095425</td>\n",
       "      <td>0.675022</td>\n",
       "      <td>0.423851</td>\n",
       "      <td>0.747288</td>\n",
       "      <td>0.219690</td>\n",
       "      <td>0.421486</td>\n",
       "    </tr>\n",
       "    <tr>\n",
       "      <th>3</th>\n",
       "      <td>0.976013</td>\n",
       "      <td>1.000</td>\n",
       "      <td>0.000000</td>\n",
       "      <td>0.013774</td>\n",
       "      <td>0.474733</td>\n",
       "      <td>0.408078</td>\n",
       "      <td>0.507403</td>\n",
       "      <td>0.525667</td>\n",
       "      <td>0.064450</td>\n",
       "      <td>0.621867</td>\n",
       "      <td>0.541470</td>\n",
       "      <td>1.000000</td>\n",
       "      <td>0.249204</td>\n",
       "      <td>0.605966</td>\n",
       "    </tr>\n",
       "    <tr>\n",
       "      <th>4</th>\n",
       "      <td>0.971189</td>\n",
       "      <td>0.975</td>\n",
       "      <td>0.818182</td>\n",
       "      <td>0.820937</td>\n",
       "      <td>0.403516</td>\n",
       "      <td>0.477307</td>\n",
       "      <td>0.653248</td>\n",
       "      <td>0.512451</td>\n",
       "      <td>0.250819</td>\n",
       "      <td>0.876280</td>\n",
       "      <td>0.296431</td>\n",
       "      <td>1.000000</td>\n",
       "      <td>0.372954</td>\n",
       "      <td>0.113796</td>\n",
       "    </tr>\n",
       "  </tbody>\n",
       "</table>\n",
       "</div>"
      ],
      "text/plain": [
       "     day_no   year     month       doy    x_EASE    y_EASE    u_buoy  \\\n",
       "0  0.576348  0.575  0.727273  0.685950  0.517774  0.402916  0.595476   \n",
       "1  0.400938  0.400  0.545455  0.517906  0.465591  0.385260  0.584404   \n",
       "2  0.695075  0.700  0.545455  0.537190  0.487526  0.346564  0.565369   \n",
       "3  0.976013  1.000  0.000000  0.013774  0.474733  0.408078  0.507403   \n",
       "4  0.971189  0.975  0.818182  0.820937  0.403516  0.477307  0.653248   \n",
       "\n",
       "     v_buoy   val_mag    u_ERA5    v_ERA5   sic_CDR  h_piomas       d2c  \n",
       "0  0.466954  0.146793  0.672343  0.352805  0.990234  0.287624  0.767159  \n",
       "1  0.541826  0.146843  0.733520  0.464335  0.956286  0.353481  0.592293  \n",
       "2  0.520270  0.095425  0.675022  0.423851  0.747288  0.219690  0.421486  \n",
       "3  0.525667  0.064450  0.621867  0.541470  1.000000  0.249204  0.605966  \n",
       "4  0.512451  0.250819  0.876280  0.296431  1.000000  0.372954  0.113796  "
      ]
     },
     "execution_count": 61,
     "metadata": {},
     "output_type": "execute_result"
    }
   ],
   "source": [
    "# set target data  and x values\n",
    "X=df_normalized_w_target[list(df_normalized_w_target.columns)[3:-1]]\n",
    "print(X.shape)\n",
    "X.head()"
   ]
  },
  {
   "cell_type": "code",
   "execution_count": 62,
   "metadata": {},
   "outputs": [
    {
     "data": {
      "text/plain": [
       "(270000, 14)"
      ]
     },
     "execution_count": 62,
     "metadata": {},
     "output_type": "execute_result"
    }
   ],
   "source": [
    "X.shape"
   ]
  },
  {
   "cell_type": "code",
   "execution_count": 63,
   "metadata": {},
   "outputs": [],
   "source": [
    "X = X.drop(['u_buoy', 'v_buoy','val_mag'],axis=1)"
   ]
  },
  {
   "cell_type": "code",
   "execution_count": 64,
   "metadata": {},
   "outputs": [
    {
     "data": {
      "text/plain": [
       "(270000, 11)"
      ]
     },
     "execution_count": 64,
     "metadata": {},
     "output_type": "execute_result"
    }
   ],
   "source": [
    "X.shape"
   ]
  },
  {
   "cell_type": "code",
   "execution_count": 65,
   "metadata": {},
   "outputs": [
    {
     "data": {
      "text/plain": [
       "Index(['day_no', 'year', 'month', 'doy', 'x_EASE', 'y_EASE', 'u_ERA5',\n",
       "       'v_ERA5', 'sic_CDR', 'h_piomas', 'd2c'],\n",
       "      dtype='object')"
      ]
     },
     "execution_count": 65,
     "metadata": {},
     "output_type": "execute_result"
    }
   ],
   "source": [
    "X.columns"
   ]
  },
  {
   "cell_type": "code",
   "execution_count": 66,
   "metadata": {},
   "outputs": [
    {
     "name": "stdout",
     "output_type": "stream",
     "text": [
      "(270000,)\n"
     ]
    },
    {
     "data": {
      "text/plain": [
       "0    1\n",
       "1    1\n",
       "2    1\n",
       "3    1\n",
       "4    1\n",
       "Name: type, dtype: int64"
      ]
     },
     "execution_count": 66,
     "metadata": {},
     "output_type": "execute_result"
    }
   ],
   "source": [
    "Y=df_normalized_w_target[list(df_normalized_w_target.columns)[-1]]\n",
    "print(Y.shape)\n",
    "Y.head()\n"
   ]
  },
  {
   "cell_type": "code",
   "execution_count": 67,
   "metadata": {},
   "outputs": [
    {
     "name": "stdout",
     "output_type": "stream",
     "text": [
      "(270000, 11)\n",
      "(270000,)\n"
     ]
    }
   ],
   "source": [
    "print(X.shape)\n",
    "print(Y.shape)"
   ]
  },
  {
   "cell_type": "code",
   "execution_count": 69,
   "metadata": {},
   "outputs": [],
   "source": [
    "#sample the data, 6300 per output\n",
    "x, y = make_imbalance(X, Y,\n",
    "                      sampling_strategy={0: 5000, 1: 5000, 2: 5000},\n",
    "                      random_state=RANDOM_STATE)"
   ]
  },
  {
   "cell_type": "code",
   "execution_count": 70,
   "metadata": {},
   "outputs": [],
   "source": [
    "#split into training and testing\n",
    "X_train, X_test, y_train, y_test = train_test_split(\n",
    "    x, y, random_state=RANDOM_STATE)"
   ]
  },
  {
   "cell_type": "code",
   "execution_count": 71,
   "metadata": {},
   "outputs": [
    {
     "name": "stdout",
     "output_type": "stream",
     "text": [
      "Training target statistics: Counter({0: 3782, 2: 3766, 1: 3702})\n",
      "Testing target statistics: Counter({1: 1298, 2: 1234, 0: 1218})\n"
     ]
    }
   ],
   "source": [
    "print('Training target statistics: {}'.format(Counter(y_train)))\n",
    "print('Testing target statistics: {}'.format(Counter(y_test)))"
   ]
  },
  {
   "cell_type": "code",
   "execution_count": 72,
   "metadata": {},
   "outputs": [
    {
     "data": {
      "image/png": "[encoded data removed]",
      "text/plain": [
       "<Figure size 540x540 with 12 Axes>"
      ]
     },
     "metadata": {},
     "output_type": "display_data"
    }
   ],
   "source": [
    "sns.set()\n",
    "cols2 = ['type', 'u_buoy', 'v_buoy']\n",
    "sns.pairplot(df_normalized_w_target[cols2], height = 2.5)\n",
    "plt.show();"
   ]
  },
  {
   "cell_type": "code",
   "execution_count": 73,
   "metadata": {},
   "outputs": [],
   "source": [
    "clf = DecisionTreeClassifier(random_state=7)"
   ]
  },
  {
   "cell_type": "code",
   "execution_count": 74,
   "metadata": {},
   "outputs": [],
   "source": [
    "clf = clf.fit(X_train, y_train)"
   ]
  },
  {
   "cell_type": "code",
   "execution_count": 75,
   "metadata": {},
   "outputs": [
    {
     "data": {
      "text/plain": [
       "DecisionTreeClassifier(random_state=42)"
      ]
     },
     "execution_count": 75,
     "metadata": {},
     "output_type": "execute_result"
    }
   ],
   "source": [
    "dtree = DecisionTreeClassifier( random_state=42)\n",
    "dtree.fit(X_train,y_train)"
   ]
  },
  {
   "cell_type": "code",
   "execution_count": 76,
   "metadata": {},
   "outputs": [],
   "source": [
    "predictions = dtree.predict(X_test)"
   ]
  },
  {
   "cell_type": "code",
   "execution_count": 77,
   "metadata": {},
   "outputs": [
    {
     "name": "stdout",
     "output_type": "stream",
     "text": [
      "Decision Tree Train Accuracy: 1.0\n",
      "Decision Tree Test Accuracy: 0.8632\n"
     ]
    }
   ],
   "source": [
    "#this is for all the variables\n",
    "print (\"Decision Tree Train Accuracy:\", metrics.accuracy_score(y_train, dtree.predict(X_train)))\n",
    "print (\"Decision Tree Test Accuracy:\", metrics.accuracy_score(y_test, dtree.predict(X_test)))"
   ]
  },
  {
   "cell_type": "code",
   "execution_count": 78,
   "metadata": {},
   "outputs": [
    {
     "name": "stdout",
     "output_type": "stream",
     "text": [
      "Accuracy of decision tree classifier on test set: 0.86\n"
     ]
    }
   ],
   "source": [
    "print('Accuracy of decision tree classifier on test set: {:.2f}'.format(dtree.score(X_test, y_test)))"
   ]
  },
  {
   "cell_type": "code",
   "execution_count": 79,
   "metadata": {},
   "outputs": [
    {
     "name": "stdout",
     "output_type": "stream",
     "text": [
      "              precision    recall  f1-score   support\n",
      "\n",
      "           0       0.90      0.93      0.91      1218\n",
      "           1       0.83      0.80      0.82      1298\n",
      "           2       0.86      0.86      0.86      1234\n",
      "\n",
      "    accuracy                           0.86      3750\n",
      "   macro avg       0.86      0.86      0.86      3750\n",
      "weighted avg       0.86      0.86      0.86      3750\n",
      "\n"
     ]
    }
   ],
   "source": [
    "print(classification_report(y_test, predictions))"
   ]
  },
  {
   "cell_type": "code",
   "execution_count": 80,
   "metadata": {},
   "outputs": [
    {
     "data": {
      "text/html": [
       "<div>\n",
       "<style scoped>\n",
       "    .dataframe tbody tr th:only-of-type {\n",
       "        vertical-align: middle;\n",
       "    }\n",
       "\n",
       "    .dataframe tbody tr th {\n",
       "        vertical-align: top;\n",
       "    }\n",
       "\n",
       "    .dataframe thead th {\n",
       "        text-align: right;\n",
       "    }\n",
       "</style>\n",
       "<table border=\"1\" class=\"dataframe\">\n",
       "  <thead>\n",
       "    <tr style=\"text-align: right;\">\n",
       "      <th></th>\n",
       "      <th>day_no</th>\n",
       "      <th>year</th>\n",
       "      <th>month</th>\n",
       "      <th>doy</th>\n",
       "      <th>x_EASE</th>\n",
       "      <th>y_EASE</th>\n",
       "      <th>u_ERA5</th>\n",
       "      <th>v_ERA5</th>\n",
       "      <th>sic_CDR</th>\n",
       "      <th>h_piomas</th>\n",
       "      <th>d2c</th>\n",
       "    </tr>\n",
       "  </thead>\n",
       "  <tbody>\n",
       "    <tr>\n",
       "      <th>404</th>\n",
       "      <td>0.996851</td>\n",
       "      <td>1.000</td>\n",
       "      <td>0.909091</td>\n",
       "      <td>0.870523</td>\n",
       "      <td>0.347148</td>\n",
       "      <td>0.307956</td>\n",
       "      <td>0.342452</td>\n",
       "      <td>0.425144</td>\n",
       "      <td>0.937383</td>\n",
       "      <td>0.041192</td>\n",
       "      <td>0.012797</td>\n",
       "    </tr>\n",
       "    <tr>\n",
       "      <th>5221</th>\n",
       "      <td>0.272228</td>\n",
       "      <td>0.275</td>\n",
       "      <td>0.272727</td>\n",
       "      <td>0.256198</td>\n",
       "      <td>0.479318</td>\n",
       "      <td>0.276747</td>\n",
       "      <td>0.687650</td>\n",
       "      <td>0.354575</td>\n",
       "      <td>1.000000</td>\n",
       "      <td>0.397478</td>\n",
       "      <td>0.116230</td>\n",
       "    </tr>\n",
       "    <tr>\n",
       "      <th>3357</th>\n",
       "      <td>0.859229</td>\n",
       "      <td>0.875</td>\n",
       "      <td>0.181818</td>\n",
       "      <td>0.242424</td>\n",
       "      <td>0.408983</td>\n",
       "      <td>0.287095</td>\n",
       "      <td>0.637435</td>\n",
       "      <td>0.358787</td>\n",
       "      <td>0.773135</td>\n",
       "      <td>0.372472</td>\n",
       "      <td>0.015003</td>\n",
       "    </tr>\n",
       "    <tr>\n",
       "      <th>7336</th>\n",
       "      <td>0.861441</td>\n",
       "      <td>0.875</td>\n",
       "      <td>0.363636</td>\n",
       "      <td>0.333333</td>\n",
       "      <td>0.398827</td>\n",
       "      <td>0.374579</td>\n",
       "      <td>0.672725</td>\n",
       "      <td>0.518224</td>\n",
       "      <td>0.998966</td>\n",
       "      <td>0.336630</td>\n",
       "      <td>0.413329</td>\n",
       "    </tr>\n",
       "    <tr>\n",
       "      <th>8313</th>\n",
       "      <td>0.842881</td>\n",
       "      <td>0.850</td>\n",
       "      <td>0.545455</td>\n",
       "      <td>0.575758</td>\n",
       "      <td>0.609448</td>\n",
       "      <td>0.324853</td>\n",
       "      <td>0.473079</td>\n",
       "      <td>0.481099</td>\n",
       "      <td>0.808714</td>\n",
       "      <td>0.111759</td>\n",
       "      <td>0.377160</td>\n",
       "    </tr>\n",
       "    <tr>\n",
       "      <th>...</th>\n",
       "      <td>...</td>\n",
       "      <td>...</td>\n",
       "      <td>...</td>\n",
       "      <td>...</td>\n",
       "      <td>...</td>\n",
       "      <td>...</td>\n",
       "      <td>...</td>\n",
       "      <td>...</td>\n",
       "      <td>...</td>\n",
       "      <td>...</td>\n",
       "      <td>...</td>\n",
       "    </tr>\n",
       "    <tr>\n",
       "      <th>3120</th>\n",
       "      <td>0.962747</td>\n",
       "      <td>0.975</td>\n",
       "      <td>0.454545</td>\n",
       "      <td>0.473829</td>\n",
       "      <td>0.451577</td>\n",
       "      <td>0.279876</td>\n",
       "      <td>0.621922</td>\n",
       "      <td>0.427418</td>\n",
       "      <td>0.959316</td>\n",
       "      <td>0.225032</td>\n",
       "      <td>0.019071</td>\n",
       "    </tr>\n",
       "    <tr>\n",
       "      <th>14216</th>\n",
       "      <td>0.870620</td>\n",
       "      <td>0.875</td>\n",
       "      <td>0.727273</td>\n",
       "      <td>0.710744</td>\n",
       "      <td>0.409548</td>\n",
       "      <td>0.368803</td>\n",
       "      <td>0.771100</td>\n",
       "      <td>0.360812</td>\n",
       "      <td>0.551233</td>\n",
       "      <td>0.040372</td>\n",
       "      <td>0.412167</td>\n",
       "    </tr>\n",
       "    <tr>\n",
       "      <th>14455</th>\n",
       "      <td>0.904054</td>\n",
       "      <td>0.925</td>\n",
       "      <td>0.000000</td>\n",
       "      <td>0.074380</td>\n",
       "      <td>0.542962</td>\n",
       "      <td>0.817857</td>\n",
       "      <td>0.472609</td>\n",
       "      <td>0.684584</td>\n",
       "      <td>0.996055</td>\n",
       "      <td>0.275701</td>\n",
       "      <td>0.147273</td>\n",
       "    </tr>\n",
       "    <tr>\n",
       "      <th>56</th>\n",
       "      <td>0.863920</td>\n",
       "      <td>0.875</td>\n",
       "      <td>0.454545</td>\n",
       "      <td>0.435262</td>\n",
       "      <td>0.408983</td>\n",
       "      <td>0.287095</td>\n",
       "      <td>0.590277</td>\n",
       "      <td>0.393188</td>\n",
       "      <td>0.773135</td>\n",
       "      <td>0.212681</td>\n",
       "      <td>0.015003</td>\n",
       "    </tr>\n",
       "    <tr>\n",
       "      <th>7717</th>\n",
       "      <td>0.672228</td>\n",
       "      <td>0.675</td>\n",
       "      <td>0.636364</td>\n",
       "      <td>0.603306</td>\n",
       "      <td>0.527778</td>\n",
       "      <td>0.419880</td>\n",
       "      <td>0.513174</td>\n",
       "      <td>0.514089</td>\n",
       "      <td>0.988163</td>\n",
       "      <td>0.313973</td>\n",
       "      <td>0.840674</td>\n",
       "    </tr>\n",
       "  </tbody>\n",
       "</table>\n",
       "<p>3750 rows × 11 columns</p>\n",
       "</div>"
      ],
      "text/plain": [
       "         day_no   year     month       doy    x_EASE    y_EASE    u_ERA5  \\\n",
       "404    0.996851  1.000  0.909091  0.870523  0.347148  0.307956  0.342452   \n",
       "5221   0.272228  0.275  0.272727  0.256198  0.479318  0.276747  0.687650   \n",
       "3357   0.859229  0.875  0.181818  0.242424  0.408983  0.287095  0.637435   \n",
       "7336   0.861441  0.875  0.363636  0.333333  0.398827  0.374579  0.672725   \n",
       "8313   0.842881  0.850  0.545455  0.575758  0.609448  0.324853  0.473079   \n",
       "...         ...    ...       ...       ...       ...       ...       ...   \n",
       "3120   0.962747  0.975  0.454545  0.473829  0.451577  0.279876  0.621922   \n",
       "14216  0.870620  0.875  0.727273  0.710744  0.409548  0.368803  0.771100   \n",
       "14455  0.904054  0.925  0.000000  0.074380  0.542962  0.817857  0.472609   \n",
       "56     0.863920  0.875  0.454545  0.435262  0.408983  0.287095  0.590277   \n",
       "7717   0.672228  0.675  0.636364  0.603306  0.527778  0.419880  0.513174   \n",
       "\n",
       "         v_ERA5   sic_CDR  h_piomas       d2c  \n",
       "404    0.425144  0.937383  0.041192  0.012797  \n",
       "5221   0.354575  1.000000  0.397478  0.116230  \n",
       "3357   0.358787  0.773135  0.372472  0.015003  \n",
       "7336   0.518224  0.998966  0.336630  0.413329  \n",
       "8313   0.481099  0.808714  0.111759  0.377160  \n",
       "...         ...       ...       ...       ...  \n",
       "3120   0.427418  0.959316  0.225032  0.019071  \n",
       "14216  0.360812  0.551233  0.040372  0.412167  \n",
       "14455  0.684584  0.996055  0.275701  0.147273  \n",
       "56     0.393188  0.773135  0.212681  0.015003  \n",
       "7717   0.514089  0.988163  0.313973  0.840674  \n",
       "\n",
       "[3750 rows x 11 columns]"
      ]
     },
     "execution_count": 80,
     "metadata": {},
     "output_type": "execute_result"
    }
   ],
   "source": [
    "X_test"
   ]
  },
  {
   "cell_type": "code",
   "execution_count": 81,
   "metadata": {},
   "outputs": [
    {
     "name": "stdout",
     "output_type": "stream",
     "text": [
      "[[1127   69   22]\n",
      " [  97 1044  157]\n",
      " [  29  139 1066]]\n"
     ]
    }
   ],
   "source": [
    "print(confusion_matrix(y_test,predictions))"
   ]
  },
  {
   "cell_type": "code",
   "execution_count": 82,
   "metadata": {},
   "outputs": [
    {
     "data": {
      "text/plain": [
       "Text(0, 0.5, 'Accuracy Rate')"
      ]
     },
     "execution_count": 82,
     "metadata": {},
     "output_type": "execute_result"
    },
    {
     "data": {
      "image/png": "[encoded data removed]",
      "text/plain": [
       "<Figure size 864x576 with 1 Axes>"
      ]
     },
     "metadata": {},
     "output_type": "display_data"
    }
   ],
   "source": [
    "accuracy_rate = []\n",
    "training_acc = []\n",
    "\n",
    "for i in range(1,21):   \n",
    "    dtree = DecisionTreeClassifier(max_depth=i)\n",
    "    dtree.fit(X_train, y_train) \n",
    "    accuracy_rate.append(dtree.score(X_test, y_test))\n",
    "    training_acc.append(dtree.score(X_train, y_train))\n",
    "\n",
    "\n",
    "plt.figure(figsize=(12,8))\n",
    "\n",
    "plt.plot(np.arange(1,21), accuracy_rate,color='red', linestyle='dashed', marker='o',\n",
    "         markerfacecolor='red', markersize=10)\n",
    "plt.plot(np.arange(1,21), training_acc,color='blue', linestyle='dashed', marker='o',\n",
    "         markerfacecolor='blue', markersize=10)\n",
    "plt.title('Accuracy Rate vs. Tree Depth')\n",
    "plt.xlabel('Tree Depth')\n",
    "plt.ylabel('Accuracy Rate')\n",
    "\n",
    "#blue - trianing accuracy \n",
    "# red - testing accuracyy"
   ]
  },
  {
   "cell_type": "code",
   "execution_count": 83,
   "metadata": {},
   "outputs": [
    {
     "data": {
      "text/plain": [
       "RandomForestClassifier()"
      ]
     },
     "execution_count": 83,
     "metadata": {},
     "output_type": "execute_result"
    }
   ],
   "source": [
    "rfc = RandomForestClassifier(n_estimators=100)\n",
    "rfc.fit(X_train, y_train)"
   ]
  },
  {
   "cell_type": "code",
   "execution_count": 84,
   "metadata": {},
   "outputs": [],
   "source": [
    "rfc_pred = rfc.predict(X_test)"
   ]
  },
  {
   "cell_type": "code",
   "execution_count": 85,
   "metadata": {},
   "outputs": [
    {
     "name": "stdout",
     "output_type": "stream",
     "text": [
      "Random Forest Train Accuracy Baseline: 1.0\n",
      "Random Forest Test Accuracy Baselsine: 0.9272\n"
     ]
    }
   ],
   "source": [
    "y_pred =  rfc.predict(X_test)\n",
    "print (\"Random Forest Train Accuracy Baseline:\", metrics.accuracy_score(y_train, rfc.predict(X_train)))\n",
    "print (\"Random Forest Test Accuracy Baselsine:\", metrics.accuracy_score(y_test, rfc.predict(X_test)))"
   ]
  },
  {
   "cell_type": "code",
   "execution_count": 86,
   "metadata": {},
   "outputs": [
    {
     "name": "stdout",
     "output_type": "stream",
     "text": [
      "[[1155   53   10]\n",
      " [  44 1153  101]\n",
      " [   9   56 1169]]\n"
     ]
    }
   ],
   "source": [
    "print(confusion_matrix(y_test,rfc_pred))"
   ]
  },
  {
   "cell_type": "code",
   "execution_count": 87,
   "metadata": {},
   "outputs": [
    {
     "name": "stdout",
     "output_type": "stream",
     "text": [
      "              precision    recall  f1-score   support\n",
      "\n",
      "           0       0.96      0.95      0.95      1218\n",
      "           1       0.91      0.89      0.90      1298\n",
      "           2       0.91      0.95      0.93      1234\n",
      "\n",
      "    accuracy                           0.93      3750\n",
      "   macro avg       0.93      0.93      0.93      3750\n",
      "weighted avg       0.93      0.93      0.93      3750\n",
      "\n"
     ]
    }
   ],
   "source": [
    "print(classification_report(y_test,rfc_pred))"
   ]
  },
  {
   "cell_type": "markdown",
   "metadata": {},
   "source": [
    "# Hyperparameter Tuning - Random Forest"
   ]
  },
  {
   "cell_type": "code",
   "execution_count": 88,
   "metadata": {},
   "outputs": [],
   "source": [
    "#sample the data, 6300 per output\n",
    "x, y = make_imbalance(X, Y,\n",
    "                      sampling_strategy={0: 5000, 1: 5000, 2: 5000},\n",
    "                      random_state=RANDOM_STATE)"
   ]
  },
  {
   "cell_type": "code",
   "execution_count": 89,
   "metadata": {},
   "outputs": [],
   "source": [
    "#split into training and testing\n",
    "X_train, X_test, y_train, y_test = train_test_split(\n",
    "    x, y, random_state=5)"
   ]
  },
  {
   "cell_type": "code",
   "execution_count": 90,
   "metadata": {},
   "outputs": [
    {
     "name": "stdout",
     "output_type": "stream",
     "text": [
      "Training target statistics: Counter({1: 3778, 2: 3750, 0: 3722})\n",
      "Testing target statistics: Counter({0: 1278, 2: 1250, 1: 1222})\n"
     ]
    }
   ],
   "source": [
    "print('Training target statistics: {}'.format(Counter(y_train)))\n",
    "print('Testing target statistics: {}'.format(Counter(y_test)))"
   ]
  },
  {
   "cell_type": "code",
   "execution_count": 91,
   "metadata": {},
   "outputs": [
    {
     "data": {
      "text/plain": [
       "RandomForestClassifier()"
      ]
     },
     "execution_count": 91,
     "metadata": {},
     "output_type": "execute_result"
    }
   ],
   "source": [
    "# Random forest baseline performance\n",
    "rfc = RandomForestClassifier()\n",
    "rfc.fit(X_train, y_train)"
   ]
  },
  {
   "cell_type": "code",
   "execution_count": 92,
   "metadata": {},
   "outputs": [
    {
     "data": {
      "text/plain": [
       "{'bootstrap': [True],\n",
       " 'max_depth': [10, 15, 20, None],\n",
       " 'min_samples_leaf': [1, 10, 20, 50, 100, 500],\n",
       " 'min_samples_split': [2, 30, 40, 100]}"
      ]
     },
     "execution_count": 92,
     "metadata": {},
     "output_type": "execute_result"
    }
   ],
   "source": [
    "\n",
    "# Create the parameter grid based on the results of random search \n",
    "param_grid = {\n",
    "    'bootstrap': [True],\n",
    "    'max_depth': [10,15, 20, None],\n",
    "    'min_samples_leaf': [1, 10, 20, 50, 100,500],\n",
    "    'min_samples_split': [2, 30, 40,100],\n",
    "}\n",
    "param_grid"
   ]
  },
  {
   "cell_type": "code",
   "execution_count": 93,
   "metadata": {},
   "outputs": [],
   "source": [
    "# Create a based model\n",
    "rfc_gs = RandomForestClassifier()\n",
    "# Instantiate the grid search model\n",
    "grid_search = GridSearchCV(estimator = rfc_gs, param_grid = param_grid, \n",
    "                          cv = 10, n_jobs = -1, verbose = 2)"
   ]
  },
  {
   "cell_type": "code",
   "execution_count": 94,
   "metadata": {},
   "outputs": [
    {
     "name": "stdout",
     "output_type": "stream",
     "text": [
      "Fitting 10 folds for each of 96 candidates, totalling 960 fits\n"
     ]
    },
    {
     "name": "stderr",
     "output_type": "stream",
     "text": [
      "[Parallel(n_jobs=-1)]: Using backend LokyBackend with 4 concurrent workers.\n",
      "[Parallel(n_jobs=-1)]: Done  33 tasks      | elapsed:   16.3s\n",
      "[Parallel(n_jobs=-1)]: Done 154 tasks      | elapsed:  1.1min\n",
      "[Parallel(n_jobs=-1)]: Done 357 tasks      | elapsed:  2.3min\n",
      "[Parallel(n_jobs=-1)]: Done 640 tasks      | elapsed:  4.1min\n",
      "[Parallel(n_jobs=-1)]: Done 960 out of 960 | elapsed:  6.0min finished\n"
     ]
    },
    {
     "data": {
      "text/plain": [
       "GridSearchCV(cv=10, estimator=RandomForestClassifier(), n_jobs=-1,\n",
       "             param_grid={'bootstrap': [True], 'max_depth': [10, 15, 20, None],\n",
       "                         'min_samples_leaf': [1, 10, 20, 50, 100, 500],\n",
       "                         'min_samples_split': [2, 30, 40, 100]},\n",
       "             verbose=2)"
      ]
     },
     "execution_count": 94,
     "metadata": {},
     "output_type": "execute_result"
    }
   ],
   "source": [
    "# Fit the grid search to the data\n",
    "grid_search.fit(X_train, y_train)"
   ]
  },
  {
   "cell_type": "code",
   "execution_count": 95,
   "metadata": {},
   "outputs": [
    {
     "data": {
      "text/plain": [
       "{'bootstrap': True,\n",
       " 'max_depth': None,\n",
       " 'min_samples_leaf': 1,\n",
       " 'min_samples_split': 2}"
      ]
     },
     "execution_count": 95,
     "metadata": {},
     "output_type": "execute_result"
    }
   ],
   "source": [
    "grid_search.best_params_"
   ]
  },
  {
   "cell_type": "code",
   "execution_count": 96,
   "metadata": {},
   "outputs": [
    {
     "data": {
      "text/plain": [
       "RandomForestClassifier()"
      ]
     },
     "execution_count": 96,
     "metadata": {},
     "output_type": "execute_result"
    }
   ],
   "source": [
    "best_grid = grid_search.best_estimator_\n",
    "best_grid"
   ]
  },
  {
   "cell_type": "code",
   "execution_count": 97,
   "metadata": {},
   "outputs": [],
   "source": [
    "optimal_param_grid = {\n",
    "    'bootstrap': [True],\n",
    "    'min_samples_leaf': [1],\n",
    "    'min_samples_split': [2],\n",
    "}"
   ]
  },
  {
   "cell_type": "code",
   "execution_count": 98,
   "metadata": {},
   "outputs": [],
   "source": [
    "grid_search = GridSearchCV(estimator = rfc, param_grid = optimal_param_grid, \n",
    "                          cv = 25, n_jobs = -1, verbose = 2)"
   ]
  },
  {
   "cell_type": "code",
   "execution_count": 99,
   "metadata": {},
   "outputs": [
    {
     "name": "stdout",
     "output_type": "stream",
     "text": [
      "Fitting 25 folds for each of 1 candidates, totalling 25 fits\n"
     ]
    },
    {
     "name": "stderr",
     "output_type": "stream",
     "text": [
      "[Parallel(n_jobs=-1)]: Using backend LokyBackend with 4 concurrent workers.\n",
      "[Parallel(n_jobs=-1)]: Done  25 out of  25 | elapsed:   19.2s finished\n"
     ]
    },
    {
     "data": {
      "text/plain": [
       "GridSearchCV(cv=25, estimator=RandomForestClassifier(), n_jobs=-1,\n",
       "             param_grid={'bootstrap': [True], 'min_samples_leaf': [1],\n",
       "                         'min_samples_split': [2]},\n",
       "             verbose=2)"
      ]
     },
     "execution_count": 99,
     "metadata": {},
     "output_type": "execute_result"
    }
   ],
   "source": [
    "# Fit the grid search to the data\n",
    "grid_search.fit(X_train, y_train)"
   ]
  },
  {
   "cell_type": "code",
   "execution_count": 100,
   "metadata": {},
   "outputs": [
    {
     "name": "stdout",
     "output_type": "stream",
     "text": [
      "Random Forest Train Accuracy Baseline After Grid Search: 1.0\n",
      "Random Forest Test Accuracy Baseline After Grid Search: 0.9234666666666667\n"
     ]
    }
   ],
   "source": [
    "rfc_pred_gs = grid_search.predict(X_test)\n",
    "\n",
    "y_pred_gs =  grid_search.predict(X_test)\n",
    "print (\"Random Forest Train Accuracy Baseline After Grid Search:\", metrics.accuracy_score(y_train, grid_search.predict(X_train)))\n",
    "print (\"Random Forest Test Accuracy Baseline After Grid Search:\", metrics.accuracy_score(y_test, grid_search.predict(X_test)))"
   ]
  },
  {
   "cell_type": "code",
   "execution_count": 101,
   "metadata": {},
   "outputs": [
    {
     "data": {
      "text/plain": [
       "Text(0, 0.5, 'Accuracy Rate')"
      ]
     },
     "execution_count": 101,
     "metadata": {},
     "output_type": "execute_result"
    },
    {
     "data": {
      "image/png": "[encoded data removed]",
      "text/plain": [
       "<Figure size 864x576 with 1 Axes>"
      ]
     },
     "metadata": {},
     "output_type": "display_data"
    }
   ],
   "source": [
    "accuracy_rate = []\n",
    "training_acc = []\n",
    "\n",
    "for i in range(1,100):   \n",
    "    rfc_plot = RandomForestClassifier(bootstrap=True,\n",
    "                       max_depth=20, \n",
    "                       min_samples_leaf=1, min_samples_split=2,\n",
    "                       n_estimators=i)\n",
    "    rfc_plot.fit(X_train, y_train) \n",
    "    accuracy_rate.append(rfc_plot.score(X_test, y_test))\n",
    "    training_acc.append(rfc_plot.score(X_train, y_train))\n",
    "    \n",
    "plt.figure(figsize=(12,8))\n",
    "plt.plot(np.arange(1,100), accuracy_rate,color='blue', linestyle='dashed', marker='o',\n",
    "         markerfacecolor='blue', markersize=10)\n",
    "plt.plot(np.arange(1,100), training_acc,color='red', linestyle='dashed', marker='o',\n",
    "         markerfacecolor='red', markersize=10)\n",
    "\n",
    "#training > testing\n",
    "plt.title('Accuracy Rate vs. N-Estimators')\n",
    "plt.xlabel('N-Estimators')\n",
    "plt.ylabel('Accuracy Rate')"
   ]
  },
  {
   "cell_type": "code",
   "execution_count": null,
   "metadata": {},
   "outputs": [],
   "source": []
  }
 ],
 "metadata": {
  "kernelspec": {
   "display_name": "Python 3",
   "language": "python",
   "name": "python3"
  },
  "language_info": {
   "codemirror_mode": {
    "name": "ipython",
    "version": 3
   },
   "file_extension": ".py",
   "mimetype": "text/x-python",
   "name": "python",
   "nbconvert_exporter": "python",
   "pygments_lexer": "ipython3",
   "version": "3.6.10"
  }
 },
 "nbformat": 4,
 "nbformat_minor": 4
}
