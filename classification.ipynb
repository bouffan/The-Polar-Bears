{
 "cells": [
  {
   "cell_type": "code",
   "execution_count": 2,
   "metadata": {},
   "outputs": [],
   "source": [
    "import numpy as np\n",
    "import pandas as pd\n",
    "from sklearn.model_selection import train_test_split\n",
    "from sklearn.preprocessing import StandardScaler\n",
    "from sklearn.ensemble import RandomForestClassifier\n",
    "from sklearn.metrics import confusion_matrix\n",
    "import joblib\n",
    "from sklearn import preprocessing\n",
    "from imblearn.datasets import make_imbalance\n",
    "from collections import Counter\n",
    "import seaborn as sns \n",
    "import matplotlib.pyplot as plt \n",
    "from sklearn.tree import DecisionTreeClassifier\n",
    "from sklearn import metrics\n",
    "from sklearn.metrics import classification_report\n",
    "from sklearn import inspection\n",
    "from sklearn.model_selection import GridSearchCV\n",
    "from sklearn.model_selection import cross_val_score\n",
    "from sklearn.ensemble import RandomForestClassifier, GradientBoostingClassifier\n",
    "from sklearn.metrics import roc_auc_score\n",
    "from mlens.visualization import corrmat\n",
    "from joblib import dump, load"
   ]
  },
  {
   "cell_type": "markdown",
   "metadata": {},
   "source": [
    "Here the sea ice velocity has been classified into three categories based on their magnitude. Predicting the extreme high or low values can be a common probelm in regression. So the idea is to first clssify them into two or three categories based on their intensity and then doing regression analysis on them. "
   ]
  },
  {
   "cell_type": "code",
   "execution_count": 3,
   "metadata": {},
   "outputs": [
    {
     "name": "stdout",
     "output_type": "stream",
     "text": [
      "Index(['day_no', 'year', 'month', 'doy', 'x_EASE', 'y_EASE', 'u_buoy',\n",
      "       'v_buoy', 'val_mag', 'vel_dir', 'ice_quadrant', 'u_ERA5', 'v_ERA5',\n",
      "       'wind_val_mag', 'wind_quadrant', 'wind_dir', 'sic_CDR', 'h_piomas',\n",
      "       'd2c'],\n",
      "      dtype='object')\n"
     ]
    }
   ],
   "source": [
    "df = pd.read_excel('modified_trainset.xlsx')\n",
    "print(df.columns)\n"
   ]
  },
  {
   "cell_type": "code",
   "execution_count": 4,
   "metadata": {},
   "outputs": [
    {
     "data": {
      "text/html": [
       "<div>\n",
       "<style scoped>\n",
       "    .dataframe tbody tr th:only-of-type {\n",
       "        vertical-align: middle;\n",
       "    }\n",
       "\n",
       "    .dataframe tbody tr th {\n",
       "        vertical-align: top;\n",
       "    }\n",
       "\n",
       "    .dataframe thead th {\n",
       "        text-align: right;\n",
       "    }\n",
       "</style>\n",
       "<table border=\"1\" class=\"dataframe\">\n",
       "  <thead>\n",
       "    <tr style=\"text-align: right;\">\n",
       "      <th></th>\n",
       "      <th>day_no</th>\n",
       "      <th>year</th>\n",
       "      <th>month</th>\n",
       "      <th>doy</th>\n",
       "      <th>x_EASE</th>\n",
       "      <th>y_EASE</th>\n",
       "      <th>u_buoy</th>\n",
       "      <th>v_buoy</th>\n",
       "      <th>val_mag</th>\n",
       "      <th>vel_dir</th>\n",
       "      <th>ice_quadrant</th>\n",
       "      <th>u_ERA5</th>\n",
       "      <th>v_ERA5</th>\n",
       "      <th>wind_val_mag</th>\n",
       "      <th>wind_quadrant</th>\n",
       "      <th>wind_dir</th>\n",
       "      <th>sic_CDR</th>\n",
       "      <th>h_piomas</th>\n",
       "      <th>d2c</th>\n",
       "    </tr>\n",
       "  </thead>\n",
       "  <tbody>\n",
       "    <tr>\n",
       "      <th>0</th>\n",
       "      <td>0</td>\n",
       "      <td>1979</td>\n",
       "      <td>2</td>\n",
       "      <td>49</td>\n",
       "      <td>147.506958</td>\n",
       "      <td>138.582672</td>\n",
       "      <td>-0.797554</td>\n",
       "      <td>1.114740</td>\n",
       "      <td>1.370671</td>\n",
       "      <td>125.582277</td>\n",
       "      <td>2</td>\n",
       "      <td>-6.704156</td>\n",
       "      <td>-0.321260</td>\n",
       "      <td>6.711849</td>\n",
       "      <td>3</td>\n",
       "      <td>182.743485</td>\n",
       "      <td>0.990195</td>\n",
       "      <td>3.189743</td>\n",
       "      <td>522.523298</td>\n",
       "    </tr>\n",
       "    <tr>\n",
       "      <th>1</th>\n",
       "      <td>0</td>\n",
       "      <td>1979</td>\n",
       "      <td>2</td>\n",
       "      <td>49</td>\n",
       "      <td>146.834778</td>\n",
       "      <td>120.509880</td>\n",
       "      <td>0.643200</td>\n",
       "      <td>0.368754</td>\n",
       "      <td>0.741408</td>\n",
       "      <td>29.826147</td>\n",
       "      <td>1</td>\n",
       "      <td>-6.818630</td>\n",
       "      <td>-0.674205</td>\n",
       "      <td>6.851881</td>\n",
       "      <td>3</td>\n",
       "      <td>185.646875</td>\n",
       "      <td>0.966372</td>\n",
       "      <td>2.484009</td>\n",
       "      <td>412.767669</td>\n",
       "    </tr>\n",
       "    <tr>\n",
       "      <th>2</th>\n",
       "      <td>0</td>\n",
       "      <td>1979</td>\n",
       "      <td>2</td>\n",
       "      <td>49</td>\n",
       "      <td>130.993561</td>\n",
       "      <td>129.623672</td>\n",
       "      <td>-1.162420</td>\n",
       "      <td>0.243717</td>\n",
       "      <td>1.187695</td>\n",
       "      <td>168.158690</td>\n",
       "      <td>2</td>\n",
       "      <td>-8.825469</td>\n",
       "      <td>1.123955</td>\n",
       "      <td>8.896751</td>\n",
       "      <td>2</td>\n",
       "      <td>172.742248</td>\n",
       "      <td>0.996022</td>\n",
       "      <td>2.474106</td>\n",
       "      <td>362.547379</td>\n",
       "    </tr>\n",
       "    <tr>\n",
       "      <th>3</th>\n",
       "      <td>0</td>\n",
       "      <td>1979</td>\n",
       "      <td>2</td>\n",
       "      <td>49</td>\n",
       "      <td>147.524719</td>\n",
       "      <td>157.382492</td>\n",
       "      <td>0.919766</td>\n",
       "      <td>0.025784</td>\n",
       "      <td>0.920127</td>\n",
       "      <td>1.605796</td>\n",
       "      <td>1</td>\n",
       "      <td>-1.079951</td>\n",
       "      <td>-1.035410</td>\n",
       "      <td>1.496117</td>\n",
       "      <td>3</td>\n",
       "      <td>223.793757</td>\n",
       "      <td>0.982681</td>\n",
       "      <td>3.740522</td>\n",
       "      <td>381.025629</td>\n",
       "    </tr>\n",
       "    <tr>\n",
       "      <th>4</th>\n",
       "      <td>1</td>\n",
       "      <td>1979</td>\n",
       "      <td>2</td>\n",
       "      <td>50</td>\n",
       "      <td>147.470963</td>\n",
       "      <td>138.599823</td>\n",
       "      <td>0.380940</td>\n",
       "      <td>1.243485</td>\n",
       "      <td>1.300527</td>\n",
       "      <td>72.967623</td>\n",
       "      <td>1</td>\n",
       "      <td>-2.169171</td>\n",
       "      <td>2.537787</td>\n",
       "      <td>3.338513</td>\n",
       "      <td>2</td>\n",
       "      <td>130.522141</td>\n",
       "      <td>0.990302</td>\n",
       "      <td>3.188522</td>\n",
       "      <td>521.535334</td>\n",
       "    </tr>\n",
       "  </tbody>\n",
       "</table>\n",
       "</div>"
      ],
      "text/plain": [
       "   day_no  year  month  doy      x_EASE      y_EASE    u_buoy    v_buoy  \\\n",
       "0       0  1979      2   49  147.506958  138.582672 -0.797554  1.114740   \n",
       "1       0  1979      2   49  146.834778  120.509880  0.643200  0.368754   \n",
       "2       0  1979      2   49  130.993561  129.623672 -1.162420  0.243717   \n",
       "3       0  1979      2   49  147.524719  157.382492  0.919766  0.025784   \n",
       "4       1  1979      2   50  147.470963  138.599823  0.380940  1.243485   \n",
       "\n",
       "    val_mag     vel_dir  ice_quadrant    u_ERA5    v_ERA5  wind_val_mag  \\\n",
       "0  1.370671  125.582277             2 -6.704156 -0.321260      6.711849   \n",
       "1  0.741408   29.826147             1 -6.818630 -0.674205      6.851881   \n",
       "2  1.187695  168.158690             2 -8.825469  1.123955      8.896751   \n",
       "3  0.920127    1.605796             1 -1.079951 -1.035410      1.496117   \n",
       "4  1.300527   72.967623             1 -2.169171  2.537787      3.338513   \n",
       "\n",
       "   wind_quadrant    wind_dir   sic_CDR  h_piomas         d2c  \n",
       "0              3  182.743485  0.990195  3.189743  522.523298  \n",
       "1              3  185.646875  0.966372  2.484009  412.767669  \n",
       "2              2  172.742248  0.996022  2.474106  362.547379  \n",
       "3              3  223.793757  0.982681  3.740522  381.025629  \n",
       "4              2  130.522141  0.990302  3.188522  521.535334  "
      ]
     },
     "execution_count": 4,
     "metadata": {},
     "output_type": "execute_result"
    }
   ],
   "source": [
    "var=df.copy()\n",
    "var.head()"
   ]
  },
  {
   "cell_type": "code",
   "execution_count": 5,
   "metadata": {},
   "outputs": [
    {
     "data": {
      "text/html": [
       "<div>\n",
       "<style scoped>\n",
       "    .dataframe tbody tr th:only-of-type {\n",
       "        vertical-align: middle;\n",
       "    }\n",
       "\n",
       "    .dataframe tbody tr th {\n",
       "        vertical-align: top;\n",
       "    }\n",
       "\n",
       "    .dataframe thead th {\n",
       "        text-align: right;\n",
       "    }\n",
       "</style>\n",
       "<table border=\"1\" class=\"dataframe\">\n",
       "  <thead>\n",
       "    <tr style=\"text-align: right;\">\n",
       "      <th></th>\n",
       "      <th>day_no</th>\n",
       "      <th>year</th>\n",
       "      <th>month</th>\n",
       "      <th>doy</th>\n",
       "      <th>x_EASE</th>\n",
       "      <th>y_EASE</th>\n",
       "      <th>u_buoy</th>\n",
       "      <th>v_buoy</th>\n",
       "      <th>val_mag</th>\n",
       "      <th>vel_dir</th>\n",
       "      <th>ice_quadrant</th>\n",
       "      <th>u_ERA5</th>\n",
       "      <th>v_ERA5</th>\n",
       "      <th>wind_val_mag</th>\n",
       "      <th>wind_quadrant</th>\n",
       "      <th>wind_dir</th>\n",
       "      <th>sic_CDR</th>\n",
       "      <th>h_piomas</th>\n",
       "      <th>d2c</th>\n",
       "    </tr>\n",
       "  </thead>\n",
       "  <tbody>\n",
       "    <tr>\n",
       "      <th>0</th>\n",
       "      <td>0</td>\n",
       "      <td>1979</td>\n",
       "      <td>2</td>\n",
       "      <td>49</td>\n",
       "      <td>147.506958</td>\n",
       "      <td>138.582672</td>\n",
       "      <td>-0.797554</td>\n",
       "      <td>1.114740</td>\n",
       "      <td>1.370671</td>\n",
       "      <td>125.582277</td>\n",
       "      <td>2</td>\n",
       "      <td>-6.704156</td>\n",
       "      <td>-0.321260</td>\n",
       "      <td>6.711849</td>\n",
       "      <td>3</td>\n",
       "      <td>182.743485</td>\n",
       "      <td>0.990195</td>\n",
       "      <td>3.189743</td>\n",
       "      <td>522.523298</td>\n",
       "    </tr>\n",
       "    <tr>\n",
       "      <th>1</th>\n",
       "      <td>0</td>\n",
       "      <td>1979</td>\n",
       "      <td>2</td>\n",
       "      <td>49</td>\n",
       "      <td>146.834778</td>\n",
       "      <td>120.509880</td>\n",
       "      <td>0.643200</td>\n",
       "      <td>0.368754</td>\n",
       "      <td>0.741408</td>\n",
       "      <td>29.826147</td>\n",
       "      <td>1</td>\n",
       "      <td>-6.818630</td>\n",
       "      <td>-0.674205</td>\n",
       "      <td>6.851881</td>\n",
       "      <td>3</td>\n",
       "      <td>185.646875</td>\n",
       "      <td>0.966372</td>\n",
       "      <td>2.484009</td>\n",
       "      <td>412.767669</td>\n",
       "    </tr>\n",
       "    <tr>\n",
       "      <th>2</th>\n",
       "      <td>0</td>\n",
       "      <td>1979</td>\n",
       "      <td>2</td>\n",
       "      <td>49</td>\n",
       "      <td>130.993561</td>\n",
       "      <td>129.623672</td>\n",
       "      <td>-1.162420</td>\n",
       "      <td>0.243717</td>\n",
       "      <td>1.187695</td>\n",
       "      <td>168.158690</td>\n",
       "      <td>2</td>\n",
       "      <td>-8.825469</td>\n",
       "      <td>1.123955</td>\n",
       "      <td>8.896751</td>\n",
       "      <td>2</td>\n",
       "      <td>172.742248</td>\n",
       "      <td>0.996022</td>\n",
       "      <td>2.474106</td>\n",
       "      <td>362.547379</td>\n",
       "    </tr>\n",
       "    <tr>\n",
       "      <th>3</th>\n",
       "      <td>0</td>\n",
       "      <td>1979</td>\n",
       "      <td>2</td>\n",
       "      <td>49</td>\n",
       "      <td>147.524719</td>\n",
       "      <td>157.382492</td>\n",
       "      <td>0.919766</td>\n",
       "      <td>0.025784</td>\n",
       "      <td>0.920127</td>\n",
       "      <td>1.605796</td>\n",
       "      <td>1</td>\n",
       "      <td>-1.079951</td>\n",
       "      <td>-1.035410</td>\n",
       "      <td>1.496117</td>\n",
       "      <td>3</td>\n",
       "      <td>223.793757</td>\n",
       "      <td>0.982681</td>\n",
       "      <td>3.740522</td>\n",
       "      <td>381.025629</td>\n",
       "    </tr>\n",
       "    <tr>\n",
       "      <th>4</th>\n",
       "      <td>1</td>\n",
       "      <td>1979</td>\n",
       "      <td>2</td>\n",
       "      <td>50</td>\n",
       "      <td>147.470963</td>\n",
       "      <td>138.599823</td>\n",
       "      <td>0.380940</td>\n",
       "      <td>1.243485</td>\n",
       "      <td>1.300527</td>\n",
       "      <td>72.967623</td>\n",
       "      <td>1</td>\n",
       "      <td>-2.169171</td>\n",
       "      <td>2.537787</td>\n",
       "      <td>3.338513</td>\n",
       "      <td>2</td>\n",
       "      <td>130.522141</td>\n",
       "      <td>0.990302</td>\n",
       "      <td>3.188522</td>\n",
       "      <td>521.535334</td>\n",
       "    </tr>\n",
       "  </tbody>\n",
       "</table>\n",
       "</div>"
      ],
      "text/plain": [
       "   day_no  year  month  doy      x_EASE      y_EASE    u_buoy    v_buoy  \\\n",
       "0       0  1979      2   49  147.506958  138.582672 -0.797554  1.114740   \n",
       "1       0  1979      2   49  146.834778  120.509880  0.643200  0.368754   \n",
       "2       0  1979      2   49  130.993561  129.623672 -1.162420  0.243717   \n",
       "3       0  1979      2   49  147.524719  157.382492  0.919766  0.025784   \n",
       "4       1  1979      2   50  147.470963  138.599823  0.380940  1.243485   \n",
       "\n",
       "    val_mag     vel_dir  ice_quadrant    u_ERA5    v_ERA5  wind_val_mag  \\\n",
       "0  1.370671  125.582277             2 -6.704156 -0.321260      6.711849   \n",
       "1  0.741408   29.826147             1 -6.818630 -0.674205      6.851881   \n",
       "2  1.187695  168.158690             2 -8.825469  1.123955      8.896751   \n",
       "3  0.920127    1.605796             1 -1.079951 -1.035410      1.496117   \n",
       "4  1.300527   72.967623             1 -2.169171  2.537787      3.338513   \n",
       "\n",
       "   wind_quadrant    wind_dir   sic_CDR  h_piomas         d2c  \n",
       "0              3  182.743485  0.990195  3.189743  522.523298  \n",
       "1              3  185.646875  0.966372  2.484009  412.767669  \n",
       "2              2  172.742248  0.996022  2.474106  362.547379  \n",
       "3              3  223.793757  0.982681  3.740522  381.025629  \n",
       "4              2  130.522141  0.990302  3.188522  521.535334  "
      ]
     },
     "execution_count": 5,
     "metadata": {},
     "output_type": "execute_result"
    }
   ],
   "source": [
    "var.head()"
   ]
  },
  {
   "cell_type": "code",
   "execution_count": 6,
   "metadata": {},
   "outputs": [],
   "source": [
    "var = var[['day_no', 'year', 'month', 'doy', 'x_EASE', 'y_EASE', 'u_buoy',\n",
    "       'v_buoy', 'val_mag', 'u_ERA5', 'v_ERA5','sic_CDR', 'h_piomas','d2c']]"
   ]
  },
  {
   "cell_type": "code",
   "execution_count": 7,
   "metadata": {},
   "outputs": [
    {
     "data": {
      "text/plain": [
       "(339203, 14)"
      ]
     },
     "execution_count": 7,
     "metadata": {},
     "output_type": "execute_result"
    }
   ],
   "source": [
    "var.shape"
   ]
  },
  {
   "cell_type": "code",
   "execution_count": 8,
   "metadata": {},
   "outputs": [
    {
     "data": {
      "text/plain": [
       "Index(['day_no', 'year', 'month', 'doy', 'x_EASE', 'y_EASE', 'u_buoy',\n",
       "       'v_buoy', 'val_mag', 'u_ERA5', 'v_ERA5', 'sic_CDR', 'h_piomas', 'd2c'],\n",
       "      dtype='object')"
      ]
     },
     "execution_count": 8,
     "metadata": {},
     "output_type": "execute_result"
    }
   ],
   "source": [
    "var.columns"
   ]
  },
  {
   "cell_type": "code",
   "execution_count": 9,
   "metadata": {},
   "outputs": [
    {
     "data": {
      "text/plain": [
       "day_no        int64\n",
       "year          int64\n",
       "month         int64\n",
       "doy           int64\n",
       "x_EASE      float64\n",
       "y_EASE      float64\n",
       "u_buoy      float64\n",
       "v_buoy      float64\n",
       "val_mag     float64\n",
       "u_ERA5      float64\n",
       "v_ERA5      float64\n",
       "sic_CDR     float64\n",
       "h_piomas    float64\n",
       "d2c         float64\n",
       "dtype: object"
      ]
     },
     "execution_count": 9,
     "metadata": {},
     "output_type": "execute_result"
    }
   ],
   "source": [
    "var.dtypes"
   ]
  },
  {
   "cell_type": "code",
   "execution_count": 10,
   "metadata": {},
   "outputs": [
    {
     "data": {
      "text/html": [
       "<div>\n",
       "<style scoped>\n",
       "    .dataframe tbody tr th:only-of-type {\n",
       "        vertical-align: middle;\n",
       "    }\n",
       "\n",
       "    .dataframe tbody tr th {\n",
       "        vertical-align: top;\n",
       "    }\n",
       "\n",
       "    .dataframe thead th {\n",
       "        text-align: right;\n",
       "    }\n",
       "</style>\n",
       "<table border=\"1\" class=\"dataframe\">\n",
       "  <thead>\n",
       "    <tr style=\"text-align: right;\">\n",
       "      <th></th>\n",
       "      <th>day_no</th>\n",
       "      <th>year</th>\n",
       "      <th>month</th>\n",
       "      <th>doy</th>\n",
       "      <th>x_EASE</th>\n",
       "      <th>y_EASE</th>\n",
       "      <th>u_buoy</th>\n",
       "      <th>v_buoy</th>\n",
       "      <th>val_mag</th>\n",
       "      <th>u_ERA5</th>\n",
       "      <th>v_ERA5</th>\n",
       "      <th>sic_CDR</th>\n",
       "      <th>h_piomas</th>\n",
       "      <th>d2c</th>\n",
       "    </tr>\n",
       "  </thead>\n",
       "  <tbody>\n",
       "    <tr>\n",
       "      <th>count</th>\n",
       "      <td>339203.000000</td>\n",
       "      <td>339203.000000</td>\n",
       "      <td>339203.000000</td>\n",
       "      <td>339203.000000</td>\n",
       "      <td>339203.000000</td>\n",
       "      <td>339203.000000</td>\n",
       "      <td>339203.000000</td>\n",
       "      <td>339203.000000</td>\n",
       "      <td>339203.000000</td>\n",
       "      <td>339203.000000</td>\n",
       "      <td>339203.000000</td>\n",
       "      <td>339203.000000</td>\n",
       "      <td>339203.000000</td>\n",
       "      <td>339203.000000</td>\n",
       "    </tr>\n",
       "    <tr>\n",
       "      <th>mean</th>\n",
       "      <td>10374.519264</td>\n",
       "      <td>2007.017715</td>\n",
       "      <td>6.746862</td>\n",
       "      <td>189.943291</td>\n",
       "      <td>163.580333</td>\n",
       "      <td>156.494980</td>\n",
       "      <td>-0.333268</td>\n",
       "      <td>1.360217</td>\n",
       "      <td>8.354355</td>\n",
       "      <td>-0.096073</td>\n",
       "      <td>0.335635</td>\n",
       "      <td>0.955251</td>\n",
       "      <td>2.069756</td>\n",
       "      <td>418.241205</td>\n",
       "    </tr>\n",
       "    <tr>\n",
       "      <th>std</th>\n",
       "      <td>3587.901557</td>\n",
       "      <td>9.817846</td>\n",
       "      <td>3.453604</td>\n",
       "      <td>105.545448</td>\n",
       "      <td>24.443882</td>\n",
       "      <td>34.704966</td>\n",
       "      <td>8.075045</td>\n",
       "      <td>7.860813</td>\n",
       "      <td>7.691850</td>\n",
       "      <td>4.320043</td>\n",
       "      <td>4.123823</td>\n",
       "      <td>0.124664</td>\n",
       "      <td>0.922228</td>\n",
       "      <td>259.875226</td>\n",
       "    </tr>\n",
       "    <tr>\n",
       "      <th>min</th>\n",
       "      <td>0.000000</td>\n",
       "      <td>1979.000000</td>\n",
       "      <td>1.000000</td>\n",
       "      <td>1.000000</td>\n",
       "      <td>39.168983</td>\n",
       "      <td>36.870293</td>\n",
       "      <td>-74.682899</td>\n",
       "      <td>-66.781601</td>\n",
       "      <td>0.000000</td>\n",
       "      <td>-23.084634</td>\n",
       "      <td>-20.146717</td>\n",
       "      <td>0.000027</td>\n",
       "      <td>0.000000</td>\n",
       "      <td>0.359009</td>\n",
       "    </tr>\n",
       "    <tr>\n",
       "      <th>25%</th>\n",
       "      <td>7860.500000</td>\n",
       "      <td>2000.000000</td>\n",
       "      <td>4.000000</td>\n",
       "      <td>101.000000</td>\n",
       "      <td>146.797035</td>\n",
       "      <td>129.199318</td>\n",
       "      <td>-3.725245</td>\n",
       "      <td>-2.324845</td>\n",
       "      <td>2.888850</td>\n",
       "      <td>-3.149338</td>\n",
       "      <td>-2.617492</td>\n",
       "      <td>0.976678</td>\n",
       "      <td>1.478115</td>\n",
       "      <td>210.261503</td>\n",
       "    </tr>\n",
       "    <tr>\n",
       "      <th>50%</th>\n",
       "      <td>11106.000000</td>\n",
       "      <td>2009.000000</td>\n",
       "      <td>7.000000</td>\n",
       "      <td>190.000000</td>\n",
       "      <td>161.220627</td>\n",
       "      <td>152.304901</td>\n",
       "      <td>-0.024725</td>\n",
       "      <td>0.321954</td>\n",
       "      <td>6.665244</td>\n",
       "      <td>-0.165271</td>\n",
       "      <td>0.289756</td>\n",
       "      <td>1.000000</td>\n",
       "      <td>2.041318</td>\n",
       "      <td>389.715241</td>\n",
       "    </tr>\n",
       "    <tr>\n",
       "      <th>75%</th>\n",
       "      <td>13293.000000</td>\n",
       "      <td>2015.000000</td>\n",
       "      <td>10.000000</td>\n",
       "      <td>285.000000</td>\n",
       "      <td>181.103218</td>\n",
       "      <td>179.585617</td>\n",
       "      <td>2.943056</td>\n",
       "      <td>4.967892</td>\n",
       "      <td>11.675371</td>\n",
       "      <td>2.933966</td>\n",
       "      <td>3.203830</td>\n",
       "      <td>1.000000</td>\n",
       "      <td>2.619862</td>\n",
       "      <td>599.311791</td>\n",
       "    </tr>\n",
       "    <tr>\n",
       "      <th>max</th>\n",
       "      <td>14925.000000</td>\n",
       "      <td>2019.000000</td>\n",
       "      <td>12.000000</td>\n",
       "      <td>364.000000</td>\n",
       "      <td>279.391541</td>\n",
       "      <td>279.562073</td>\n",
       "      <td>68.396103</td>\n",
       "      <td>68.639801</td>\n",
       "      <td>75.609704</td>\n",
       "      <td>17.911558</td>\n",
       "      <td>22.862028</td>\n",
       "      <td>1.000000</td>\n",
       "      <td>6.284669</td>\n",
       "      <td>1120.364872</td>\n",
       "    </tr>\n",
       "  </tbody>\n",
       "</table>\n",
       "</div>"
      ],
      "text/plain": [
       "              day_no           year          month            doy  \\\n",
       "count  339203.000000  339203.000000  339203.000000  339203.000000   \n",
       "mean    10374.519264    2007.017715       6.746862     189.943291   \n",
       "std      3587.901557       9.817846       3.453604     105.545448   \n",
       "min         0.000000    1979.000000       1.000000       1.000000   \n",
       "25%      7860.500000    2000.000000       4.000000     101.000000   \n",
       "50%     11106.000000    2009.000000       7.000000     190.000000   \n",
       "75%     13293.000000    2015.000000      10.000000     285.000000   \n",
       "max     14925.000000    2019.000000      12.000000     364.000000   \n",
       "\n",
       "              x_EASE         y_EASE         u_buoy         v_buoy  \\\n",
       "count  339203.000000  339203.000000  339203.000000  339203.000000   \n",
       "mean      163.580333     156.494980      -0.333268       1.360217   \n",
       "std        24.443882      34.704966       8.075045       7.860813   \n",
       "min        39.168983      36.870293     -74.682899     -66.781601   \n",
       "25%       146.797035     129.199318      -3.725245      -2.324845   \n",
       "50%       161.220627     152.304901      -0.024725       0.321954   \n",
       "75%       181.103218     179.585617       2.943056       4.967892   \n",
       "max       279.391541     279.562073      68.396103      68.639801   \n",
       "\n",
       "             val_mag         u_ERA5         v_ERA5        sic_CDR  \\\n",
       "count  339203.000000  339203.000000  339203.000000  339203.000000   \n",
       "mean        8.354355      -0.096073       0.335635       0.955251   \n",
       "std         7.691850       4.320043       4.123823       0.124664   \n",
       "min         0.000000     -23.084634     -20.146717       0.000027   \n",
       "25%         2.888850      -3.149338      -2.617492       0.976678   \n",
       "50%         6.665244      -0.165271       0.289756       1.000000   \n",
       "75%        11.675371       2.933966       3.203830       1.000000   \n",
       "max        75.609704      17.911558      22.862028       1.000000   \n",
       "\n",
       "            h_piomas            d2c  \n",
       "count  339203.000000  339203.000000  \n",
       "mean        2.069756     418.241205  \n",
       "std         0.922228     259.875226  \n",
       "min         0.000000       0.359009  \n",
       "25%         1.478115     210.261503  \n",
       "50%         2.041318     389.715241  \n",
       "75%         2.619862     599.311791  \n",
       "max         6.284669    1120.364872  "
      ]
     },
     "execution_count": 10,
     "metadata": {},
     "output_type": "execute_result"
    }
   ],
   "source": [
    "var.describe()"
   ]
  },
  {
   "cell_type": "markdown",
   "metadata": {},
   "source": [
    "# classifying the velocity magnitudes into 3 categories based on their intensity and number of values in that range"
   ]
  },
  {
   "cell_type": "code",
   "execution_count": 11,
   "metadata": {},
   "outputs": [],
   "source": [
    "range1 = list(np.arange(0,1,.1)) + list(np.arange(.91,.99,.01)) + list(np.arange(.99,1.0001,.001))\n",
    "p = var.val_mag.quantile(range1)"
   ]
  },
  {
   "cell_type": "code",
   "execution_count": 12,
   "metadata": {},
   "outputs": [
    {
     "data": {
      "text/html": [
       "<div>\n",
       "<style scoped>\n",
       "    .dataframe tbody tr th:only-of-type {\n",
       "        vertical-align: middle;\n",
       "    }\n",
       "\n",
       "    .dataframe tbody tr th {\n",
       "        vertical-align: top;\n",
       "    }\n",
       "\n",
       "    .dataframe thead th {\n",
       "        text-align: right;\n",
       "    }\n",
       "</style>\n",
       "<table border=\"1\" class=\"dataframe\">\n",
       "  <thead>\n",
       "    <tr style=\"text-align: right;\">\n",
       "      <th></th>\n",
       "      <th>val_mag</th>\n",
       "    </tr>\n",
       "  </thead>\n",
       "  <tbody>\n",
       "    <tr>\n",
       "      <th>0.0</th>\n",
       "      <td>0.000000</td>\n",
       "    </tr>\n",
       "    <tr>\n",
       "      <th>0.1</th>\n",
       "      <td>0.502237</td>\n",
       "    </tr>\n",
       "    <tr>\n",
       "      <th>0.2</th>\n",
       "      <td>2.107865</td>\n",
       "    </tr>\n",
       "    <tr>\n",
       "      <th>0.3</th>\n",
       "      <td>3.636044</td>\n",
       "    </tr>\n",
       "    <tr>\n",
       "      <th>0.4</th>\n",
       "      <td>5.110915</td>\n",
       "    </tr>\n",
       "  </tbody>\n",
       "</table>\n",
       "</div>"
      ],
      "text/plain": [
       "      val_mag\n",
       "0.0  0.000000\n",
       "0.1  0.502237\n",
       "0.2  2.107865\n",
       "0.3  3.636044\n",
       "0.4  5.110915"
      ]
     },
     "execution_count": 12,
     "metadata": {},
     "output_type": "execute_result"
    }
   ],
   "source": [
    "df1 = pd.DataFrame(p)\n",
    "df1.head()"
   ]
  },
  {
   "cell_type": "code",
   "execution_count": 13,
   "metadata": {},
   "outputs": [],
   "source": [
    "a=[]\n",
    "for i in df1.iterrows():\n",
    "    percentile_value = i[1]['val_mag']\n",
    "    size = var[var['val_mag']<=percentile_value].shape[0]\n",
    "    a.append(size)"
   ]
  },
  {
   "cell_type": "code",
   "execution_count": 14,
   "metadata": {},
   "outputs": [],
   "source": [
    "b=[0]+a\n",
    "del b[-1]"
   ]
  },
  {
   "cell_type": "code",
   "execution_count": 15,
   "metadata": {},
   "outputs": [
    {
     "name": "stdout",
     "output_type": "stream",
     "text": [
      "29\n",
      "[0, 9104, 33921, 67841, 101761, 135681, 169602, 203522, 237442, 271362, 305282, 308674, 312066, 315458, 318850, 322242, 325634, 329026, 332418, 335810, 336150, 336489, 336828, 337167, 337506, 337846, 338185, 338524, 338863]\n"
     ]
    }
   ],
   "source": [
    "print(len(b))\n",
    "print(b)"
   ]
  },
  {
   "cell_type": "code",
   "execution_count": 16,
   "metadata": {},
   "outputs": [
    {
     "name": "stdout",
     "output_type": "stream",
     "text": [
      "29\n",
      "[9104, 33921, 67841, 101761, 135681, 169602, 203522, 237442, 271362, 305282, 308674, 312066, 315458, 318850, 322242, 325634, 329026, 332418, 335810, 336150, 336489, 336828, 337167, 337506, 337846, 338185, 338524, 338863, 339203]\n"
     ]
    }
   ],
   "source": [
    "print(len(a))\n",
    "print(a)"
   ]
  },
  {
   "cell_type": "code",
   "execution_count": 17,
   "metadata": {},
   "outputs": [
    {
     "name": "stdout",
     "output_type": "stream",
     "text": [
      "[ 9104 24817 33920 33920 33920 33921 33920 33920 33920 33920  3392  3392\n",
      "  3392  3392  3392  3392  3392  3392  3392   340   339   339   339   339\n",
      "   340   339   339   339   340]\n"
     ]
    }
   ],
   "source": [
    "c = np.array(a) - np.array(b)\n",
    "print(c)"
   ]
  },
  {
   "cell_type": "code",
   "execution_count": 18,
   "metadata": {},
   "outputs": [],
   "source": [
    "df1['count'] = c"
   ]
  },
  {
   "cell_type": "code",
   "execution_count": 19,
   "metadata": {},
   "outputs": [
    {
     "data": {
      "text/html": [
       "<div>\n",
       "<style scoped>\n",
       "    .dataframe tbody tr th:only-of-type {\n",
       "        vertical-align: middle;\n",
       "    }\n",
       "\n",
       "    .dataframe tbody tr th {\n",
       "        vertical-align: top;\n",
       "    }\n",
       "\n",
       "    .dataframe thead th {\n",
       "        text-align: right;\n",
       "    }\n",
       "</style>\n",
       "<table border=\"1\" class=\"dataframe\">\n",
       "  <thead>\n",
       "    <tr style=\"text-align: right;\">\n",
       "      <th></th>\n",
       "      <th>val_mag</th>\n",
       "      <th>count</th>\n",
       "    </tr>\n",
       "  </thead>\n",
       "  <tbody>\n",
       "    <tr>\n",
       "      <th>0.000</th>\n",
       "      <td>0.000000</td>\n",
       "      <td>9104</td>\n",
       "    </tr>\n",
       "    <tr>\n",
       "      <th>0.100</th>\n",
       "      <td>0.502237</td>\n",
       "      <td>24817</td>\n",
       "    </tr>\n",
       "    <tr>\n",
       "      <th>0.200</th>\n",
       "      <td>2.107865</td>\n",
       "      <td>33920</td>\n",
       "    </tr>\n",
       "    <tr>\n",
       "      <th>0.300</th>\n",
       "      <td>3.636044</td>\n",
       "      <td>33920</td>\n",
       "    </tr>\n",
       "    <tr>\n",
       "      <th>0.400</th>\n",
       "      <td>5.110915</td>\n",
       "      <td>33920</td>\n",
       "    </tr>\n",
       "    <tr>\n",
       "      <th>0.500</th>\n",
       "      <td>6.665244</td>\n",
       "      <td>33921</td>\n",
       "    </tr>\n",
       "    <tr>\n",
       "      <th>0.600</th>\n",
       "      <td>8.390036</td>\n",
       "      <td>33920</td>\n",
       "    </tr>\n",
       "    <tr>\n",
       "      <th>0.700</th>\n",
       "      <td>10.439153</td>\n",
       "      <td>33920</td>\n",
       "    </tr>\n",
       "    <tr>\n",
       "      <th>0.800</th>\n",
       "      <td>13.151437</td>\n",
       "      <td>33920</td>\n",
       "    </tr>\n",
       "    <tr>\n",
       "      <th>0.900</th>\n",
       "      <td>17.649177</td>\n",
       "      <td>33920</td>\n",
       "    </tr>\n",
       "    <tr>\n",
       "      <th>0.910</th>\n",
       "      <td>18.319683</td>\n",
       "      <td>3392</td>\n",
       "    </tr>\n",
       "    <tr>\n",
       "      <th>0.920</th>\n",
       "      <td>19.099461</td>\n",
       "      <td>3392</td>\n",
       "    </tr>\n",
       "    <tr>\n",
       "      <th>0.930</th>\n",
       "      <td>19.994742</td>\n",
       "      <td>3392</td>\n",
       "    </tr>\n",
       "    <tr>\n",
       "      <th>0.940</th>\n",
       "      <td>21.061995</td>\n",
       "      <td>3392</td>\n",
       "    </tr>\n",
       "    <tr>\n",
       "      <th>0.950</th>\n",
       "      <td>22.279127</td>\n",
       "      <td>3392</td>\n",
       "    </tr>\n",
       "    <tr>\n",
       "      <th>0.960</th>\n",
       "      <td>23.907943</td>\n",
       "      <td>3392</td>\n",
       "    </tr>\n",
       "    <tr>\n",
       "      <th>0.970</th>\n",
       "      <td>26.067315</td>\n",
       "      <td>3392</td>\n",
       "    </tr>\n",
       "    <tr>\n",
       "      <th>0.980</th>\n",
       "      <td>29.404999</td>\n",
       "      <td>3392</td>\n",
       "    </tr>\n",
       "    <tr>\n",
       "      <th>0.990</th>\n",
       "      <td>36.205260</td>\n",
       "      <td>3392</td>\n",
       "    </tr>\n",
       "    <tr>\n",
       "      <th>0.991</th>\n",
       "      <td>37.435597</td>\n",
       "      <td>340</td>\n",
       "    </tr>\n",
       "    <tr>\n",
       "      <th>0.992</th>\n",
       "      <td>38.734981</td>\n",
       "      <td>339</td>\n",
       "    </tr>\n",
       "    <tr>\n",
       "      <th>0.993</th>\n",
       "      <td>40.196313</td>\n",
       "      <td>339</td>\n",
       "    </tr>\n",
       "    <tr>\n",
       "      <th>0.994</th>\n",
       "      <td>41.903515</td>\n",
       "      <td>339</td>\n",
       "    </tr>\n",
       "    <tr>\n",
       "      <th>0.995</th>\n",
       "      <td>43.787915</td>\n",
       "      <td>339</td>\n",
       "    </tr>\n",
       "    <tr>\n",
       "      <th>0.996</th>\n",
       "      <td>46.335222</td>\n",
       "      <td>340</td>\n",
       "    </tr>\n",
       "    <tr>\n",
       "      <th>0.997</th>\n",
       "      <td>49.519703</td>\n",
       "      <td>339</td>\n",
       "    </tr>\n",
       "    <tr>\n",
       "      <th>0.998</th>\n",
       "      <td>53.777639</td>\n",
       "      <td>339</td>\n",
       "    </tr>\n",
       "    <tr>\n",
       "      <th>0.999</th>\n",
       "      <td>59.310440</td>\n",
       "      <td>339</td>\n",
       "    </tr>\n",
       "    <tr>\n",
       "      <th>1.000</th>\n",
       "      <td>75.609704</td>\n",
       "      <td>340</td>\n",
       "    </tr>\n",
       "  </tbody>\n",
       "</table>\n",
       "</div>"
      ],
      "text/plain": [
       "         val_mag  count\n",
       "0.000   0.000000   9104\n",
       "0.100   0.502237  24817\n",
       "0.200   2.107865  33920\n",
       "0.300   3.636044  33920\n",
       "0.400   5.110915  33920\n",
       "0.500   6.665244  33921\n",
       "0.600   8.390036  33920\n",
       "0.700  10.439153  33920\n",
       "0.800  13.151437  33920\n",
       "0.900  17.649177  33920\n",
       "0.910  18.319683   3392\n",
       "0.920  19.099461   3392\n",
       "0.930  19.994742   3392\n",
       "0.940  21.061995   3392\n",
       "0.950  22.279127   3392\n",
       "0.960  23.907943   3392\n",
       "0.970  26.067315   3392\n",
       "0.980  29.404999   3392\n",
       "0.990  36.205260   3392\n",
       "0.991  37.435597    340\n",
       "0.992  38.734981    339\n",
       "0.993  40.196313    339\n",
       "0.994  41.903515    339\n",
       "0.995  43.787915    339\n",
       "0.996  46.335222    340\n",
       "0.997  49.519703    339\n",
       "0.998  53.777639    339\n",
       "0.999  59.310440    339\n",
       "1.000  75.609704    340"
      ]
     },
     "execution_count": 19,
     "metadata": {},
     "output_type": "execute_result"
    }
   ],
   "source": [
    "df1\n"
   ]
  },
  {
   "cell_type": "code",
   "execution_count": 20,
   "metadata": {},
   "outputs": [],
   "source": [
    "var['type'] = var.val_mag.map(lambda x: 0 if x == 0 else 2 if x > 30 else 1)"
   ]
  },
  {
   "cell_type": "code",
   "execution_count": 21,
   "metadata": {},
   "outputs": [
    {
     "name": "stdout",
     "output_type": "stream",
     "text": [
      "1    323755\n",
      "0      9104\n",
      "2      6344\n",
      "Name: type, dtype: int64\n"
     ]
    }
   ],
   "source": [
    "print(var['type'].value_counts())"
   ]
  },
  {
   "cell_type": "code",
   "execution_count": 22,
   "metadata": {},
   "outputs": [
    {
     "data": {
      "text/plain": [
       "(339203, 3)"
      ]
     },
     "execution_count": 22,
     "metadata": {},
     "output_type": "execute_result"
    }
   ],
   "source": [
    "#create dummy variables for multiclass predictor\n",
    "cov_dummy = pd.get_dummies(var['type'])\n",
    "cov_dummy.head()\n",
    "cov_dummy.shape"
   ]
  },
  {
   "cell_type": "code",
   "execution_count": 23,
   "metadata": {},
   "outputs": [
    {
     "name": "stdout",
     "output_type": "stream",
     "text": [
      "(339203, 18)\n"
     ]
    },
    {
     "data": {
      "text/html": [
       "<div>\n",
       "<style scoped>\n",
       "    .dataframe tbody tr th:only-of-type {\n",
       "        vertical-align: middle;\n",
       "    }\n",
       "\n",
       "    .dataframe tbody tr th {\n",
       "        vertical-align: top;\n",
       "    }\n",
       "\n",
       "    .dataframe thead th {\n",
       "        text-align: right;\n",
       "    }\n",
       "</style>\n",
       "<table border=\"1\" class=\"dataframe\">\n",
       "  <thead>\n",
       "    <tr style=\"text-align: right;\">\n",
       "      <th></th>\n",
       "      <th>0</th>\n",
       "      <th>1</th>\n",
       "      <th>2</th>\n",
       "      <th>day_no</th>\n",
       "      <th>year</th>\n",
       "      <th>month</th>\n",
       "      <th>doy</th>\n",
       "      <th>x_EASE</th>\n",
       "      <th>y_EASE</th>\n",
       "      <th>u_buoy</th>\n",
       "      <th>v_buoy</th>\n",
       "      <th>val_mag</th>\n",
       "      <th>u_ERA5</th>\n",
       "      <th>v_ERA5</th>\n",
       "      <th>sic_CDR</th>\n",
       "      <th>h_piomas</th>\n",
       "      <th>d2c</th>\n",
       "      <th>type</th>\n",
       "    </tr>\n",
       "  </thead>\n",
       "  <tbody>\n",
       "    <tr>\n",
       "      <th>0</th>\n",
       "      <td>0</td>\n",
       "      <td>1</td>\n",
       "      <td>0</td>\n",
       "      <td>0</td>\n",
       "      <td>1979</td>\n",
       "      <td>2</td>\n",
       "      <td>49</td>\n",
       "      <td>147.506958</td>\n",
       "      <td>138.582672</td>\n",
       "      <td>-0.797554</td>\n",
       "      <td>1.114740</td>\n",
       "      <td>1.370671</td>\n",
       "      <td>-6.704156</td>\n",
       "      <td>-0.321260</td>\n",
       "      <td>0.990195</td>\n",
       "      <td>3.189743</td>\n",
       "      <td>522.523298</td>\n",
       "      <td>1</td>\n",
       "    </tr>\n",
       "    <tr>\n",
       "      <th>1</th>\n",
       "      <td>0</td>\n",
       "      <td>1</td>\n",
       "      <td>0</td>\n",
       "      <td>0</td>\n",
       "      <td>1979</td>\n",
       "      <td>2</td>\n",
       "      <td>49</td>\n",
       "      <td>146.834778</td>\n",
       "      <td>120.509880</td>\n",
       "      <td>0.643200</td>\n",
       "      <td>0.368754</td>\n",
       "      <td>0.741408</td>\n",
       "      <td>-6.818630</td>\n",
       "      <td>-0.674205</td>\n",
       "      <td>0.966372</td>\n",
       "      <td>2.484009</td>\n",
       "      <td>412.767669</td>\n",
       "      <td>1</td>\n",
       "    </tr>\n",
       "    <tr>\n",
       "      <th>2</th>\n",
       "      <td>0</td>\n",
       "      <td>1</td>\n",
       "      <td>0</td>\n",
       "      <td>0</td>\n",
       "      <td>1979</td>\n",
       "      <td>2</td>\n",
       "      <td>49</td>\n",
       "      <td>130.993561</td>\n",
       "      <td>129.623672</td>\n",
       "      <td>-1.162420</td>\n",
       "      <td>0.243717</td>\n",
       "      <td>1.187695</td>\n",
       "      <td>-8.825469</td>\n",
       "      <td>1.123955</td>\n",
       "      <td>0.996022</td>\n",
       "      <td>2.474106</td>\n",
       "      <td>362.547379</td>\n",
       "      <td>1</td>\n",
       "    </tr>\n",
       "    <tr>\n",
       "      <th>3</th>\n",
       "      <td>0</td>\n",
       "      <td>1</td>\n",
       "      <td>0</td>\n",
       "      <td>0</td>\n",
       "      <td>1979</td>\n",
       "      <td>2</td>\n",
       "      <td>49</td>\n",
       "      <td>147.524719</td>\n",
       "      <td>157.382492</td>\n",
       "      <td>0.919766</td>\n",
       "      <td>0.025784</td>\n",
       "      <td>0.920127</td>\n",
       "      <td>-1.079951</td>\n",
       "      <td>-1.035410</td>\n",
       "      <td>0.982681</td>\n",
       "      <td>3.740522</td>\n",
       "      <td>381.025629</td>\n",
       "      <td>1</td>\n",
       "    </tr>\n",
       "    <tr>\n",
       "      <th>4</th>\n",
       "      <td>0</td>\n",
       "      <td>1</td>\n",
       "      <td>0</td>\n",
       "      <td>1</td>\n",
       "      <td>1979</td>\n",
       "      <td>2</td>\n",
       "      <td>50</td>\n",
       "      <td>147.470963</td>\n",
       "      <td>138.599823</td>\n",
       "      <td>0.380940</td>\n",
       "      <td>1.243485</td>\n",
       "      <td>1.300527</td>\n",
       "      <td>-2.169171</td>\n",
       "      <td>2.537787</td>\n",
       "      <td>0.990302</td>\n",
       "      <td>3.188522</td>\n",
       "      <td>521.535334</td>\n",
       "      <td>1</td>\n",
       "    </tr>\n",
       "  </tbody>\n",
       "</table>\n",
       "</div>"
      ],
      "text/plain": [
       "   0  1  2  day_no  year  month  doy      x_EASE      y_EASE    u_buoy  \\\n",
       "0  0  1  0       0  1979      2   49  147.506958  138.582672 -0.797554   \n",
       "1  0  1  0       0  1979      2   49  146.834778  120.509880  0.643200   \n",
       "2  0  1  0       0  1979      2   49  130.993561  129.623672 -1.162420   \n",
       "3  0  1  0       0  1979      2   49  147.524719  157.382492  0.919766   \n",
       "4  0  1  0       1  1979      2   50  147.470963  138.599823  0.380940   \n",
       "\n",
       "     v_buoy   val_mag    u_ERA5    v_ERA5   sic_CDR  h_piomas         d2c  \\\n",
       "0  1.114740  1.370671 -6.704156 -0.321260  0.990195  3.189743  522.523298   \n",
       "1  0.368754  0.741408 -6.818630 -0.674205  0.966372  2.484009  412.767669   \n",
       "2  0.243717  1.187695 -8.825469  1.123955  0.996022  2.474106  362.547379   \n",
       "3  0.025784  0.920127 -1.079951 -1.035410  0.982681  3.740522  381.025629   \n",
       "4  1.243485  1.300527 -2.169171  2.537787  0.990302  3.188522  521.535334   \n",
       "\n",
       "   type  \n",
       "0     1  \n",
       "1     1  \n",
       "2     1  \n",
       "3     1  \n",
       "4     1  "
      ]
     },
     "execution_count": 23,
     "metadata": {},
     "output_type": "execute_result"
    }
   ],
   "source": [
    "df2 = pd.concat([cov_dummy, var], axis = 1)\n",
    "print(df2.shape)\n",
    "df2.head()"
   ]
  },
  {
   "cell_type": "code",
   "execution_count": 24,
   "metadata": {},
   "outputs": [
    {
     "data": {
      "text/plain": [
       "[0,\n",
       " 1,\n",
       " 2,\n",
       " 'day_no',\n",
       " 'year',\n",
       " 'month',\n",
       " 'doy',\n",
       " 'x_EASE',\n",
       " 'y_EASE',\n",
       " 'u_buoy',\n",
       " 'v_buoy',\n",
       " 'val_mag',\n",
       " 'u_ERA5',\n",
       " 'v_ERA5',\n",
       " 'sic_CDR',\n",
       " 'h_piomas',\n",
       " 'd2c']"
      ]
     },
     "execution_count": 24,
     "metadata": {},
     "output_type": "execute_result"
    }
   ],
   "source": [
    "df2_column_names = list(df2.columns)\n",
    "df2_column_names.remove('type')\n",
    "df2_column_names"
   ]
  },
  {
   "cell_type": "code",
   "execution_count": 25,
   "metadata": {},
   "outputs": [],
   "source": [
    "# Normalize all columns\n",
    "\n",
    "min_max_scaler = preprocessing.MinMaxScaler()\n",
    "x_scaled = min_max_scaler.fit_transform(x)\n",
    "df_normalized = pd.DataFrame(data=x_scaled, columns=df2_column_names)\n"
   ]
  },
  {
   "cell_type": "code",
   "execution_count": 26,
   "metadata": {},
   "outputs": [
    {
     "name": "stdout",
     "output_type": "stream",
     "text": [
      "(339203, 17)\n",
      "(339203, 18)\n"
     ]
    }
   ],
   "source": [
    "print(df_normalized.shape)\n",
    "print(df2.shape)"
   ]
  },
  {
   "cell_type": "code",
   "execution_count": 27,
   "metadata": {},
   "outputs": [
    {
     "data": {
      "text/html": [
       "<div>\n",
       "<style scoped>\n",
       "    .dataframe tbody tr th:only-of-type {\n",
       "        vertical-align: middle;\n",
       "    }\n",
       "\n",
       "    .dataframe tbody tr th {\n",
       "        vertical-align: top;\n",
       "    }\n",
       "\n",
       "    .dataframe thead th {\n",
       "        text-align: right;\n",
       "    }\n",
       "</style>\n",
       "<table border=\"1\" class=\"dataframe\">\n",
       "  <thead>\n",
       "    <tr style=\"text-align: right;\">\n",
       "      <th></th>\n",
       "      <th>0</th>\n",
       "      <th>1</th>\n",
       "      <th>2</th>\n",
       "      <th>day_no</th>\n",
       "      <th>year</th>\n",
       "      <th>month</th>\n",
       "      <th>doy</th>\n",
       "      <th>x_EASE</th>\n",
       "      <th>y_EASE</th>\n",
       "      <th>u_buoy</th>\n",
       "      <th>v_buoy</th>\n",
       "      <th>val_mag</th>\n",
       "      <th>u_ERA5</th>\n",
       "      <th>v_ERA5</th>\n",
       "      <th>sic_CDR</th>\n",
       "      <th>h_piomas</th>\n",
       "      <th>d2c</th>\n",
       "    </tr>\n",
       "  </thead>\n",
       "  <tbody>\n",
       "    <tr>\n",
       "      <th>0</th>\n",
       "      <td>0.0</td>\n",
       "      <td>1.0</td>\n",
       "      <td>0.0</td>\n",
       "      <td>0.000000</td>\n",
       "      <td>0.0</td>\n",
       "      <td>0.090909</td>\n",
       "      <td>0.132231</td>\n",
       "      <td>0.450990</td>\n",
       "      <td>0.419101</td>\n",
       "      <td>0.516395</td>\n",
       "      <td>0.501371</td>\n",
       "      <td>0.018128</td>\n",
       "      <td>0.399561</td>\n",
       "      <td>0.460963</td>\n",
       "      <td>0.990195</td>\n",
       "      <td>0.507543</td>\n",
       "      <td>0.466216</td>\n",
       "    </tr>\n",
       "    <tr>\n",
       "      <th>1</th>\n",
       "      <td>0.0</td>\n",
       "      <td>1.0</td>\n",
       "      <td>0.0</td>\n",
       "      <td>0.000000</td>\n",
       "      <td>0.0</td>\n",
       "      <td>0.090909</td>\n",
       "      <td>0.132231</td>\n",
       "      <td>0.448192</td>\n",
       "      <td>0.344633</td>\n",
       "      <td>0.526465</td>\n",
       "      <td>0.495862</td>\n",
       "      <td>0.009806</td>\n",
       "      <td>0.396769</td>\n",
       "      <td>0.452757</td>\n",
       "      <td>0.966371</td>\n",
       "      <td>0.395249</td>\n",
       "      <td>0.368220</td>\n",
       "    </tr>\n",
       "    <tr>\n",
       "      <th>2</th>\n",
       "      <td>0.0</td>\n",
       "      <td>1.0</td>\n",
       "      <td>0.0</td>\n",
       "      <td>0.000000</td>\n",
       "      <td>0.0</td>\n",
       "      <td>0.090909</td>\n",
       "      <td>0.132231</td>\n",
       "      <td>0.382248</td>\n",
       "      <td>0.382186</td>\n",
       "      <td>0.513845</td>\n",
       "      <td>0.494939</td>\n",
       "      <td>0.015708</td>\n",
       "      <td>0.347817</td>\n",
       "      <td>0.494566</td>\n",
       "      <td>0.996022</td>\n",
       "      <td>0.393673</td>\n",
       "      <td>0.323381</td>\n",
       "    </tr>\n",
       "    <tr>\n",
       "      <th>3</th>\n",
       "      <td>0.0</td>\n",
       "      <td>1.0</td>\n",
       "      <td>0.0</td>\n",
       "      <td>0.000000</td>\n",
       "      <td>0.0</td>\n",
       "      <td>0.090909</td>\n",
       "      <td>0.132231</td>\n",
       "      <td>0.451064</td>\n",
       "      <td>0.496565</td>\n",
       "      <td>0.528398</td>\n",
       "      <td>0.493330</td>\n",
       "      <td>0.012169</td>\n",
       "      <td>0.536749</td>\n",
       "      <td>0.444359</td>\n",
       "      <td>0.982681</td>\n",
       "      <td>0.595182</td>\n",
       "      <td>0.339879</td>\n",
       "    </tr>\n",
       "    <tr>\n",
       "      <th>4</th>\n",
       "      <td>0.0</td>\n",
       "      <td>1.0</td>\n",
       "      <td>0.0</td>\n",
       "      <td>0.000067</td>\n",
       "      <td>0.0</td>\n",
       "      <td>0.090909</td>\n",
       "      <td>0.134986</td>\n",
       "      <td>0.450840</td>\n",
       "      <td>0.419172</td>\n",
       "      <td>0.524632</td>\n",
       "      <td>0.502322</td>\n",
       "      <td>0.017201</td>\n",
       "      <td>0.510181</td>\n",
       "      <td>0.527439</td>\n",
       "      <td>0.990301</td>\n",
       "      <td>0.507349</td>\n",
       "      <td>0.465334</td>\n",
       "    </tr>\n",
       "    <tr>\n",
       "      <th>...</th>\n",
       "      <td>...</td>\n",
       "      <td>...</td>\n",
       "      <td>...</td>\n",
       "      <td>...</td>\n",
       "      <td>...</td>\n",
       "      <td>...</td>\n",
       "      <td>...</td>\n",
       "      <td>...</td>\n",
       "      <td>...</td>\n",
       "      <td>...</td>\n",
       "      <td>...</td>\n",
       "      <td>...</td>\n",
       "      <td>...</td>\n",
       "      <td>...</td>\n",
       "      <td>...</td>\n",
       "      <td>...</td>\n",
       "      <td>...</td>\n",
       "    </tr>\n",
       "    <tr>\n",
       "      <th>339198</th>\n",
       "      <td>0.0</td>\n",
       "      <td>1.0</td>\n",
       "      <td>0.0</td>\n",
       "      <td>1.000000</td>\n",
       "      <td>1.0</td>\n",
       "      <td>1.000000</td>\n",
       "      <td>1.000000</td>\n",
       "      <td>0.641335</td>\n",
       "      <td>0.559853</td>\n",
       "      <td>0.515112</td>\n",
       "      <td>0.406754</td>\n",
       "      <td>0.155264</td>\n",
       "      <td>0.501463</td>\n",
       "      <td>0.328627</td>\n",
       "      <td>1.000000</td>\n",
       "      <td>0.257773</td>\n",
       "      <td>0.626741</td>\n",
       "    </tr>\n",
       "    <tr>\n",
       "      <th>339199</th>\n",
       "      <td>0.0</td>\n",
       "      <td>1.0</td>\n",
       "      <td>0.0</td>\n",
       "      <td>1.000000</td>\n",
       "      <td>1.0</td>\n",
       "      <td>1.000000</td>\n",
       "      <td>1.000000</td>\n",
       "      <td>0.704564</td>\n",
       "      <td>0.433388</td>\n",
       "      <td>0.471313</td>\n",
       "      <td>0.454077</td>\n",
       "      <td>0.118676</td>\n",
       "      <td>0.450518</td>\n",
       "      <td>0.459557</td>\n",
       "      <td>1.000000</td>\n",
       "      <td>0.205095</td>\n",
       "      <td>0.321545</td>\n",
       "    </tr>\n",
       "    <tr>\n",
       "      <th>339200</th>\n",
       "      <td>0.0</td>\n",
       "      <td>1.0</td>\n",
       "      <td>0.0</td>\n",
       "      <td>1.000000</td>\n",
       "      <td>1.0</td>\n",
       "      <td>1.000000</td>\n",
       "      <td>1.000000</td>\n",
       "      <td>0.441653</td>\n",
       "      <td>0.450116</td>\n",
       "      <td>0.515583</td>\n",
       "      <td>0.509253</td>\n",
       "      <td>0.031289</td>\n",
       "      <td>0.610437</td>\n",
       "      <td>0.494453</td>\n",
       "      <td>1.000000</td>\n",
       "      <td>0.311926</td>\n",
       "      <td>0.351284</td>\n",
       "    </tr>\n",
       "    <tr>\n",
       "      <th>339201</th>\n",
       "      <td>0.0</td>\n",
       "      <td>1.0</td>\n",
       "      <td>0.0</td>\n",
       "      <td>1.000000</td>\n",
       "      <td>1.0</td>\n",
       "      <td>1.000000</td>\n",
       "      <td>1.000000</td>\n",
       "      <td>0.644204</td>\n",
       "      <td>0.566721</td>\n",
       "      <td>0.521261</td>\n",
       "      <td>0.406065</td>\n",
       "      <td>0.155961</td>\n",
       "      <td>0.502881</td>\n",
       "      <td>0.343724</td>\n",
       "      <td>1.000000</td>\n",
       "      <td>0.256321</td>\n",
       "      <td>0.606871</td>\n",
       "    </tr>\n",
       "    <tr>\n",
       "      <th>339202</th>\n",
       "      <td>1.0</td>\n",
       "      <td>0.0</td>\n",
       "      <td>0.0</td>\n",
       "      <td>1.000000</td>\n",
       "      <td>1.0</td>\n",
       "      <td>1.000000</td>\n",
       "      <td>1.000000</td>\n",
       "      <td>0.254926</td>\n",
       "      <td>0.506398</td>\n",
       "      <td>0.521970</td>\n",
       "      <td>0.493139</td>\n",
       "      <td>0.000000</td>\n",
       "      <td>0.596570</td>\n",
       "      <td>0.638411</td>\n",
       "      <td>0.949973</td>\n",
       "      <td>0.213090</td>\n",
       "      <td>0.010146</td>\n",
       "    </tr>\n",
       "  </tbody>\n",
       "</table>\n",
       "<p>339203 rows × 17 columns</p>\n",
       "</div>"
      ],
      "text/plain": [
       "          0    1    2    day_no  year     month       doy    x_EASE    y_EASE  \\\n",
       "0       0.0  1.0  0.0  0.000000   0.0  0.090909  0.132231  0.450990  0.419101   \n",
       "1       0.0  1.0  0.0  0.000000   0.0  0.090909  0.132231  0.448192  0.344633   \n",
       "2       0.0  1.0  0.0  0.000000   0.0  0.090909  0.132231  0.382248  0.382186   \n",
       "3       0.0  1.0  0.0  0.000000   0.0  0.090909  0.132231  0.451064  0.496565   \n",
       "4       0.0  1.0  0.0  0.000067   0.0  0.090909  0.134986  0.450840  0.419172   \n",
       "...     ...  ...  ...       ...   ...       ...       ...       ...       ...   \n",
       "339198  0.0  1.0  0.0  1.000000   1.0  1.000000  1.000000  0.641335  0.559853   \n",
       "339199  0.0  1.0  0.0  1.000000   1.0  1.000000  1.000000  0.704564  0.433388   \n",
       "339200  0.0  1.0  0.0  1.000000   1.0  1.000000  1.000000  0.441653  0.450116   \n",
       "339201  0.0  1.0  0.0  1.000000   1.0  1.000000  1.000000  0.644204  0.566721   \n",
       "339202  1.0  0.0  0.0  1.000000   1.0  1.000000  1.000000  0.254926  0.506398   \n",
       "\n",
       "          u_buoy    v_buoy   val_mag    u_ERA5    v_ERA5   sic_CDR  h_piomas  \\\n",
       "0       0.516395  0.501371  0.018128  0.399561  0.460963  0.990195  0.507543   \n",
       "1       0.526465  0.495862  0.009806  0.396769  0.452757  0.966371  0.395249   \n",
       "2       0.513845  0.494939  0.015708  0.347817  0.494566  0.996022  0.393673   \n",
       "3       0.528398  0.493330  0.012169  0.536749  0.444359  0.982681  0.595182   \n",
       "4       0.524632  0.502322  0.017201  0.510181  0.527439  0.990301  0.507349   \n",
       "...          ...       ...       ...       ...       ...       ...       ...   \n",
       "339198  0.515112  0.406754  0.155264  0.501463  0.328627  1.000000  0.257773   \n",
       "339199  0.471313  0.454077  0.118676  0.450518  0.459557  1.000000  0.205095   \n",
       "339200  0.515583  0.509253  0.031289  0.610437  0.494453  1.000000  0.311926   \n",
       "339201  0.521261  0.406065  0.155961  0.502881  0.343724  1.000000  0.256321   \n",
       "339202  0.521970  0.493139  0.000000  0.596570  0.638411  0.949973  0.213090   \n",
       "\n",
       "             d2c  \n",
       "0       0.466216  \n",
       "1       0.368220  \n",
       "2       0.323381  \n",
       "3       0.339879  \n",
       "4       0.465334  \n",
       "...          ...  \n",
       "339198  0.626741  \n",
       "339199  0.321545  \n",
       "339200  0.351284  \n",
       "339201  0.606871  \n",
       "339202  0.010146  \n",
       "\n",
       "[339203 rows x 17 columns]"
      ]
     },
     "execution_count": 27,
     "metadata": {},
     "output_type": "execute_result"
    }
   ],
   "source": [
    "df_normalized"
   ]
  },
  {
   "cell_type": "code",
   "execution_count": 28,
   "metadata": {},
   "outputs": [],
   "source": [
    "RANDOM_STATE = 7"
   ]
  },
  {
   "cell_type": "code",
   "execution_count": 29,
   "metadata": {},
   "outputs": [
    {
     "data": {
      "text/html": [
       "<div>\n",
       "<style scoped>\n",
       "    .dataframe tbody tr th:only-of-type {\n",
       "        vertical-align: middle;\n",
       "    }\n",
       "\n",
       "    .dataframe tbody tr th {\n",
       "        vertical-align: top;\n",
       "    }\n",
       "\n",
       "    .dataframe thead th {\n",
       "        text-align: right;\n",
       "    }\n",
       "</style>\n",
       "<table border=\"1\" class=\"dataframe\">\n",
       "  <thead>\n",
       "    <tr style=\"text-align: right;\">\n",
       "      <th></th>\n",
       "      <th>0</th>\n",
       "      <th>1</th>\n",
       "      <th>2</th>\n",
       "      <th>day_no</th>\n",
       "      <th>year</th>\n",
       "      <th>month</th>\n",
       "      <th>doy</th>\n",
       "      <th>x_EASE</th>\n",
       "      <th>y_EASE</th>\n",
       "      <th>u_buoy</th>\n",
       "      <th>v_buoy</th>\n",
       "      <th>val_mag</th>\n",
       "      <th>u_ERA5</th>\n",
       "      <th>v_ERA5</th>\n",
       "      <th>sic_CDR</th>\n",
       "      <th>h_piomas</th>\n",
       "      <th>d2c</th>\n",
       "      <th>type</th>\n",
       "    </tr>\n",
       "  </thead>\n",
       "  <tbody>\n",
       "    <tr>\n",
       "      <th>339198</th>\n",
       "      <td>0.0</td>\n",
       "      <td>1.0</td>\n",
       "      <td>0.0</td>\n",
       "      <td>1.0</td>\n",
       "      <td>1.0</td>\n",
       "      <td>1.0</td>\n",
       "      <td>1.0</td>\n",
       "      <td>0.641335</td>\n",
       "      <td>0.559853</td>\n",
       "      <td>0.515112</td>\n",
       "      <td>0.406754</td>\n",
       "      <td>0.155264</td>\n",
       "      <td>0.501463</td>\n",
       "      <td>0.328627</td>\n",
       "      <td>1.000000</td>\n",
       "      <td>0.257773</td>\n",
       "      <td>0.626741</td>\n",
       "      <td>1</td>\n",
       "    </tr>\n",
       "    <tr>\n",
       "      <th>339199</th>\n",
       "      <td>0.0</td>\n",
       "      <td>1.0</td>\n",
       "      <td>0.0</td>\n",
       "      <td>1.0</td>\n",
       "      <td>1.0</td>\n",
       "      <td>1.0</td>\n",
       "      <td>1.0</td>\n",
       "      <td>0.704564</td>\n",
       "      <td>0.433388</td>\n",
       "      <td>0.471313</td>\n",
       "      <td>0.454077</td>\n",
       "      <td>0.118676</td>\n",
       "      <td>0.450518</td>\n",
       "      <td>0.459557</td>\n",
       "      <td>1.000000</td>\n",
       "      <td>0.205095</td>\n",
       "      <td>0.321545</td>\n",
       "      <td>1</td>\n",
       "    </tr>\n",
       "    <tr>\n",
       "      <th>339200</th>\n",
       "      <td>0.0</td>\n",
       "      <td>1.0</td>\n",
       "      <td>0.0</td>\n",
       "      <td>1.0</td>\n",
       "      <td>1.0</td>\n",
       "      <td>1.0</td>\n",
       "      <td>1.0</td>\n",
       "      <td>0.441653</td>\n",
       "      <td>0.450116</td>\n",
       "      <td>0.515583</td>\n",
       "      <td>0.509253</td>\n",
       "      <td>0.031289</td>\n",
       "      <td>0.610437</td>\n",
       "      <td>0.494453</td>\n",
       "      <td>1.000000</td>\n",
       "      <td>0.311926</td>\n",
       "      <td>0.351284</td>\n",
       "      <td>1</td>\n",
       "    </tr>\n",
       "    <tr>\n",
       "      <th>339201</th>\n",
       "      <td>0.0</td>\n",
       "      <td>1.0</td>\n",
       "      <td>0.0</td>\n",
       "      <td>1.0</td>\n",
       "      <td>1.0</td>\n",
       "      <td>1.0</td>\n",
       "      <td>1.0</td>\n",
       "      <td>0.644204</td>\n",
       "      <td>0.566721</td>\n",
       "      <td>0.521261</td>\n",
       "      <td>0.406065</td>\n",
       "      <td>0.155961</td>\n",
       "      <td>0.502881</td>\n",
       "      <td>0.343724</td>\n",
       "      <td>1.000000</td>\n",
       "      <td>0.256321</td>\n",
       "      <td>0.606871</td>\n",
       "      <td>1</td>\n",
       "    </tr>\n",
       "    <tr>\n",
       "      <th>339202</th>\n",
       "      <td>1.0</td>\n",
       "      <td>0.0</td>\n",
       "      <td>0.0</td>\n",
       "      <td>1.0</td>\n",
       "      <td>1.0</td>\n",
       "      <td>1.0</td>\n",
       "      <td>1.0</td>\n",
       "      <td>0.254926</td>\n",
       "      <td>0.506398</td>\n",
       "      <td>0.521970</td>\n",
       "      <td>0.493139</td>\n",
       "      <td>0.000000</td>\n",
       "      <td>0.596570</td>\n",
       "      <td>0.638411</td>\n",
       "      <td>0.949973</td>\n",
       "      <td>0.213090</td>\n",
       "      <td>0.010146</td>\n",
       "      <td>0</td>\n",
       "    </tr>\n",
       "  </tbody>\n",
       "</table>\n",
       "</div>"
      ],
      "text/plain": [
       "          0    1    2  day_no  year  month  doy    x_EASE    y_EASE    u_buoy  \\\n",
       "339198  0.0  1.0  0.0     1.0   1.0    1.0  1.0  0.641335  0.559853  0.515112   \n",
       "339199  0.0  1.0  0.0     1.0   1.0    1.0  1.0  0.704564  0.433388  0.471313   \n",
       "339200  0.0  1.0  0.0     1.0   1.0    1.0  1.0  0.441653  0.450116  0.515583   \n",
       "339201  0.0  1.0  0.0     1.0   1.0    1.0  1.0  0.644204  0.566721  0.521261   \n",
       "339202  1.0  0.0  0.0     1.0   1.0    1.0  1.0  0.254926  0.506398  0.521970   \n",
       "\n",
       "          v_buoy   val_mag    u_ERA5    v_ERA5   sic_CDR  h_piomas       d2c  \\\n",
       "339198  0.406754  0.155264  0.501463  0.328627  1.000000  0.257773  0.626741   \n",
       "339199  0.454077  0.118676  0.450518  0.459557  1.000000  0.205095  0.321545   \n",
       "339200  0.509253  0.031289  0.610437  0.494453  1.000000  0.311926  0.351284   \n",
       "339201  0.406065  0.155961  0.502881  0.343724  1.000000  0.256321  0.606871   \n",
       "339202  0.493139  0.000000  0.596570  0.638411  0.949973  0.213090  0.010146   \n",
       "\n",
       "        type  \n",
       "339198     1  \n",
       "339199     1  \n",
       "339200     1  \n",
       "339201     1  \n",
       "339202     0  "
      ]
     },
     "execution_count": 29,
     "metadata": {},
     "output_type": "execute_result"
    }
   ],
   "source": [
    "#append Y axis back to this \n",
    "df_normalized_w_target = pd.concat([df_normalized, df2['type']], axis=1)\n",
    "df_normalized_w_target.tail()"
   ]
  },
  {
   "cell_type": "code",
   "execution_count": 30,
   "metadata": {},
   "outputs": [
    {
     "name": "stdout",
     "output_type": "stream",
     "text": [
      "(339203, 14)\n"
     ]
    },
    {
     "data": {
      "text/html": [
       "<div>\n",
       "<style scoped>\n",
       "    .dataframe tbody tr th:only-of-type {\n",
       "        vertical-align: middle;\n",
       "    }\n",
       "\n",
       "    .dataframe tbody tr th {\n",
       "        vertical-align: top;\n",
       "    }\n",
       "\n",
       "    .dataframe thead th {\n",
       "        text-align: right;\n",
       "    }\n",
       "</style>\n",
       "<table border=\"1\" class=\"dataframe\">\n",
       "  <thead>\n",
       "    <tr style=\"text-align: right;\">\n",
       "      <th></th>\n",
       "      <th>day_no</th>\n",
       "      <th>year</th>\n",
       "      <th>month</th>\n",
       "      <th>doy</th>\n",
       "      <th>x_EASE</th>\n",
       "      <th>y_EASE</th>\n",
       "      <th>u_buoy</th>\n",
       "      <th>v_buoy</th>\n",
       "      <th>val_mag</th>\n",
       "      <th>u_ERA5</th>\n",
       "      <th>v_ERA5</th>\n",
       "      <th>sic_CDR</th>\n",
       "      <th>h_piomas</th>\n",
       "      <th>d2c</th>\n",
       "    </tr>\n",
       "  </thead>\n",
       "  <tbody>\n",
       "    <tr>\n",
       "      <th>0</th>\n",
       "      <td>0.000000</td>\n",
       "      <td>0.0</td>\n",
       "      <td>0.090909</td>\n",
       "      <td>0.132231</td>\n",
       "      <td>0.450990</td>\n",
       "      <td>0.419101</td>\n",
       "      <td>0.516395</td>\n",
       "      <td>0.501371</td>\n",
       "      <td>0.018128</td>\n",
       "      <td>0.399561</td>\n",
       "      <td>0.460963</td>\n",
       "      <td>0.990195</td>\n",
       "      <td>0.507543</td>\n",
       "      <td>0.466216</td>\n",
       "    </tr>\n",
       "    <tr>\n",
       "      <th>1</th>\n",
       "      <td>0.000000</td>\n",
       "      <td>0.0</td>\n",
       "      <td>0.090909</td>\n",
       "      <td>0.132231</td>\n",
       "      <td>0.448192</td>\n",
       "      <td>0.344633</td>\n",
       "      <td>0.526465</td>\n",
       "      <td>0.495862</td>\n",
       "      <td>0.009806</td>\n",
       "      <td>0.396769</td>\n",
       "      <td>0.452757</td>\n",
       "      <td>0.966371</td>\n",
       "      <td>0.395249</td>\n",
       "      <td>0.368220</td>\n",
       "    </tr>\n",
       "    <tr>\n",
       "      <th>2</th>\n",
       "      <td>0.000000</td>\n",
       "      <td>0.0</td>\n",
       "      <td>0.090909</td>\n",
       "      <td>0.132231</td>\n",
       "      <td>0.382248</td>\n",
       "      <td>0.382186</td>\n",
       "      <td>0.513845</td>\n",
       "      <td>0.494939</td>\n",
       "      <td>0.015708</td>\n",
       "      <td>0.347817</td>\n",
       "      <td>0.494566</td>\n",
       "      <td>0.996022</td>\n",
       "      <td>0.393673</td>\n",
       "      <td>0.323381</td>\n",
       "    </tr>\n",
       "    <tr>\n",
       "      <th>3</th>\n",
       "      <td>0.000000</td>\n",
       "      <td>0.0</td>\n",
       "      <td>0.090909</td>\n",
       "      <td>0.132231</td>\n",
       "      <td>0.451064</td>\n",
       "      <td>0.496565</td>\n",
       "      <td>0.528398</td>\n",
       "      <td>0.493330</td>\n",
       "      <td>0.012169</td>\n",
       "      <td>0.536749</td>\n",
       "      <td>0.444359</td>\n",
       "      <td>0.982681</td>\n",
       "      <td>0.595182</td>\n",
       "      <td>0.339879</td>\n",
       "    </tr>\n",
       "    <tr>\n",
       "      <th>4</th>\n",
       "      <td>0.000067</td>\n",
       "      <td>0.0</td>\n",
       "      <td>0.090909</td>\n",
       "      <td>0.134986</td>\n",
       "      <td>0.450840</td>\n",
       "      <td>0.419172</td>\n",
       "      <td>0.524632</td>\n",
       "      <td>0.502322</td>\n",
       "      <td>0.017201</td>\n",
       "      <td>0.510181</td>\n",
       "      <td>0.527439</td>\n",
       "      <td>0.990301</td>\n",
       "      <td>0.507349</td>\n",
       "      <td>0.465334</td>\n",
       "    </tr>\n",
       "  </tbody>\n",
       "</table>\n",
       "</div>"
      ],
      "text/plain": [
       "     day_no  year     month       doy    x_EASE    y_EASE    u_buoy    v_buoy  \\\n",
       "0  0.000000   0.0  0.090909  0.132231  0.450990  0.419101  0.516395  0.501371   \n",
       "1  0.000000   0.0  0.090909  0.132231  0.448192  0.344633  0.526465  0.495862   \n",
       "2  0.000000   0.0  0.090909  0.132231  0.382248  0.382186  0.513845  0.494939   \n",
       "3  0.000000   0.0  0.090909  0.132231  0.451064  0.496565  0.528398  0.493330   \n",
       "4  0.000067   0.0  0.090909  0.134986  0.450840  0.419172  0.524632  0.502322   \n",
       "\n",
       "    val_mag    u_ERA5    v_ERA5   sic_CDR  h_piomas       d2c  \n",
       "0  0.018128  0.399561  0.460963  0.990195  0.507543  0.466216  \n",
       "1  0.009806  0.396769  0.452757  0.966371  0.395249  0.368220  \n",
       "2  0.015708  0.347817  0.494566  0.996022  0.393673  0.323381  \n",
       "3  0.012169  0.536749  0.444359  0.982681  0.595182  0.339879  \n",
       "4  0.017201  0.510181  0.527439  0.990301  0.507349  0.465334  "
      ]
     },
     "execution_count": 30,
     "metadata": {},
     "output_type": "execute_result"
    }
   ],
   "source": [
    "# set target data  and x values\n",
    "X=df_normalized_w_target[list(df_normalized_w_target.columns)[3:-1]]\n",
    "print(X.shape)\n",
    "X.head()"
   ]
  },
  {
   "cell_type": "code",
   "execution_count": 31,
   "metadata": {},
   "outputs": [
    {
     "data": {
      "text/plain": [
       "(339203, 14)"
      ]
     },
     "execution_count": 31,
     "metadata": {},
     "output_type": "execute_result"
    }
   ],
   "source": [
    "X.shape"
   ]
  },
  {
   "cell_type": "code",
   "execution_count": 32,
   "metadata": {},
   "outputs": [],
   "source": [
    "X = X.drop(['u_buoy', 'v_buoy','val_mag'],axis=1)"
   ]
  },
  {
   "cell_type": "code",
   "execution_count": 33,
   "metadata": {},
   "outputs": [
    {
     "data": {
      "text/plain": [
       "(339203, 11)"
      ]
     },
     "execution_count": 33,
     "metadata": {},
     "output_type": "execute_result"
    }
   ],
   "source": [
    "X.shape"
   ]
  },
  {
   "cell_type": "code",
   "execution_count": 34,
   "metadata": {},
   "outputs": [
    {
     "data": {
      "text/plain": [
       "Index(['day_no', 'year', 'month', 'doy', 'x_EASE', 'y_EASE', 'u_ERA5',\n",
       "       'v_ERA5', 'sic_CDR', 'h_piomas', 'd2c'],\n",
       "      dtype='object')"
      ]
     },
     "execution_count": 34,
     "metadata": {},
     "output_type": "execute_result"
    }
   ],
   "source": [
    "X.columns"
   ]
  },
  {
   "cell_type": "code",
   "execution_count": 35,
   "metadata": {},
   "outputs": [
    {
     "name": "stdout",
     "output_type": "stream",
     "text": [
      "(339203,)\n"
     ]
    },
    {
     "data": {
      "text/plain": [
       "0    1\n",
       "1    1\n",
       "2    1\n",
       "3    1\n",
       "4    1\n",
       "Name: type, dtype: int64"
      ]
     },
     "execution_count": 35,
     "metadata": {},
     "output_type": "execute_result"
    }
   ],
   "source": [
    "Y=df_normalized_w_target[list(df_normalized_w_target.columns)[-1]]\n",
    "print(Y.shape)\n",
    "Y.head()\n"
   ]
  },
  {
   "cell_type": "code",
   "execution_count": 36,
   "metadata": {},
   "outputs": [
    {
     "name": "stdout",
     "output_type": "stream",
     "text": [
      "(339203, 11)\n",
      "(339203,)\n"
     ]
    }
   ],
   "source": [
    "print(X.shape)\n",
    "print(Y.shape)"
   ]
  },
  {
   "cell_type": "code",
   "execution_count": 37,
   "metadata": {},
   "outputs": [],
   "source": [
    "#sample the data, 6300 per output\n",
    "x, y = make_imbalance(X, Y,\n",
    "                      sampling_strategy={0: 6300, 1: 6300, 2: 6300},\n",
    "                      random_state=RANDOM_STATE)"
   ]
  },
  {
   "cell_type": "code",
   "execution_count": 38,
   "metadata": {},
   "outputs": [],
   "source": [
    "#split into training and testing\n",
    "X_train, X_test, y_train, y_test = train_test_split(\n",
    "    x, y, random_state=RANDOM_STATE)"
   ]
  },
  {
   "cell_type": "code",
   "execution_count": 39,
   "metadata": {},
   "outputs": [
    {
     "name": "stdout",
     "output_type": "stream",
     "text": [
      "Training target statistics: Counter({2: 4736, 0: 4733, 1: 4706})\n",
      "Testing target statistics: Counter({1: 1594, 0: 1567, 2: 1564})\n"
     ]
    }
   ],
   "source": [
    "print('Training target statistics: {}'.format(Counter(y_train)))\n",
    "print('Testing target statistics: {}'.format(Counter(y_test)))"
   ]
  },
  {
   "cell_type": "code",
   "execution_count": 40,
   "metadata": {},
   "outputs": [
    {
     "data": {
      "image/png": "[encoded data removed]",
      "text/plain": [
       "<Figure size 540x540 with 12 Axes>"
      ]
     },
     "metadata": {},
     "output_type": "display_data"
    }
   ],
   "source": [
    "sns.set()\n",
    "cols2 = ['type', 'u_buoy', 'v_buoy']\n",
    "sns.pairplot(df_normalized_w_target[cols2], height = 2.5)\n",
    "plt.show();"
   ]
  },
  {
   "cell_type": "code",
   "execution_count": 41,
   "metadata": {},
   "outputs": [],
   "source": [
    "clf = DecisionTreeClassifier(random_state=7)"
   ]
  },
  {
   "cell_type": "code",
   "execution_count": 42,
   "metadata": {},
   "outputs": [],
   "source": [
    "clf = clf.fit(X_train, y_train)"
   ]
  },
  {
   "cell_type": "code",
   "execution_count": 43,
   "metadata": {},
   "outputs": [
    {
     "data": {
      "text/plain": [
       "DecisionTreeClassifier(random_state=42)"
      ]
     },
     "execution_count": 43,
     "metadata": {},
     "output_type": "execute_result"
    }
   ],
   "source": [
    "dtree = DecisionTreeClassifier( random_state=42)\n",
    "dtree.fit(X_train,y_train)"
   ]
  },
  {
   "cell_type": "code",
   "execution_count": 44,
   "metadata": {},
   "outputs": [],
   "source": [
    "predictions = dtree.predict(X_test)"
   ]
  },
  {
   "cell_type": "code",
   "execution_count": 45,
   "metadata": {},
   "outputs": [
    {
     "name": "stdout",
     "output_type": "stream",
     "text": [
      "Decision Tree Train Accuracy: 0.9998589065255732\n",
      "Decision Tree Test Accuracy: 0.8747089947089947\n"
     ]
    }
   ],
   "source": [
    "print (\"Decision Tree Train Accuracy:\", metrics.accuracy_score(y_train, dtree.predict(X_train)))\n",
    "print (\"Decision Tree Test Accuracy:\", metrics.accuracy_score(y_test, dtree.predict(X_test)))"
   ]
  },
  {
   "cell_type": "code",
   "execution_count": 47,
   "metadata": {},
   "outputs": [
    {
     "name": "stdout",
     "output_type": "stream",
     "text": [
      "              precision    recall  f1-score   support\n",
      "\n",
      "           0       0.91      0.92      0.92      1567\n",
      "           1       0.82      0.84      0.83      1594\n",
      "           2       0.89      0.86      0.88      1564\n",
      "\n",
      "    accuracy                           0.87      4725\n",
      "   macro avg       0.88      0.87      0.88      4725\n",
      "weighted avg       0.88      0.87      0.87      4725\n",
      "\n"
     ]
    }
   ],
   "source": [
    "print(classification_report(y_test, predictions))"
   ]
  },
  {
   "cell_type": "code",
   "execution_count": 48,
   "metadata": {},
   "outputs": [
    {
     "data": {
      "text/html": [
       "<div>\n",
       "<style scoped>\n",
       "    .dataframe tbody tr th:only-of-type {\n",
       "        vertical-align: middle;\n",
       "    }\n",
       "\n",
       "    .dataframe tbody tr th {\n",
       "        vertical-align: top;\n",
       "    }\n",
       "\n",
       "    .dataframe thead th {\n",
       "        text-align: right;\n",
       "    }\n",
       "</style>\n",
       "<table border=\"1\" class=\"dataframe\">\n",
       "  <thead>\n",
       "    <tr style=\"text-align: right;\">\n",
       "      <th></th>\n",
       "      <th>day_no</th>\n",
       "      <th>year</th>\n",
       "      <th>month</th>\n",
       "      <th>doy</th>\n",
       "      <th>x_EASE</th>\n",
       "      <th>y_EASE</th>\n",
       "      <th>u_ERA5</th>\n",
       "      <th>v_ERA5</th>\n",
       "      <th>sic_CDR</th>\n",
       "      <th>h_piomas</th>\n",
       "      <th>d2c</th>\n",
       "    </tr>\n",
       "  </thead>\n",
       "  <tbody>\n",
       "    <tr>\n",
       "      <th>13723</th>\n",
       "      <td>0.968643</td>\n",
       "      <td>0.975</td>\n",
       "      <td>0.727273</td>\n",
       "      <td>0.716253</td>\n",
       "      <td>0.687178</td>\n",
       "      <td>0.464266</td>\n",
       "      <td>0.587272</td>\n",
       "      <td>0.522515</td>\n",
       "      <td>0.162757</td>\n",
       "      <td>0.016351</td>\n",
       "      <td>0.494926</td>\n",
       "    </tr>\n",
       "    <tr>\n",
       "      <th>1447</th>\n",
       "      <td>0.810787</td>\n",
       "      <td>0.825</td>\n",
       "      <td>0.272727</td>\n",
       "      <td>0.264463</td>\n",
       "      <td>0.418170</td>\n",
       "      <td>0.385224</td>\n",
       "      <td>0.687469</td>\n",
       "      <td>0.365709</td>\n",
       "      <td>1.000000</td>\n",
       "      <td>0.406380</td>\n",
       "      <td>0.459169</td>\n",
       "    </tr>\n",
       "    <tr>\n",
       "      <th>5549</th>\n",
       "      <td>0.906600</td>\n",
       "      <td>0.925</td>\n",
       "      <td>0.181818</td>\n",
       "      <td>0.179063</td>\n",
       "      <td>0.822569</td>\n",
       "      <td>0.592322</td>\n",
       "      <td>0.575139</td>\n",
       "      <td>0.255510</td>\n",
       "      <td>0.962714</td>\n",
       "      <td>0.176069</td>\n",
       "      <td>0.141705</td>\n",
       "    </tr>\n",
       "    <tr>\n",
       "      <th>1634</th>\n",
       "      <td>0.808777</td>\n",
       "      <td>0.825</td>\n",
       "      <td>0.181818</td>\n",
       "      <td>0.181818</td>\n",
       "      <td>0.471470</td>\n",
       "      <td>0.624858</td>\n",
       "      <td>0.543142</td>\n",
       "      <td>0.466057</td>\n",
       "      <td>1.000000</td>\n",
       "      <td>0.488096</td>\n",
       "      <td>0.014663</td>\n",
       "    </tr>\n",
       "    <tr>\n",
       "      <th>10294</th>\n",
       "      <td>0.654472</td>\n",
       "      <td>0.650</td>\n",
       "      <td>0.909091</td>\n",
       "      <td>0.878788</td>\n",
       "      <td>0.560221</td>\n",
       "      <td>0.521393</td>\n",
       "      <td>0.587147</td>\n",
       "      <td>0.337018</td>\n",
       "      <td>1.000000</td>\n",
       "      <td>0.312133</td>\n",
       "      <td>0.732446</td>\n",
       "    </tr>\n",
       "    <tr>\n",
       "      <th>...</th>\n",
       "      <td>...</td>\n",
       "      <td>...</td>\n",
       "      <td>...</td>\n",
       "      <td>...</td>\n",
       "      <td>...</td>\n",
       "      <td>...</td>\n",
       "      <td>...</td>\n",
       "      <td>...</td>\n",
       "      <td>...</td>\n",
       "      <td>...</td>\n",
       "      <td>...</td>\n",
       "    </tr>\n",
       "    <tr>\n",
       "      <th>11744</th>\n",
       "      <td>0.753568</td>\n",
       "      <td>0.750</td>\n",
       "      <td>1.000000</td>\n",
       "      <td>0.928375</td>\n",
       "      <td>0.567032</td>\n",
       "      <td>0.392819</td>\n",
       "      <td>0.481061</td>\n",
       "      <td>0.705515</td>\n",
       "      <td>1.000000</td>\n",
       "      <td>0.202081</td>\n",
       "      <td>0.745225</td>\n",
       "    </tr>\n",
       "    <tr>\n",
       "      <th>15978</th>\n",
       "      <td>0.211256</td>\n",
       "      <td>0.200</td>\n",
       "      <td>0.818182</td>\n",
       "      <td>0.768595</td>\n",
       "      <td>0.521094</td>\n",
       "      <td>0.839908</td>\n",
       "      <td>0.502362</td>\n",
       "      <td>0.760485</td>\n",
       "      <td>0.967299</td>\n",
       "      <td>0.148617</td>\n",
       "      <td>0.097660</td>\n",
       "    </tr>\n",
       "    <tr>\n",
       "      <th>4371</th>\n",
       "      <td>0.649581</td>\n",
       "      <td>0.650</td>\n",
       "      <td>0.727273</td>\n",
       "      <td>0.677686</td>\n",
       "      <td>0.592524</td>\n",
       "      <td>0.706087</td>\n",
       "      <td>0.598211</td>\n",
       "      <td>0.472945</td>\n",
       "      <td>0.999134</td>\n",
       "      <td>0.243234</td>\n",
       "      <td>0.272368</td>\n",
       "    </tr>\n",
       "    <tr>\n",
       "      <th>17824</th>\n",
       "      <td>0.973802</td>\n",
       "      <td>0.975</td>\n",
       "      <td>1.000000</td>\n",
       "      <td>0.928375</td>\n",
       "      <td>0.511375</td>\n",
       "      <td>0.276499</td>\n",
       "      <td>0.364072</td>\n",
       "      <td>0.539611</td>\n",
       "      <td>0.940313</td>\n",
       "      <td>0.086677</td>\n",
       "      <td>0.222779</td>\n",
       "    </tr>\n",
       "    <tr>\n",
       "      <th>18875</th>\n",
       "      <td>0.997856</td>\n",
       "      <td>1.000</td>\n",
       "      <td>0.909091</td>\n",
       "      <td>0.911846</td>\n",
       "      <td>0.508095</td>\n",
       "      <td>0.386222</td>\n",
       "      <td>0.852998</td>\n",
       "      <td>0.455320</td>\n",
       "      <td>0.980950</td>\n",
       "      <td>0.172443</td>\n",
       "      <td>0.662823</td>\n",
       "    </tr>\n",
       "  </tbody>\n",
       "</table>\n",
       "<p>4725 rows × 11 columns</p>\n",
       "</div>"
      ],
      "text/plain": [
       "         day_no   year     month       doy    x_EASE    y_EASE    u_ERA5  \\\n",
       "13723  0.968643  0.975  0.727273  0.716253  0.687178  0.464266  0.587272   \n",
       "1447   0.810787  0.825  0.272727  0.264463  0.418170  0.385224  0.687469   \n",
       "5549   0.906600  0.925  0.181818  0.179063  0.822569  0.592322  0.575139   \n",
       "1634   0.808777  0.825  0.181818  0.181818  0.471470  0.624858  0.543142   \n",
       "10294  0.654472  0.650  0.909091  0.878788  0.560221  0.521393  0.587147   \n",
       "...         ...    ...       ...       ...       ...       ...       ...   \n",
       "11744  0.753568  0.750  1.000000  0.928375  0.567032  0.392819  0.481061   \n",
       "15978  0.211256  0.200  0.818182  0.768595  0.521094  0.839908  0.502362   \n",
       "4371   0.649581  0.650  0.727273  0.677686  0.592524  0.706087  0.598211   \n",
       "17824  0.973802  0.975  1.000000  0.928375  0.511375  0.276499  0.364072   \n",
       "18875  0.997856  1.000  0.909091  0.911846  0.508095  0.386222  0.852998   \n",
       "\n",
       "         v_ERA5   sic_CDR  h_piomas       d2c  \n",
       "13723  0.522515  0.162757  0.016351  0.494926  \n",
       "1447   0.365709  1.000000  0.406380  0.459169  \n",
       "5549   0.255510  0.962714  0.176069  0.141705  \n",
       "1634   0.466057  1.000000  0.488096  0.014663  \n",
       "10294  0.337018  1.000000  0.312133  0.732446  \n",
       "...         ...       ...       ...       ...  \n",
       "11744  0.705515  1.000000  0.202081  0.745225  \n",
       "15978  0.760485  0.967299  0.148617  0.097660  \n",
       "4371   0.472945  0.999134  0.243234  0.272368  \n",
       "17824  0.539611  0.940313  0.086677  0.222779  \n",
       "18875  0.455320  0.980950  0.172443  0.662823  \n",
       "\n",
       "[4725 rows x 11 columns]"
      ]
     },
     "execution_count": 48,
     "metadata": {},
     "output_type": "execute_result"
    }
   ],
   "source": [
    "X_test"
   ]
  },
  {
   "cell_type": "code",
   "execution_count": 49,
   "metadata": {},
   "outputs": [
    {
     "name": "stdout",
     "output_type": "stream",
     "text": [
      "[[1443  108   16]\n",
      " [ 101 1340  153]\n",
      " [  37  177 1350]]\n"
     ]
    }
   ],
   "source": [
    "print(confusion_matrix(y_test,predictions))"
   ]
  },
  {
   "cell_type": "code",
   "execution_count": 50,
   "metadata": {},
   "outputs": [
    {
     "data": {
      "text/plain": [
       "Text(0, 0.5, 'Accuracy Rate')"
      ]
     },
     "execution_count": 50,
     "metadata": {},
     "output_type": "execute_result"
    },
    {
     "data": {
      "image/png": "[encoded data removed]",
      "text/plain": [
       "<Figure size 864x576 with 1 Axes>"
      ]
     },
     "metadata": {},
     "output_type": "display_data"
    }
   ],
   "source": [
    "accuracy_rate = []\n",
    "training_acc = []\n",
    "\n",
    "for i in range(1,21):   \n",
    "    dtree = DecisionTreeClassifier(max_depth=i)\n",
    "    dtree.fit(X_train, y_train) \n",
    "    accuracy_rate.append(dtree.score(X_test, y_test))\n",
    "    training_acc.append(dtree.score(X_train, y_train))\n",
    "\n",
    "\n",
    "plt.figure(figsize=(12,8))\n",
    "\n",
    "plt.plot(np.arange(1,21), accuracy_rate,color='red', linestyle='dashed', marker='o',\n",
    "         markerfacecolor='red', markersize=10)\n",
    "plt.plot(np.arange(1,21), training_acc,color='blue', linestyle='dashed', marker='o',\n",
    "         markerfacecolor='blue', markersize=10)\n",
    "plt.title('Accuracy Rate vs. Tree Depth')\n",
    "plt.xlabel('Tree Depth')\n",
    "plt.ylabel('Accuracy Rate')\n",
    "\n",
    "#blue - trianing accuracy \n",
    "# red - testing accuracyy"
   ]
  },
  {
   "cell_type": "code",
   "execution_count": 51,
   "metadata": {},
   "outputs": [
    {
     "data": {
      "text/plain": [
       "RandomForestClassifier()"
      ]
     },
     "execution_count": 51,
     "metadata": {},
     "output_type": "execute_result"
    }
   ],
   "source": [
    "rfc = RandomForestClassifier(n_estimators=100)\n",
    "rfc.fit(X_train, y_train)"
   ]
  },
  {
   "cell_type": "code",
   "execution_count": 52,
   "metadata": {},
   "outputs": [],
   "source": [
    "rfc_pred = rfc.predict(X_test)"
   ]
  },
  {
   "cell_type": "code",
   "execution_count": 53,
   "metadata": {},
   "outputs": [
    {
     "name": "stdout",
     "output_type": "stream",
     "text": [
      "Random Forest Train Accuracy Baseline: 0.9997178130511464\n",
      "Random Forest Test Accuracy Baselsine: 0.9185185185185185\n"
     ]
    }
   ],
   "source": [
    "y_pred =  rfc.predict(X_test)\n",
    "print (\"Random Forest Train Accuracy Baseline:\", metrics.accuracy_score(y_train, rfc.predict(X_train)))\n",
    "print (\"Random Forest Test Accuracy Baselsine:\", metrics.accuracy_score(y_test, rfc.predict(X_test)))"
   ]
  },
  {
   "cell_type": "code",
   "execution_count": 54,
   "metadata": {},
   "outputs": [
    {
     "name": "stdout",
     "output_type": "stream",
     "text": [
      "[[1470   87   10]\n",
      " [  61 1413  120]\n",
      " [  18   89 1457]]\n"
     ]
    }
   ],
   "source": [
    "print(confusion_matrix(y_test,rfc_pred))"
   ]
  },
  {
   "cell_type": "code",
   "execution_count": 55,
   "metadata": {},
   "outputs": [
    {
     "name": "stdout",
     "output_type": "stream",
     "text": [
      "              precision    recall  f1-score   support\n",
      "\n",
      "           0       0.95      0.94      0.94      1567\n",
      "           1       0.89      0.89      0.89      1594\n",
      "           2       0.92      0.93      0.92      1564\n",
      "\n",
      "    accuracy                           0.92      4725\n",
      "   macro avg       0.92      0.92      0.92      4725\n",
      "weighted avg       0.92      0.92      0.92      4725\n",
      "\n"
     ]
    }
   ],
   "source": [
    "print(classification_report(y_test,rfc_pred))"
   ]
  },
  {
   "cell_type": "markdown",
   "metadata": {},
   "source": [
    "# Hyperparameter Tuning - Random Forest"
   ]
  },
  {
   "cell_type": "code",
   "execution_count": 56,
   "metadata": {},
   "outputs": [],
   "source": [
    "#sample the data, 6300 per output\n",
    "x, y = make_imbalance(X, Y,\n",
    "                      sampling_strategy={0: 6300, 1: 6300, 2: 6300},\n",
    "                      random_state=RANDOM_STATE)"
   ]
  },
  {
   "cell_type": "code",
   "execution_count": 57,
   "metadata": {},
   "outputs": [],
   "source": [
    "#split into training and testing\n",
    "X_train, X_test, y_train, y_test = train_test_split(\n",
    "    x, y, random_state=5)"
   ]
  },
  {
   "cell_type": "code",
   "execution_count": 58,
   "metadata": {},
   "outputs": [
    {
     "name": "stdout",
     "output_type": "stream",
     "text": [
      "Training target statistics: Counter({0: 4774, 2: 4713, 1: 4688})\n",
      "Testing target statistics: Counter({1: 1612, 2: 1587, 0: 1526})\n"
     ]
    }
   ],
   "source": [
    "print('Training target statistics: {}'.format(Counter(y_train)))\n",
    "print('Testing target statistics: {}'.format(Counter(y_test)))"
   ]
  },
  {
   "cell_type": "code",
   "execution_count": 59,
   "metadata": {},
   "outputs": [
    {
     "data": {
      "text/plain": [
       "RandomForestClassifier()"
      ]
     },
     "execution_count": 59,
     "metadata": {},
     "output_type": "execute_result"
    }
   ],
   "source": [
    "# Random forest baseline performance\n",
    "rfc = RandomForestClassifier()\n",
    "rfc.fit(X_train, y_train)"
   ]
  },
  {
   "cell_type": "code",
   "execution_count": 60,
   "metadata": {},
   "outputs": [
    {
     "data": {
      "text/plain": [
       "{'bootstrap': [True],\n",
       " 'max_depth': [10, 15, 20, None],\n",
       " 'min_samples_leaf': [1, 10, 20, 50, 100, 500],\n",
       " 'min_samples_split': [2, 30, 40, 100]}"
      ]
     },
     "execution_count": 60,
     "metadata": {},
     "output_type": "execute_result"
    }
   ],
   "source": [
    "\n",
    "# Create the parameter grid based on the results of random search \n",
    "param_grid = {\n",
    "    'bootstrap': [True],\n",
    "    'max_depth': [10,15, 20, None],\n",
    "    'min_samples_leaf': [1, 10, 20, 50, 100,500],\n",
    "    'min_samples_split': [2, 30, 40,100],\n",
    "}\n",
    "param_grid"
   ]
  },
  {
   "cell_type": "code",
   "execution_count": 61,
   "metadata": {},
   "outputs": [],
   "source": [
    "# Create a based model\n",
    "rfc_gs = RandomForestClassifier()\n",
    "# Instantiate the grid search model\n",
    "grid_search = GridSearchCV(estimator = rfc_gs, param_grid = param_grid, \n",
    "                          cv = 10, n_jobs = -1, verbose = 2)"
   ]
  },
  {
   "cell_type": "code",
   "execution_count": 62,
   "metadata": {},
   "outputs": [
    {
     "name": "stdout",
     "output_type": "stream",
     "text": [
      "Fitting 10 folds for each of 96 candidates, totalling 960 fits\n"
     ]
    },
    {
     "name": "stderr",
     "output_type": "stream",
     "text": [
      "[Parallel(n_jobs=-1)]: Using backend LokyBackend with 4 concurrent workers.\n",
      "[Parallel(n_jobs=-1)]: Done  33 tasks      | elapsed:   21.7s\n",
      "[Parallel(n_jobs=-1)]: Done 154 tasks      | elapsed:  1.4min\n",
      "[Parallel(n_jobs=-1)]: Done 357 tasks      | elapsed:  3.1min\n",
      "[Parallel(n_jobs=-1)]: Done 640 tasks      | elapsed:  5.5min\n",
      "[Parallel(n_jobs=-1)]: Done 960 out of 960 | elapsed:  8.2min finished\n"
     ]
    },
    {
     "data": {
      "text/plain": [
       "GridSearchCV(cv=10, estimator=RandomForestClassifier(), n_jobs=-1,\n",
       "             param_grid={'bootstrap': [True], 'max_depth': [10, 15, 20, None],\n",
       "                         'min_samples_leaf': [1, 10, 20, 50, 100, 500],\n",
       "                         'min_samples_split': [2, 30, 40, 100]},\n",
       "             verbose=2)"
      ]
     },
     "execution_count": 62,
     "metadata": {},
     "output_type": "execute_result"
    }
   ],
   "source": [
    "# Fit the grid search to the data\n",
    "grid_search.fit(X_train, y_train)"
   ]
  },
  {
   "cell_type": "code",
   "execution_count": 63,
   "metadata": {},
   "outputs": [
    {
     "data": {
      "text/plain": [
       "{'bootstrap': True,\n",
       " 'max_depth': None,\n",
       " 'min_samples_leaf': 1,\n",
       " 'min_samples_split': 2}"
      ]
     },
     "execution_count": 63,
     "metadata": {},
     "output_type": "execute_result"
    }
   ],
   "source": [
    "grid_search.best_params_"
   ]
  },
  {
   "cell_type": "code",
   "execution_count": 64,
   "metadata": {},
   "outputs": [
    {
     "data": {
      "text/plain": [
       "RandomForestClassifier()"
      ]
     },
     "execution_count": 64,
     "metadata": {},
     "output_type": "execute_result"
    }
   ],
   "source": [
    "best_grid = grid_search.best_estimator_\n",
    "best_grid"
   ]
  },
  {
   "cell_type": "code",
   "execution_count": 65,
   "metadata": {},
   "outputs": [],
   "source": [
    "optimal_param_grid = {\n",
    "    'bootstrap': [True],\n",
    "    'min_samples_leaf': [1],\n",
    "    'min_samples_split': [2],\n",
    "}"
   ]
  },
  {
   "cell_type": "code",
   "execution_count": 66,
   "metadata": {},
   "outputs": [],
   "source": [
    "grid_search = GridSearchCV(estimator = rfc, param_grid = optimal_param_grid, \n",
    "                          cv = 25, n_jobs = -1, verbose = 2)"
   ]
  },
  {
   "cell_type": "code",
   "execution_count": 67,
   "metadata": {},
   "outputs": [
    {
     "name": "stdout",
     "output_type": "stream",
     "text": [
      "Fitting 25 folds for each of 1 candidates, totalling 25 fits\n"
     ]
    },
    {
     "name": "stderr",
     "output_type": "stream",
     "text": [
      "[Parallel(n_jobs=-1)]: Using backend LokyBackend with 4 concurrent workers.\n",
      "[Parallel(n_jobs=-1)]: Done  25 out of  25 | elapsed:   22.3s finished\n"
     ]
    },
    {
     "data": {
      "text/plain": [
       "GridSearchCV(cv=25, estimator=RandomForestClassifier(), n_jobs=-1,\n",
       "             param_grid={'bootstrap': [True], 'min_samples_leaf': [1],\n",
       "                         'min_samples_split': [2]},\n",
       "             verbose=2)"
      ]
     },
     "execution_count": 67,
     "metadata": {},
     "output_type": "execute_result"
    }
   ],
   "source": [
    "# Fit the grid search to the data\n",
    "grid_search.fit(X_train, y_train)"
   ]
  },
  {
   "cell_type": "code",
   "execution_count": 68,
   "metadata": {},
   "outputs": [
    {
     "name": "stdout",
     "output_type": "stream",
     "text": [
      "Random Forest Train Accuracy Baseline After Grid Search: 0.9997883597883598\n",
      "Random Forest Test Accuracy Baseline After Grid Search: 0.9223280423280423\n"
     ]
    }
   ],
   "source": [
    "rfc_pred_gs = grid_search.predict(X_test)\n",
    "\n",
    "y_pred_gs =  grid_search.predict(X_test)\n",
    "print (\"Random Forest Train Accuracy Baseline After Grid Search:\", metrics.accuracy_score(y_train, grid_search.predict(X_train)))\n",
    "print (\"Random Forest Test Accuracy Baseline After Grid Search:\", metrics.accuracy_score(y_test, grid_search.predict(X_test)))"
   ]
  },
  {
   "cell_type": "code",
   "execution_count": 69,
   "metadata": {},
   "outputs": [
    {
     "data": {
      "text/plain": [
       "Text(0, 0.5, 'Accuracy Rate')"
      ]
     },
     "execution_count": 69,
     "metadata": {},
     "output_type": "execute_result"
    },
    {
     "data": {
      "image/png": "[encoded data removed]",
      "text/plain": [
       "<Figure size 864x576 with 1 Axes>"
      ]
     },
     "metadata": {},
     "output_type": "display_data"
    }
   ],
   "source": [
    "accuracy_rate = []\n",
    "training_acc = []\n",
    "\n",
    "for i in range(1,100):   \n",
    "    rfc_plot = RandomForestClassifier(bootstrap=True,\n",
    "                       max_depth=20, \n",
    "                       min_samples_leaf=1, min_samples_split=2,\n",
    "                       n_estimators=i)\n",
    "    rfc_plot.fit(X_train, y_train) \n",
    "    accuracy_rate.append(rfc_plot.score(X_test, y_test))\n",
    "    training_acc.append(rfc_plot.score(X_train, y_train))\n",
    "    \n",
    "plt.figure(figsize=(12,8))\n",
    "plt.plot(np.arange(1,100), accuracy_rate,color='blue', linestyle='dashed', marker='o',\n",
    "         markerfacecolor='blue', markersize=10)\n",
    "plt.plot(np.arange(1,100), training_acc,color='red', linestyle='dashed', marker='o',\n",
    "         markerfacecolor='red', markersize=10)\n",
    "\n",
    "#training > testing\n",
    "plt.title('Accuracy Rate vs. N-Estimators')\n",
    "plt.xlabel('N-Estimators')\n",
    "plt.ylabel('Accuracy Rate')"
   ]
  },
  {
   "cell_type": "code",
   "execution_count": null,
   "metadata": {},
   "outputs": [],
   "source": []
  }
 ],
 "metadata": {
  "kernelspec": {
   "display_name": "Python 3",
   "language": "python",
   "name": "python3"
  },
  "language_info": {
   "codemirror_mode": {
    "name": "ipython",
    "version": 3
   },
   "file_extension": ".py",
   "mimetype": "text/x-python",
   "name": "python",
   "nbconvert_exporter": "python",
   "pygments_lexer": "ipython3",
   "version": "3.6.10"
  }
 },
 "nbformat": 4,
 "nbformat_minor": 4
}
