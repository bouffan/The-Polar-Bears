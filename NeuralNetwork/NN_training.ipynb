{
 "cells": [
  {
   "cell_type": "markdown",
   "metadata": {},
   "source": [
    "This noteboook defines and trains a neural-network (NN) model to fit the ice velocities values. \n",
    "\n",
    "The input of the model are : \n",
    " - the two-dimensional wind velocity in EASE grid-coordinates, <b> u_ERA5,v_ERA5 </b>\n",
    " - the x and y EASE positions in EASE grid-coordinates, <b> x_EASE,y_EASE</b> \n",
    " - the sea-ice concentration in percentage, <b>sic_CDR</b>\n",
    " - the sea-ice thickness in m, <b>h_piomas</b>\n",
    " - the day of the year ranging from 1 to 364, <b>doy</b>\n",
    " - the year, <b>year</b>\n",
    " - the distance to coast in m, <b>d2c</b>\n",
    "\n",
    "The output of the models are:\n",
    " - the two-dimensional ice velocities in EASE grid-coordinates, <b>u_buoy,v_buoy</b>"
   ]
  },
  {
   "cell_type": "markdown",
   "metadata": {},
   "source": [
    "## Import modules"
   ]
  },
  {
   "cell_type": "code",
   "execution_count": 1,
   "metadata": {
    "collapsed": true
   },
   "outputs": [],
   "source": [
    "import pandas as pd\n",
    "import numpy as np\n",
    "import matplotlib.pyplot as plt\n",
    "import tensorflow as tf\n",
    "from sklearn.metrics import mean_squared_error as mse\n",
    "from sklearn.utils import shuffle"
   ]
  },
  {
   "cell_type": "markdown",
   "metadata": {},
   "source": [
    "## Prepare the data"
   ]
  },
  {
   "cell_type": "code",
   "execution_count": 2,
   "metadata": {
    "collapsed": false
   },
   "outputs": [],
   "source": [
    "# Load the training data set\n",
    "namefile = \"DRIFT_DATA_TRAIN.csv\"\n",
    "df = pd.read_csv(namefile)"
   ]
  },
  {
   "cell_type": "code",
   "execution_count": 10,
   "metadata": {
    "collapsed": false
   },
   "outputs": [
    {
     "data": {
      "text/html": [
       "<div>\n",
       "<style scoped>\n",
       "    .dataframe tbody tr th:only-of-type {\n",
       "        vertical-align: middle;\n",
       "    }\n",
       "\n",
       "    .dataframe tbody tr th {\n",
       "        vertical-align: top;\n",
       "    }\n",
       "\n",
       "    .dataframe thead th {\n",
       "        text-align: right;\n",
       "    }\n",
       "</style>\n",
       "<table border=\"1\" class=\"dataframe\">\n",
       "  <thead>\n",
       "    <tr style=\"text-align: right;\">\n",
       "      <th></th>\n",
       "      <th>year</th>\n",
       "      <th>month</th>\n",
       "      <th>day</th>\n",
       "      <th>doy</th>\n",
       "      <th>x_EASE</th>\n",
       "      <th>y_EASE</th>\n",
       "      <th>u_buoy</th>\n",
       "      <th>v_buoy</th>\n",
       "      <th>id_buoy</th>\n",
       "      <th>u_ERA5</th>\n",
       "      <th>v_ERA5</th>\n",
       "      <th>sic_CDR</th>\n",
       "      <th>h_cs2smos</th>\n",
       "      <th>h_piomas</th>\n",
       "      <th>d2c</th>\n",
       "    </tr>\n",
       "  </thead>\n",
       "  <tbody>\n",
       "    <tr>\n",
       "      <th>0</th>\n",
       "      <td>1979</td>\n",
       "      <td>2</td>\n",
       "      <td>18</td>\n",
       "      <td>49</td>\n",
       "      <td>147.506958</td>\n",
       "      <td>138.582672</td>\n",
       "      <td>-0.797554</td>\n",
       "      <td>1.114740</td>\n",
       "      <td>1906</td>\n",
       "      <td>-6.704156</td>\n",
       "      <td>-0.321260</td>\n",
       "      <td>0.990195</td>\n",
       "      <td>NaN</td>\n",
       "      <td>3.189743</td>\n",
       "      <td>522.523298</td>\n",
       "    </tr>\n",
       "    <tr>\n",
       "      <th>1</th>\n",
       "      <td>1979</td>\n",
       "      <td>2</td>\n",
       "      <td>18</td>\n",
       "      <td>49</td>\n",
       "      <td>146.834778</td>\n",
       "      <td>120.509880</td>\n",
       "      <td>0.643200</td>\n",
       "      <td>0.368754</td>\n",
       "      <td>1913</td>\n",
       "      <td>-6.818630</td>\n",
       "      <td>-0.674205</td>\n",
       "      <td>0.966372</td>\n",
       "      <td>NaN</td>\n",
       "      <td>2.484009</td>\n",
       "      <td>412.767669</td>\n",
       "    </tr>\n",
       "    <tr>\n",
       "      <th>2</th>\n",
       "      <td>1979</td>\n",
       "      <td>2</td>\n",
       "      <td>18</td>\n",
       "      <td>49</td>\n",
       "      <td>130.993561</td>\n",
       "      <td>129.623672</td>\n",
       "      <td>-1.162420</td>\n",
       "      <td>0.243717</td>\n",
       "      <td>1914</td>\n",
       "      <td>-8.825469</td>\n",
       "      <td>1.123955</td>\n",
       "      <td>0.996022</td>\n",
       "      <td>NaN</td>\n",
       "      <td>2.474106</td>\n",
       "      <td>362.547379</td>\n",
       "    </tr>\n",
       "    <tr>\n",
       "      <th>3</th>\n",
       "      <td>1979</td>\n",
       "      <td>2</td>\n",
       "      <td>18</td>\n",
       "      <td>49</td>\n",
       "      <td>147.524719</td>\n",
       "      <td>157.382492</td>\n",
       "      <td>0.919766</td>\n",
       "      <td>0.025784</td>\n",
       "      <td>1918</td>\n",
       "      <td>-1.079951</td>\n",
       "      <td>-1.035410</td>\n",
       "      <td>0.982681</td>\n",
       "      <td>NaN</td>\n",
       "      <td>3.740522</td>\n",
       "      <td>381.025629</td>\n",
       "    </tr>\n",
       "    <tr>\n",
       "      <th>4</th>\n",
       "      <td>1979</td>\n",
       "      <td>2</td>\n",
       "      <td>19</td>\n",
       "      <td>50</td>\n",
       "      <td>147.470963</td>\n",
       "      <td>138.599823</td>\n",
       "      <td>0.380940</td>\n",
       "      <td>1.243485</td>\n",
       "      <td>1906</td>\n",
       "      <td>-2.169171</td>\n",
       "      <td>2.537787</td>\n",
       "      <td>0.990302</td>\n",
       "      <td>NaN</td>\n",
       "      <td>3.188522</td>\n",
       "      <td>521.535334</td>\n",
       "    </tr>\n",
       "  </tbody>\n",
       "</table>\n",
       "</div>"
      ],
      "text/plain": [
       "   year  month  day  doy      x_EASE      y_EASE    u_buoy    v_buoy  id_buoy  \\\n",
       "0  1979      2   18   49  147.506958  138.582672 -0.797554  1.114740     1906   \n",
       "1  1979      2   18   49  146.834778  120.509880  0.643200  0.368754     1913   \n",
       "2  1979      2   18   49  130.993561  129.623672 -1.162420  0.243717     1914   \n",
       "3  1979      2   18   49  147.524719  157.382492  0.919766  0.025784     1918   \n",
       "4  1979      2   19   50  147.470963  138.599823  0.380940  1.243485     1906   \n",
       "\n",
       "     u_ERA5    v_ERA5   sic_CDR  h_cs2smos  h_piomas         d2c  \n",
       "0 -6.704156 -0.321260  0.990195        NaN  3.189743  522.523298  \n",
       "1 -6.818630 -0.674205  0.966372        NaN  2.484009  412.767669  \n",
       "2 -8.825469  1.123955  0.996022        NaN  2.474106  362.547379  \n",
       "3 -1.079951 -1.035410  0.982681        NaN  3.740522  381.025629  \n",
       "4 -2.169171  2.537787  0.990302        NaN  3.188522  521.535334  "
      ]
     },
     "execution_count": 10,
     "metadata": {},
     "output_type": "execute_result"
    }
   ],
   "source": [
    "df.head(5)"
   ]
  },
  {
   "cell_type": "code",
   "execution_count": 4,
   "metadata": {
    "collapsed": false
   },
   "outputs": [],
   "source": [
    "# Preparing the model features\n",
    "# model with 9 inputs  : \"u_ERA5\",\"v_ERA5\",\"x_EASE\",\"y_EASE\",\"sic_CDR\",\"h_piomas\",\"year\",\"doy\",\"d2c\"\n",
    "#            2 outputs : \"u_buoy\",\"v_buoy\"\n",
    "x = np.array(df[[\"u_ERA5\",\"v_ERA5\",\"x_EASE\",\"y_EASE\",\"sic_CDR\",\"h_piomas\",\"year\",\"doy\",\"d2c\"]])\n",
    "y = np.array(df[[\"u_buoy\",\"v_buoy\"]])\n",
    "\n",
    "# Shuffle the data and divide them in train / test (using 80% / 20% distribution)\n",
    "x, y = shuffle(x, y)\n",
    "x_train = x[:271600]\n",
    "y_train = y[:271600]\n",
    "x_test = x[271600:]\n",
    "y_test = y[271600:]\n",
    "\n",
    "# Rescale the input features using the full dataset ( !!!! mean and variances need to be kept for predictions !!!! )\n",
    "mean_x = np.mean(x,axis=0)\n",
    "variances_x = np.var(x,axis=0)\n",
    "x_train_norm = (x_train - mean_x)/variances_x\n",
    "x_train_norm = x_train\n",
    "x_test_norm = (x_test - mean_x)/variances_x\n",
    "x_test_norm = x_test"
   ]
  },
  {
   "cell_type": "markdown",
   "metadata": {},
   "source": [
    "## NN model definition"
   ]
  },
  {
   "cell_type": "code",
   "execution_count": 5,
   "metadata": {
    "collapsed": false
   },
   "outputs": [
    {
     "name": "stdout",
     "output_type": "stream",
     "text": [
      "Model: \"sequential\"\n",
      "_________________________________________________________________\n",
      "Layer (type)                 Output Shape              Param #   \n",
      "=================================================================\n",
      "dense (Dense)                (None, 128)               1280      \n",
      "_________________________________________________________________\n",
      "dense_1 (Dense)              (None, 64)                8256      \n",
      "_________________________________________________________________\n",
      "dense_2 (Dense)              (None, 32)                2080      \n",
      "_________________________________________________________________\n",
      "dense_3 (Dense)              (None, 16)                528       \n",
      "_________________________________________________________________\n",
      "dense_4 (Dense)              (None, 2)                 34        \n",
      "=================================================================\n",
      "Total params: 12,178\n",
      "Trainable params: 12,178\n",
      "Non-trainable params: 0\n",
      "_________________________________________________________________\n"
     ]
    }
   ],
   "source": [
    "# Definition of the architecture of the NN\n",
    "model = tf.keras.models.Sequential([\n",
    "    tf.keras.layers.Dense(128,input_shape=[9],activation=\"relu\"),\n",
    "    tf.keras.layers.Dense(64,activation=\"relu\"),\n",
    "    tf.keras.layers.Dense(32,activation=\"relu\"),\n",
    "    tf.keras.layers.Dense(16,activation=\"relu\"),\n",
    "    tf.keras.layers.Dense(2)\n",
    "])\n",
    "model.summary()"
   ]
  },
  {
   "cell_type": "markdown",
   "metadata": {},
   "source": [
    "## Running the model"
   ]
  },
  {
   "cell_type": "code",
   "execution_count": 6,
   "metadata": {
    "collapsed": false
   },
   "outputs": [
    {
     "name": "stdout",
     "output_type": "stream",
     "text": [
      "8488/8488 [==============================] - 14s 2ms/step - loss: 113.2926\n"
     ]
    }
   ],
   "source": [
    "# Run the model, need to specifiy what is the optimizer used\n",
    "model.compile(loss=\"mse\", optimizer='adam')\n",
    "logs_mod7 = model.fit(x=x_train_norm,y=y_train, epochs=1,verbose=1)"
   ]
  },
  {
   "cell_type": "code",
   "execution_count": 40,
   "metadata": {
    "collapsed": true
   },
   "outputs": [],
   "source": [
    "# Save the model for future uses !\n",
    "model.save('model_2.h5')"
   ]
  },
  {
   "cell_type": "markdown",
   "metadata": {},
   "source": [
    "## Predicting the MSE"
   ]
  },
  {
   "cell_type": "code",
   "execution_count": 7,
   "metadata": {
    "collapsed": false
   },
   "outputs": [
    {
     "name": "stdout",
     "output_type": "stream",
     "text": [
      "The MSE on the train data set is equal to :  26.943005631785805\n",
      "The MSE on the test data set is equal to :  26.606113686641407\n"
     ]
    }
   ],
   "source": [
    "# Compute predictions from the model both on train and test sets\n",
    "y_predict_train = model.predict(x_train_norm)\n",
    "y_predict_test = model.predict(x_test_norm)\n",
    "\n",
    "print(\"The MSE on the train data set is equal to : \",mse(y_predict_train,y_train))\n",
    "print(\"The MSE on the test data set is equal to : \",mse(y_predict_test,y_test))"
   ]
  },
  {
   "cell_type": "code",
   "execution_count": null,
   "metadata": {
    "collapsed": true
   },
   "outputs": [],
   "source": []
  }
 ],
 "metadata": {
  "anaconda-cloud": {},
  "kernelspec": {
   "display_name": "Python [conda env:python36]",
   "language": "python",
   "name": "conda-env-python36-py"
  },
  "language_info": {
   "codemirror_mode": {
    "name": "ipython",
    "version": 3
   },
   "file_extension": ".py",
   "mimetype": "text/x-python",
   "name": "python",
   "nbconvert_exporter": "python",
   "pygments_lexer": "ipython3",
   "version": "3.6.12"
  }
 },
 "nbformat": 4,
 "nbformat_minor": 1
}
